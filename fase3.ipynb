{
 "cells": [
  {
   "cell_type": "markdown",
   "metadata": {},
   "source": [
    "## PASSO 0) Imports"
   ]
  },
  {
   "cell_type": "code",
   "execution_count": 28,
   "metadata": {
    "scrolled": true
   },
   "outputs": [
    {
     "name": "stdout",
     "output_type": "stream",
     "text": [
      "Requirement already satisfied: chardet in c:\\users\\gustavo\\anaconda3\\lib\\site-packages (4.0.0)\n"
     ]
    }
   ],
   "source": [
    "import sys\n",
    "import warnings\n",
    "import pandas as pd\n",
    "import seaborn as sns\n",
    "import matplotlib.pyplot as plt\n",
    "\n",
    "!{sys.executable} -m pip install chardet\n",
    "import chardet"
   ]
  },
  {
   "cell_type": "markdown",
   "metadata": {},
   "source": [
    "- [Fase 2](#Fase-2)\n",
    "- [Fase 3](#Fase-3)\n",
    "- [Fase 4](#Fase-4)\n",
    "- [Relatório](#Relatório)\n",
    "- [Perguntas](#Perguntas)"
   ]
  },
  {
   "cell_type": "markdown",
   "metadata": {},
   "source": [
    "### 0.1) Funções Auxiliares"
   ]
  },
  {
   "cell_type": "code",
   "execution_count": 29,
   "metadata": {},
   "outputs": [],
   "source": [
    "def find_outliers_tucker(series, threshold=1.5):\n",
    "    \"\"\"\n",
    "    Retorna os índices dos valores obtidos como outliers após calculados os limites superiores\n",
    "    e inferiores da Series em questão, utilizando o algoritmo de Tucker.\n",
    "    \"\"\"\n",
    "    q1 = series.quantile(0.25)\n",
    "    q3 = series.quantile(0.75)\n",
    "    iqr = q3 - q1\n",
    "\n",
    "    lower_limit = q1 - threshold * iqr\n",
    "    upper_limit = q3 + threshold * iqr\n",
    "\n",
    "    filtered_series = series[(series < lower_limit) | (series > upper_limit)]\n",
    "    \n",
    "    return filtered_series.index\n",
    "\n",
    "def imputa_rua(bairro, df):\n",
    "    return df[bairro]\n",
    "\n",
    "def imputa_bairro(rua, df):\n",
    "    rua_formatted = rua.split(',')[0]\n",
    "    imoveis = df.loc[df['Rua'] == rua_formatted]\n",
    "\n",
    "    if imoveis.shape[0] == 0:\n",
    "        bairro = None\n",
    "    else:\n",
    "        bairro = imoveis['Bairro'].unique()[0]\n",
    "\n",
    "    return bairro\n",
    "\n",
    "def jupyter_settings():\n",
    "    %matplotlib inline\n",
    "    warnings.filterwarnings('ignore')\n",
    "\n",
    "    plt.rcParams['figure.figsize'] = (24, 12)\n",
    "    plt.rcParams['font.size'] = 24\n",
    "    pd.set_option('display.float_format', '{:.2f}'.format)\n",
    "    pd.set_option('display.max_columns', 100)\n",
    "\n",
    "    sns.set()\n",
    "\n",
    "jupyter_settings()"
   ]
  },
  {
   "cell_type": "markdown",
   "metadata": {},
   "source": [
    "### 0.2) Carregando os Dados"
   ]
  },
  {
   "cell_type": "markdown",
   "metadata": {},
   "source": [
    "Carregando **dataset de imóveis** à venda na cidade de São Paulo"
   ]
  },
  {
   "cell_type": "code",
   "execution_count": 30,
   "metadata": {},
   "outputs": [
    {
     "data": {
      "text/html": [
       "<div>\n",
       "<style scoped>\n",
       "    .dataframe tbody tr th:only-of-type {\n",
       "        vertical-align: middle;\n",
       "    }\n",
       "\n",
       "    .dataframe tbody tr th {\n",
       "        vertical-align: top;\n",
       "    }\n",
       "\n",
       "    .dataframe thead th {\n",
       "        text-align: right;\n",
       "    }\n",
       "</style>\n",
       "<table border=\"1\" class=\"dataframe\">\n",
       "  <thead>\n",
       "    <tr style=\"text-align: right;\">\n",
       "      <th></th>\n",
       "      <th>Rua</th>\n",
       "      <th>Bairro</th>\n",
       "      <th>Cidade</th>\n",
       "      <th>Metragem</th>\n",
       "      <th>Quartos</th>\n",
       "      <th>Banheiros</th>\n",
       "      <th>Vagas</th>\n",
       "      <th>Valor</th>\n",
       "    </tr>\n",
       "  </thead>\n",
       "  <tbody>\n",
       "    <tr>\n",
       "      <th>0</th>\n",
       "      <td>Avenida Itacira, 255</td>\n",
       "      <td>Planalto Paulista</td>\n",
       "      <td>São Paulo</td>\n",
       "      <td>1000</td>\n",
       "      <td>4</td>\n",
       "      <td>8</td>\n",
       "      <td>6</td>\n",
       "      <td>R$ 7.000.000</td>\n",
       "    </tr>\n",
       "    <tr>\n",
       "      <th>1</th>\n",
       "      <td>Rua Aurelia Perez Alvarez, 42</td>\n",
       "      <td>Jardim dos Estados</td>\n",
       "      <td>São Paulo</td>\n",
       "      <td>496</td>\n",
       "      <td>4</td>\n",
       "      <td>4</td>\n",
       "      <td>4</td>\n",
       "      <td>R$ 3.700.000</td>\n",
       "    </tr>\n",
       "    <tr>\n",
       "      <th>2</th>\n",
       "      <td>Rua Alba Valdez</td>\n",
       "      <td>Jardim Reimberg</td>\n",
       "      <td>São Paulo</td>\n",
       "      <td>125</td>\n",
       "      <td>4</td>\n",
       "      <td>3</td>\n",
       "      <td>2</td>\n",
       "      <td>R$ 380.000</td>\n",
       "    </tr>\n",
       "    <tr>\n",
       "      <th>3</th>\n",
       "      <td>NaN</td>\n",
       "      <td>Jardim Morumbi</td>\n",
       "      <td>São Paulo</td>\n",
       "      <td>310</td>\n",
       "      <td>3</td>\n",
       "      <td>2</td>\n",
       "      <td>4</td>\n",
       "      <td>R$ 685.000</td>\n",
       "    </tr>\n",
       "    <tr>\n",
       "      <th>4</th>\n",
       "      <td>Rua Tobias Barreto, 195</td>\n",
       "      <td>Mooca</td>\n",
       "      <td>São Paulo</td>\n",
       "      <td>100</td>\n",
       "      <td>3</td>\n",
       "      <td>2</td>\n",
       "      <td>2</td>\n",
       "      <td>R$ 540.000</td>\n",
       "    </tr>\n",
       "  </tbody>\n",
       "</table>\n",
       "</div>"
      ],
      "text/plain": [
       "                              Rua              Bairro     Cidade  Metragem  \\\n",
       "0           Avenida Itacira, 255    Planalto Paulista  São Paulo      1000   \n",
       "1  Rua Aurelia Perez Alvarez, 42   Jardim dos Estados  São Paulo       496   \n",
       "2                 Rua Alba Valdez     Jardim Reimberg  São Paulo       125   \n",
       "3                             NaN      Jardim Morumbi  São Paulo       310   \n",
       "4        Rua Tobias Barreto, 195                Mooca  São Paulo       100   \n",
       "\n",
       "   Quartos  Banheiros  Vagas         Valor  \n",
       "0        4          8      6  R$ 7.000.000  \n",
       "1        4          4      4  R$ 3.700.000  \n",
       "2        4          3      2    R$ 380.000  \n",
       "3        3          2      4    R$ 685.000  \n",
       "4        3          2      2    R$ 540.000  "
      ]
     },
     "execution_count": 30,
     "metadata": {},
     "output_type": "execute_result"
    }
   ],
   "source": [
    "df_imoveis = pd.read_csv('./dados/dados_imoveis.csv')\n",
    "df_imoveis.head()"
   ]
  },
  {
   "cell_type": "markdown",
   "metadata": {},
   "source": [
    "<a id=\"Fase-2\"></a>"
   ]
  },
  {
   "cell_type": "markdown",
   "metadata": {},
   "source": [
    "# FASE 2\n",
    "___"
   ]
  },
  {
   "cell_type": "markdown",
   "metadata": {},
   "source": [
    "## PASSO 1) Descrição dos Dados"
   ]
  },
  {
   "cell_type": "code",
   "execution_count": 31,
   "metadata": {},
   "outputs": [],
   "source": [
    "df1_imoveis = df_imoveis.copy()"
   ]
  },
  {
   "cell_type": "code",
   "execution_count": 32,
   "metadata": {},
   "outputs": [
    {
     "name": "stdout",
     "output_type": "stream",
     "text": [
      "Número de linhas:  10008\n",
      "Número de colunas:  8\n"
     ]
    }
   ],
   "source": [
    "print('Número de linhas: ', df1_imoveis.shape[0])\n",
    "print('Número de colunas: ', df1_imoveis.shape[1])"
   ]
  },
  {
   "cell_type": "code",
   "execution_count": 33,
   "metadata": {},
   "outputs": [
    {
     "name": "stdout",
     "output_type": "stream",
     "text": [
      "<class 'pandas.core.frame.DataFrame'>\n",
      "RangeIndex: 10008 entries, 0 to 10007\n",
      "Data columns (total 8 columns):\n",
      " #   Column     Non-Null Count  Dtype \n",
      "---  ------     --------------  ----- \n",
      " 0   Rua        6574 non-null   object\n",
      " 1   Bairro     9996 non-null   object\n",
      " 2   Cidade     10008 non-null  object\n",
      " 3   Metragem   10008 non-null  int64 \n",
      " 4   Quartos    10008 non-null  int64 \n",
      " 5   Banheiros  10008 non-null  int64 \n",
      " 6   Vagas      10008 non-null  int64 \n",
      " 7   Valor      10008 non-null  object\n",
      "dtypes: int64(4), object(4)\n",
      "memory usage: 625.6+ KB\n"
     ]
    }
   ],
   "source": [
    "df1_imoveis.info()"
   ]
  },
  {
   "cell_type": "markdown",
   "metadata": {},
   "source": [
    "### 1.1) Tipos dos Dados"
   ]
  },
  {
   "cell_type": "code",
   "execution_count": 34,
   "metadata": {},
   "outputs": [
    {
     "data": {
      "text/plain": [
       "Rua          object\n",
       "Bairro       object\n",
       "Cidade       object\n",
       "Metragem      int64\n",
       "Quartos       int64\n",
       "Banheiros     int64\n",
       "Vagas         int64\n",
       "Valor        object\n",
       "dtype: object"
      ]
     },
     "execution_count": 34,
     "metadata": {},
     "output_type": "execute_result"
    }
   ],
   "source": [
    "df1_imoveis.dtypes"
   ]
  },
  {
   "cell_type": "markdown",
   "metadata": {},
   "source": [
    "O tipo da coluna `Valor` está errado, devendo ser transformada para numérica. Escolhemos transformá-la para int64, o que será feito mais a frente na *seção 1.3*."
   ]
  },
  {
   "cell_type": "markdown",
   "metadata": {},
   "source": [
    "### 1.2) Valores Nulos"
   ]
  },
  {
   "cell_type": "code",
   "execution_count": 35,
   "metadata": {},
   "outputs": [
    {
     "data": {
      "text/plain": [
       "Rua          3434\n",
       "Bairro         12\n",
       "Cidade          0\n",
       "Metragem        0\n",
       "Quartos         0\n",
       "Banheiros       0\n",
       "Vagas           0\n",
       "Valor           0\n",
       "dtype: int64"
      ]
     },
     "execution_count": 35,
     "metadata": {},
     "output_type": "execute_result"
    }
   ],
   "source": [
    "df1_imoveis.isna().sum()"
   ]
  },
  {
   "cell_type": "markdown",
   "metadata": {},
   "source": [
    "As variáveis `Rua` e `Bairro` possuem valores nulos que precisam ser tratados posteriormente."
   ]
  },
  {
   "cell_type": "markdown",
   "metadata": {},
   "source": [
    "# 1.3) Tratando Valores Nulos - RELATÓRIO"
   ]
  },
  {
   "cell_type": "markdown",
   "metadata": {},
   "source": [
    "Preenchendo valores nulos da coluna `Bairro`"
   ]
  },
  {
   "cell_type": "code",
   "execution_count": 36,
   "metadata": {
    "scrolled": false
   },
   "outputs": [
    {
     "data": {
      "text/html": [
       "<div>\n",
       "<style scoped>\n",
       "    .dataframe tbody tr th:only-of-type {\n",
       "        vertical-align: middle;\n",
       "    }\n",
       "\n",
       "    .dataframe tbody tr th {\n",
       "        vertical-align: top;\n",
       "    }\n",
       "\n",
       "    .dataframe thead th {\n",
       "        text-align: right;\n",
       "    }\n",
       "</style>\n",
       "<table border=\"1\" class=\"dataframe\">\n",
       "  <thead>\n",
       "    <tr style=\"text-align: right;\">\n",
       "      <th></th>\n",
       "      <th>Rua</th>\n",
       "      <th>Bairro</th>\n",
       "      <th>Cidade</th>\n",
       "      <th>Metragem</th>\n",
       "      <th>Quartos</th>\n",
       "      <th>Banheiros</th>\n",
       "      <th>Vagas</th>\n",
       "      <th>Valor</th>\n",
       "    </tr>\n",
       "  </thead>\n",
       "  <tbody>\n",
       "    <tr>\n",
       "      <th>7263</th>\n",
       "      <td>Rua Madalena de Morais, 3773</td>\n",
       "      <td>NaN</td>\n",
       "      <td>São Paulo</td>\n",
       "      <td>742</td>\n",
       "      <td>4</td>\n",
       "      <td>8</td>\n",
       "      <td>6</td>\n",
       "      <td>R$ 9.800\\r\\n                      /Mês</td>\n",
       "    </tr>\n",
       "    <tr>\n",
       "      <th>7956</th>\n",
       "      <td>Rua Vergueiro</td>\n",
       "      <td>NaN</td>\n",
       "      <td>São Paulo</td>\n",
       "      <td>103</td>\n",
       "      <td>3</td>\n",
       "      <td>2</td>\n",
       "      <td>2</td>\n",
       "      <td>R$ 640.000</td>\n",
       "    </tr>\n",
       "    <tr>\n",
       "      <th>7996</th>\n",
       "      <td>Rua Alvorada do Sul, 3773</td>\n",
       "      <td>NaN</td>\n",
       "      <td>São Paulo</td>\n",
       "      <td>678</td>\n",
       "      <td>4</td>\n",
       "      <td>8</td>\n",
       "      <td>8</td>\n",
       "      <td>R$ 6.895.000</td>\n",
       "    </tr>\n",
       "    <tr>\n",
       "      <th>8126</th>\n",
       "      <td>Rua Professor Eduardo Monteiro, 3773</td>\n",
       "      <td>NaN</td>\n",
       "      <td>São Paulo</td>\n",
       "      <td>550</td>\n",
       "      <td>3</td>\n",
       "      <td>5</td>\n",
       "      <td>6</td>\n",
       "      <td>R$ 4.000.000</td>\n",
       "    </tr>\n",
       "    <tr>\n",
       "      <th>8566</th>\n",
       "      <td>Avenida Comendador Adibo Ares, 3773</td>\n",
       "      <td>NaN</td>\n",
       "      <td>São Paulo</td>\n",
       "      <td>694</td>\n",
       "      <td>4</td>\n",
       "      <td>6</td>\n",
       "      <td>6</td>\n",
       "      <td>R$ 3.890.000</td>\n",
       "    </tr>\n",
       "    <tr>\n",
       "      <th>8619</th>\n",
       "      <td>Rua Alvorada do Sul, 3773</td>\n",
       "      <td>NaN</td>\n",
       "      <td>São Paulo</td>\n",
       "      <td>683</td>\n",
       "      <td>4</td>\n",
       "      <td>8</td>\n",
       "      <td>8</td>\n",
       "      <td>R$ 6.895.000</td>\n",
       "    </tr>\n",
       "    <tr>\n",
       "      <th>8739</th>\n",
       "      <td>Rua Alvorada do Sul, 3773</td>\n",
       "      <td>NaN</td>\n",
       "      <td>São Paulo</td>\n",
       "      <td>683</td>\n",
       "      <td>4</td>\n",
       "      <td>8</td>\n",
       "      <td>8</td>\n",
       "      <td>R$ 6.895.000</td>\n",
       "    </tr>\n",
       "    <tr>\n",
       "      <th>8868</th>\n",
       "      <td>Rua Professor Eduardo Monteiro, 3773</td>\n",
       "      <td>NaN</td>\n",
       "      <td>São Paulo</td>\n",
       "      <td>555</td>\n",
       "      <td>3</td>\n",
       "      <td>5</td>\n",
       "      <td>6</td>\n",
       "      <td>R$ 4.000.000</td>\n",
       "    </tr>\n",
       "    <tr>\n",
       "      <th>8943</th>\n",
       "      <td>Rua Santo Eufredo, 3773</td>\n",
       "      <td>NaN</td>\n",
       "      <td>São Paulo</td>\n",
       "      <td>846</td>\n",
       "      <td>4</td>\n",
       "      <td>8</td>\n",
       "      <td>8</td>\n",
       "      <td>R$ 30.000\\r\\n                      /Mês</td>\n",
       "    </tr>\n",
       "    <tr>\n",
       "      <th>8992</th>\n",
       "      <td>Rua Professor Eduardo Monteiro, 3773</td>\n",
       "      <td>NaN</td>\n",
       "      <td>São Paulo</td>\n",
       "      <td>555</td>\n",
       "      <td>3</td>\n",
       "      <td>5</td>\n",
       "      <td>6</td>\n",
       "      <td>R$ 4.000.000</td>\n",
       "    </tr>\n",
       "    <tr>\n",
       "      <th>9310</th>\n",
       "      <td>Rua Professor Lúcio Martins Rodrigues, 3773</td>\n",
       "      <td>NaN</td>\n",
       "      <td>São Paulo</td>\n",
       "      <td>358</td>\n",
       "      <td>4</td>\n",
       "      <td>6</td>\n",
       "      <td>7</td>\n",
       "      <td>R$ 1.600.000</td>\n",
       "    </tr>\n",
       "    <tr>\n",
       "      <th>9540</th>\n",
       "      <td>Rua Pacobá, 3773</td>\n",
       "      <td>NaN</td>\n",
       "      <td>São Paulo</td>\n",
       "      <td>1009</td>\n",
       "      <td>5</td>\n",
       "      <td>6</td>\n",
       "      <td>10</td>\n",
       "      <td>R$ 6.400.000</td>\n",
       "    </tr>\n",
       "  </tbody>\n",
       "</table>\n",
       "</div>"
      ],
      "text/plain": [
       "                                              Rua Bairro     Cidade  Metragem  \\\n",
       "7263                 Rua Madalena de Morais, 3773    NaN  São Paulo       742   \n",
       "7956                                Rua Vergueiro    NaN  São Paulo       103   \n",
       "7996                    Rua Alvorada do Sul, 3773    NaN  São Paulo       678   \n",
       "8126         Rua Professor Eduardo Monteiro, 3773    NaN  São Paulo       550   \n",
       "8566          Avenida Comendador Adibo Ares, 3773    NaN  São Paulo       694   \n",
       "8619                    Rua Alvorada do Sul, 3773    NaN  São Paulo       683   \n",
       "8739                    Rua Alvorada do Sul, 3773    NaN  São Paulo       683   \n",
       "8868         Rua Professor Eduardo Monteiro, 3773    NaN  São Paulo       555   \n",
       "8943                      Rua Santo Eufredo, 3773    NaN  São Paulo       846   \n",
       "8992         Rua Professor Eduardo Monteiro, 3773    NaN  São Paulo       555   \n",
       "9310  Rua Professor Lúcio Martins Rodrigues, 3773    NaN  São Paulo       358   \n",
       "9540                             Rua Pacobá, 3773    NaN  São Paulo      1009   \n",
       "\n",
       "      Quartos  Banheiros  Vagas                                    Valor  \n",
       "7263        4          8      6   R$ 9.800\\r\\n                      /Mês  \n",
       "7956        3          2      2                               R$ 640.000  \n",
       "7996        4          8      8                             R$ 6.895.000  \n",
       "8126        3          5      6                             R$ 4.000.000  \n",
       "8566        4          6      6                             R$ 3.890.000  \n",
       "8619        4          8      8                             R$ 6.895.000  \n",
       "8739        4          8      8                             R$ 6.895.000  \n",
       "8868        3          5      6                             R$ 4.000.000  \n",
       "8943        4          8      8  R$ 30.000\\r\\n                      /Mês  \n",
       "8992        3          5      6                             R$ 4.000.000  \n",
       "9310        4          6      7                             R$ 1.600.000  \n",
       "9540        5          6     10                             R$ 6.400.000  "
      ]
     },
     "execution_count": 36,
     "metadata": {},
     "output_type": "execute_result"
    }
   ],
   "source": [
    "df1_imoveis[df1_imoveis['Bairro'].isna()]"
   ]
  },
  {
   "cell_type": "markdown",
   "metadata": {},
   "source": [
    "#### 1.3.1) Tratando as ruas com número"
   ]
  },
  {
   "cell_type": "markdown",
   "metadata": {},
   "source": [
    "Após verificar os nomes das ruas, descobrimos que há algumas com números:"
   ]
  },
  {
   "cell_type": "code",
   "execution_count": 37,
   "metadata": {
    "scrolled": false
   },
   "outputs": [
    {
     "data": {
      "text/html": [
       "<div>\n",
       "<style scoped>\n",
       "    .dataframe tbody tr th:only-of-type {\n",
       "        vertical-align: middle;\n",
       "    }\n",
       "\n",
       "    .dataframe tbody tr th {\n",
       "        vertical-align: top;\n",
       "    }\n",
       "\n",
       "    .dataframe thead th {\n",
       "        text-align: right;\n",
       "    }\n",
       "</style>\n",
       "<table border=\"1\" class=\"dataframe\">\n",
       "  <thead>\n",
       "    <tr style=\"text-align: right;\">\n",
       "      <th></th>\n",
       "      <th>Rua</th>\n",
       "      <th>Bairro</th>\n",
       "      <th>Cidade</th>\n",
       "      <th>Metragem</th>\n",
       "      <th>Quartos</th>\n",
       "      <th>Banheiros</th>\n",
       "      <th>Vagas</th>\n",
       "      <th>Valor</th>\n",
       "    </tr>\n",
       "  </thead>\n",
       "  <tbody>\n",
       "    <tr>\n",
       "      <th>7476</th>\n",
       "      <td>Rua Geremia Lunardelli, 382</td>\n",
       "      <td>Jardim Peri Peri</td>\n",
       "      <td>São Paulo</td>\n",
       "      <td>200</td>\n",
       "      <td>3</td>\n",
       "      <td>5</td>\n",
       "      <td>4</td>\n",
       "      <td>R$ 900.000</td>\n",
       "    </tr>\n",
       "    <tr>\n",
       "      <th>2944</th>\n",
       "      <td>Rua Brigadeiro Gama Barcelos, 303</td>\n",
       "      <td>Parque Jabaquara</td>\n",
       "      <td>São Paulo</td>\n",
       "      <td>145</td>\n",
       "      <td>2</td>\n",
       "      <td>4</td>\n",
       "      <td>2</td>\n",
       "      <td>R$ 540.000</td>\n",
       "    </tr>\n",
       "    <tr>\n",
       "      <th>137</th>\n",
       "      <td>Rua Aquiramun, 94</td>\n",
       "      <td>Alto de Pinheiros</td>\n",
       "      <td>São Paulo</td>\n",
       "      <td>450</td>\n",
       "      <td>5</td>\n",
       "      <td>6</td>\n",
       "      <td>5</td>\n",
       "      <td>R$ 5.500.000</td>\n",
       "    </tr>\n",
       "    <tr>\n",
       "      <th>7786</th>\n",
       "      <td>Rua João Vilhema, 22</td>\n",
       "      <td>Planalto Paulista</td>\n",
       "      <td>São Paulo</td>\n",
       "      <td>175</td>\n",
       "      <td>3</td>\n",
       "      <td>3</td>\n",
       "      <td>2</td>\n",
       "      <td>R$ 4.800\\r\\n                      /Mês</td>\n",
       "    </tr>\n",
       "    <tr>\n",
       "      <th>8649</th>\n",
       "      <td>Rua Cordisburgo, 251</td>\n",
       "      <td>Jardim Leonor</td>\n",
       "      <td>São Paulo</td>\n",
       "      <td>855</td>\n",
       "      <td>4</td>\n",
       "      <td>4</td>\n",
       "      <td>6</td>\n",
       "      <td>R$ 6.500.000</td>\n",
       "    </tr>\n",
       "    <tr>\n",
       "      <th>5668</th>\n",
       "      <td>Rua Wagih Assad Abdalla, 138</td>\n",
       "      <td>Morumbi</td>\n",
       "      <td>São Paulo</td>\n",
       "      <td>683</td>\n",
       "      <td>4</td>\n",
       "      <td>6</td>\n",
       "      <td>4</td>\n",
       "      <td>R$ 10.000\\r\\n                      /Mês</td>\n",
       "    </tr>\n",
       "    <tr>\n",
       "      <th>6844</th>\n",
       "      <td>Rua Salvador Fiordelisio, 160</td>\n",
       "      <td>Vila Bertioga</td>\n",
       "      <td>São Paulo</td>\n",
       "      <td>77</td>\n",
       "      <td>3</td>\n",
       "      <td>4</td>\n",
       "      <td>2</td>\n",
       "      <td>R$ 599.000</td>\n",
       "    </tr>\n",
       "    <tr>\n",
       "      <th>9793</th>\n",
       "      <td>Rua João Lopes de Amorim, 405</td>\n",
       "      <td>Vila Nova Cachoeirinha</td>\n",
       "      <td>São Paulo</td>\n",
       "      <td>235</td>\n",
       "      <td>3</td>\n",
       "      <td>5</td>\n",
       "      <td>3</td>\n",
       "      <td>R$ 520.000</td>\n",
       "    </tr>\n",
       "    <tr>\n",
       "      <th>552</th>\n",
       "      <td>Rua Conselheiro Brotero, 121</td>\n",
       "      <td>Barra Funda</td>\n",
       "      <td>São Paulo</td>\n",
       "      <td>170</td>\n",
       "      <td>3</td>\n",
       "      <td>2</td>\n",
       "      <td>2</td>\n",
       "      <td>R$ 745.000</td>\n",
       "    </tr>\n",
       "    <tr>\n",
       "      <th>462</th>\n",
       "      <td>Rua Bernardino de Campos, 731</td>\n",
       "      <td>Campo Belo</td>\n",
       "      <td>São Paulo</td>\n",
       "      <td>180</td>\n",
       "      <td>3</td>\n",
       "      <td>3</td>\n",
       "      <td>2</td>\n",
       "      <td>R$ 900.000</td>\n",
       "    </tr>\n",
       "  </tbody>\n",
       "</table>\n",
       "</div>"
      ],
      "text/plain": [
       "                                     Rua                  Bairro     Cidade  \\\n",
       "7476        Rua Geremia Lunardelli, 382         Jardim Peri Peri  São Paulo   \n",
       "2944  Rua Brigadeiro Gama Barcelos, 303         Parque Jabaquara  São Paulo   \n",
       "137                   Rua Aquiramun, 94        Alto de Pinheiros  São Paulo   \n",
       "7786               Rua João Vilhema, 22        Planalto Paulista  São Paulo   \n",
       "8649               Rua Cordisburgo, 251            Jardim Leonor  São Paulo   \n",
       "5668       Rua Wagih Assad Abdalla, 138                  Morumbi  São Paulo   \n",
       "6844      Rua Salvador Fiordelisio, 160            Vila Bertioga  São Paulo   \n",
       "9793      Rua João Lopes de Amorim, 405   Vila Nova Cachoeirinha  São Paulo   \n",
       "552        Rua Conselheiro Brotero, 121              Barra Funda  São Paulo   \n",
       "462       Rua Bernardino de Campos, 731               Campo Belo  São Paulo   \n",
       "\n",
       "      Metragem  Quartos  Banheiros  Vagas  \\\n",
       "7476       200        3          5      4   \n",
       "2944       145        2          4      2   \n",
       "137        450        5          6      5   \n",
       "7786       175        3          3      2   \n",
       "8649       855        4          4      6   \n",
       "5668       683        4          6      4   \n",
       "6844        77        3          4      2   \n",
       "9793       235        3          5      3   \n",
       "552        170        3          2      2   \n",
       "462        180        3          3      2   \n",
       "\n",
       "                                        Valor  \n",
       "7476                               R$ 900.000  \n",
       "2944                               R$ 540.000  \n",
       "137                              R$ 5.500.000  \n",
       "7786   R$ 4.800\\r\\n                      /Mês  \n",
       "8649                             R$ 6.500.000  \n",
       "5668  R$ 10.000\\r\\n                      /Mês  \n",
       "6844                               R$ 599.000  \n",
       "9793                               R$ 520.000  \n",
       "552                                R$ 745.000  \n",
       "462                                R$ 900.000  "
      ]
     },
     "execution_count": 37,
     "metadata": {},
     "output_type": "execute_result"
    }
   ],
   "source": [
    "df1_imoveis[df1_imoveis['Rua'].str.contains(',') & df1_imoveis['Rua'].notna()].sample(10)"
   ]
  },
  {
   "cell_type": "markdown",
   "metadata": {},
   "source": [
    " "
   ]
  },
  {
   "cell_type": "markdown",
   "metadata": {},
   "source": [
    "O que poderá acarretar em distorções nos gráficos, criando variáveis diferentes para ruas iguais. Por exemplo:"
   ]
  },
  {
   "cell_type": "markdown",
   "metadata": {},
   "source": [
    " "
   ]
  },
  {
   "cell_type": "code",
   "execution_count": 38,
   "metadata": {
    "scrolled": false
   },
   "outputs": [
    {
     "data": {
      "text/html": [
       "<div>\n",
       "<style scoped>\n",
       "    .dataframe tbody tr th:only-of-type {\n",
       "        vertical-align: middle;\n",
       "    }\n",
       "\n",
       "    .dataframe tbody tr th {\n",
       "        vertical-align: top;\n",
       "    }\n",
       "\n",
       "    .dataframe thead th {\n",
       "        text-align: right;\n",
       "    }\n",
       "</style>\n",
       "<table border=\"1\" class=\"dataframe\">\n",
       "  <thead>\n",
       "    <tr style=\"text-align: right;\">\n",
       "      <th></th>\n",
       "      <th>Rua</th>\n",
       "      <th>Bairro</th>\n",
       "      <th>Cidade</th>\n",
       "      <th>Metragem</th>\n",
       "      <th>Quartos</th>\n",
       "      <th>Banheiros</th>\n",
       "      <th>Vagas</th>\n",
       "      <th>Valor</th>\n",
       "    </tr>\n",
       "  </thead>\n",
       "  <tbody>\n",
       "    <tr>\n",
       "      <th>370</th>\n",
       "      <td>Alameda dos Anapurus</td>\n",
       "      <td>Indianópolis</td>\n",
       "      <td>São Paulo</td>\n",
       "      <td>218</td>\n",
       "      <td>3</td>\n",
       "      <td>3</td>\n",
       "      <td>3</td>\n",
       "      <td>R$ 1.745.000</td>\n",
       "    </tr>\n",
       "    <tr>\n",
       "      <th>1868</th>\n",
       "      <td>Alameda dos Anapurus</td>\n",
       "      <td>Indianópolis</td>\n",
       "      <td>São Paulo</td>\n",
       "      <td>320</td>\n",
       "      <td>2</td>\n",
       "      <td>1</td>\n",
       "      <td>6</td>\n",
       "      <td>R$ 1.980.000</td>\n",
       "    </tr>\n",
       "    <tr>\n",
       "      <th>1880</th>\n",
       "      <td>Alameda dos Anapurus, 500</td>\n",
       "      <td>Indianópolis</td>\n",
       "      <td>São Paulo</td>\n",
       "      <td>400</td>\n",
       "      <td>5</td>\n",
       "      <td>6</td>\n",
       "      <td>5</td>\n",
       "      <td>R$ 4.000.000</td>\n",
       "    </tr>\n",
       "    <tr>\n",
       "      <th>1970</th>\n",
       "      <td>Alameda dos Anapurus</td>\n",
       "      <td>Indianópolis</td>\n",
       "      <td>São Paulo</td>\n",
       "      <td>325</td>\n",
       "      <td>2</td>\n",
       "      <td>1</td>\n",
       "      <td>6</td>\n",
       "      <td>R$ 1.980.000</td>\n",
       "    </tr>\n",
       "    <tr>\n",
       "      <th>1982</th>\n",
       "      <td>Alameda dos Anapurus, 500</td>\n",
       "      <td>Indianópolis</td>\n",
       "      <td>São Paulo</td>\n",
       "      <td>405</td>\n",
       "      <td>5</td>\n",
       "      <td>6</td>\n",
       "      <td>5</td>\n",
       "      <td>R$ 4.000.000</td>\n",
       "    </tr>\n",
       "    <tr>\n",
       "      <th>2300</th>\n",
       "      <td>Alameda dos Anapurus</td>\n",
       "      <td>Indianópolis</td>\n",
       "      <td>São Paulo</td>\n",
       "      <td>218</td>\n",
       "      <td>3</td>\n",
       "      <td>3</td>\n",
       "      <td>3</td>\n",
       "      <td>R$ 1.690.000</td>\n",
       "    </tr>\n",
       "    <tr>\n",
       "      <th>7215</th>\n",
       "      <td>Alameda dos Anapurus, 194</td>\n",
       "      <td>Indianópolis</td>\n",
       "      <td>São Paulo</td>\n",
       "      <td>600</td>\n",
       "      <td>4</td>\n",
       "      <td>7</td>\n",
       "      <td>6</td>\n",
       "      <td>R$ 3.300.000</td>\n",
       "    </tr>\n",
       "    <tr>\n",
       "      <th>7305</th>\n",
       "      <td>Alameda dos Anapurus, 194</td>\n",
       "      <td>Indianópolis</td>\n",
       "      <td>São Paulo</td>\n",
       "      <td>605</td>\n",
       "      <td>4</td>\n",
       "      <td>7</td>\n",
       "      <td>6</td>\n",
       "      <td>R$ 3.300.000</td>\n",
       "    </tr>\n",
       "    <tr>\n",
       "      <th>9772</th>\n",
       "      <td>Alameda dos Anapurus, 1885</td>\n",
       "      <td>Indianópolis</td>\n",
       "      <td>São Paulo</td>\n",
       "      <td>218</td>\n",
       "      <td>3</td>\n",
       "      <td>2</td>\n",
       "      <td>3</td>\n",
       "      <td>R$ 1.690.000</td>\n",
       "    </tr>\n",
       "  </tbody>\n",
       "</table>\n",
       "</div>"
      ],
      "text/plain": [
       "                              Rua        Bairro     Cidade  Metragem  Quartos  \\\n",
       "370          Alameda dos Anapurus  Indianópolis  São Paulo       218        3   \n",
       "1868         Alameda dos Anapurus  Indianópolis  São Paulo       320        2   \n",
       "1880   Alameda dos Anapurus, 500   Indianópolis  São Paulo       400        5   \n",
       "1970         Alameda dos Anapurus  Indianópolis  São Paulo       325        2   \n",
       "1982   Alameda dos Anapurus, 500   Indianópolis  São Paulo       405        5   \n",
       "2300         Alameda dos Anapurus  Indianópolis  São Paulo       218        3   \n",
       "7215   Alameda dos Anapurus, 194   Indianópolis  São Paulo       600        4   \n",
       "7305   Alameda dos Anapurus, 194   Indianópolis  São Paulo       605        4   \n",
       "9772  Alameda dos Anapurus, 1885   Indianópolis  São Paulo       218        3   \n",
       "\n",
       "      Banheiros  Vagas         Valor  \n",
       "370           3      3  R$ 1.745.000  \n",
       "1868          1      6  R$ 1.980.000  \n",
       "1880          6      5  R$ 4.000.000  \n",
       "1970          1      6  R$ 1.980.000  \n",
       "1982          6      5  R$ 4.000.000  \n",
       "2300          3      3  R$ 1.690.000  \n",
       "7215          7      6  R$ 3.300.000  \n",
       "7305          7      6  R$ 3.300.000  \n",
       "9772          2      3  R$ 1.690.000  "
      ]
     },
     "execution_count": 38,
     "metadata": {},
     "output_type": "execute_result"
    }
   ],
   "source": [
    "df1_imoveis[df1_imoveis['Rua'].str.contains('Alameda dos Anapurus') & df1_imoveis['Rua'].notna()]"
   ]
  },
  {
   "cell_type": "markdown",
   "metadata": {},
   "source": [
    "Como podemos observar, temos 9 ruas de mesmo nome. Se criarmos algum gráfico com um dos eixos sendo a coluna Rua, teremos 4 elementos para uma mesma rua, gerando assim dados errados.\n",
    "\n",
    "\n",
    "Corrigindo os nomes da variável `Rua`"
   ]
  },
  {
   "cell_type": "code",
   "execution_count": 39,
   "metadata": {},
   "outputs": [],
   "source": [
    "df1_imoveis['Rua'] = df1_imoveis['Rua'].str.split(',').str[0]"
   ]
  },
  {
   "cell_type": "markdown",
   "metadata": {},
   "source": [
    "---"
   ]
  },
  {
   "cell_type": "code",
   "execution_count": 40,
   "metadata": {},
   "outputs": [
    {
     "data": {
      "text/html": [
       "<div>\n",
       "<style scoped>\n",
       "    .dataframe tbody tr th:only-of-type {\n",
       "        vertical-align: middle;\n",
       "    }\n",
       "\n",
       "    .dataframe tbody tr th {\n",
       "        vertical-align: top;\n",
       "    }\n",
       "\n",
       "    .dataframe thead th {\n",
       "        text-align: right;\n",
       "    }\n",
       "</style>\n",
       "<table border=\"1\" class=\"dataframe\">\n",
       "  <thead>\n",
       "    <tr style=\"text-align: right;\">\n",
       "      <th></th>\n",
       "      <th>Rua</th>\n",
       "      <th>Bairro</th>\n",
       "      <th>Cidade</th>\n",
       "      <th>Metragem</th>\n",
       "      <th>Quartos</th>\n",
       "      <th>Banheiros</th>\n",
       "      <th>Vagas</th>\n",
       "      <th>Valor</th>\n",
       "    </tr>\n",
       "  </thead>\n",
       "  <tbody>\n",
       "    <tr>\n",
       "      <th>1333</th>\n",
       "      <td>Rua Madalena de Morais</td>\n",
       "      <td>Jardim Leonor</td>\n",
       "      <td>São Paulo</td>\n",
       "      <td>950</td>\n",
       "      <td>4</td>\n",
       "      <td>3</td>\n",
       "      <td>4</td>\n",
       "      <td>R$ 4.000.000</td>\n",
       "    </tr>\n",
       "    <tr>\n",
       "      <th>3155</th>\n",
       "      <td>Rua Madalena de Morais</td>\n",
       "      <td>Jardim Leonor</td>\n",
       "      <td>São Paulo</td>\n",
       "      <td>800</td>\n",
       "      <td>5</td>\n",
       "      <td>8</td>\n",
       "      <td>6</td>\n",
       "      <td>R$ 8.000.000</td>\n",
       "    </tr>\n",
       "    <tr>\n",
       "      <th>7263</th>\n",
       "      <td>Rua Madalena de Morais</td>\n",
       "      <td>NaN</td>\n",
       "      <td>São Paulo</td>\n",
       "      <td>742</td>\n",
       "      <td>4</td>\n",
       "      <td>8</td>\n",
       "      <td>6</td>\n",
       "      <td>R$ 9.800\\r\\n                      /Mês</td>\n",
       "    </tr>\n",
       "    <tr>\n",
       "      <th>7458</th>\n",
       "      <td>Rua Madalena de Morais</td>\n",
       "      <td>Jardim Leonor</td>\n",
       "      <td>São Paulo</td>\n",
       "      <td>726</td>\n",
       "      <td>4</td>\n",
       "      <td>8</td>\n",
       "      <td>9</td>\n",
       "      <td>R$ 4.500.000</td>\n",
       "    </tr>\n",
       "  </tbody>\n",
       "</table>\n",
       "</div>"
      ],
      "text/plain": [
       "                         Rua         Bairro     Cidade  Metragem  Quartos  \\\n",
       "1333  Rua Madalena de Morais  Jardim Leonor  São Paulo       950        4   \n",
       "3155  Rua Madalena de Morais  Jardim Leonor  São Paulo       800        5   \n",
       "7263  Rua Madalena de Morais            NaN  São Paulo       742        4   \n",
       "7458  Rua Madalena de Morais  Jardim Leonor  São Paulo       726        4   \n",
       "\n",
       "      Banheiros  Vagas                                   Valor  \n",
       "1333          3      4                            R$ 4.000.000  \n",
       "3155          8      6                            R$ 8.000.000  \n",
       "7263          8      6  R$ 9.800\\r\\n                      /Mês  \n",
       "7458          8      9                            R$ 4.500.000  "
      ]
     },
     "execution_count": 40,
     "metadata": {},
     "output_type": "execute_result"
    }
   ],
   "source": [
    "df1_imoveis.loc[df1_imoveis['Rua'] == 'Rua Madalena de Morais']"
   ]
  },
  {
   "cell_type": "markdown",
   "metadata": {},
   "source": [
    "Nota-se que existem imóveis no dataset que são da mesma Rua e que algum deles possui o valor correto da coluna Bairro. Basta imputar-mos estes valores aos imóveis com o dado faltante, para isso iremos criar um função `imputa_bairro()` que será definida na *seção 0.2*."
   ]
  },
  {
   "cell_type": "code",
   "execution_count": 41,
   "metadata": {},
   "outputs": [],
   "source": [
    "# removendo os valores nulos da coluna Bairro atraves da funcao imputa_bairro()\n",
    "df1_imoveis['Bairro'] = df1_imoveis.apply(lambda x: x['Bairro'] if pd.notnull(x['Bairro']) \\\n",
    "                                else imputa_bairro(x['Rua'], df1_imoveis), axis=1)"
   ]
  },
  {
   "cell_type": "code",
   "execution_count": 42,
   "metadata": {},
   "outputs": [
    {
     "data": {
      "text/plain": [
       "Rua       3434\n",
       "Bairro       1\n",
       "dtype: int64"
      ]
     },
     "execution_count": 42,
     "metadata": {},
     "output_type": "execute_result"
    }
   ],
   "source": [
    "# checando novamente o número de valores nulos na coluna bairro após a primeira limpeza\n",
    "df1_imoveis.isna().sum()[df1_imoveis.isna().sum() > 0]"
   ]
  },
  {
   "cell_type": "markdown",
   "metadata": {},
   "source": [
    "Nota-se que restou apenas um imóvel com valor nulo na coluna `Bairro`, o qual nós iremos dropar do dataset."
   ]
  },
  {
   "cell_type": "code",
   "execution_count": 43,
   "metadata": {},
   "outputs": [
    {
     "name": "stdout",
     "output_type": "stream",
     "text": [
      "Total de valores nulos na coluna Bairro = 0\n"
     ]
    }
   ],
   "source": [
    "# dropando o dado com valor nulo\n",
    "df1_imoveis.dropna(subset=['Bairro'], inplace=True)\n",
    "\n",
    "# checando novamente a quantiadde de valores nulos\n",
    "print(f'Total de valores nulos na coluna Bairro = {df1_imoveis[\"Bairro\"].isna().sum()}')"
   ]
  },
  {
   "cell_type": "markdown",
   "metadata": {},
   "source": [
    "Preenchendo valores nulos da variável `Rua`"
   ]
  },
  {
   "cell_type": "code",
   "execution_count": 44,
   "metadata": {},
   "outputs": [
    {
     "data": {
      "text/html": [
       "<div>\n",
       "<style scoped>\n",
       "    .dataframe tbody tr th:only-of-type {\n",
       "        vertical-align: middle;\n",
       "    }\n",
       "\n",
       "    .dataframe tbody tr th {\n",
       "        vertical-align: top;\n",
       "    }\n",
       "\n",
       "    .dataframe thead th {\n",
       "        text-align: right;\n",
       "    }\n",
       "</style>\n",
       "<table border=\"1\" class=\"dataframe\">\n",
       "  <thead>\n",
       "    <tr style=\"text-align: right;\">\n",
       "      <th></th>\n",
       "      <th>Rua</th>\n",
       "      <th>Bairro</th>\n",
       "      <th>Cidade</th>\n",
       "      <th>Metragem</th>\n",
       "      <th>Quartos</th>\n",
       "      <th>Banheiros</th>\n",
       "      <th>Vagas</th>\n",
       "      <th>Valor</th>\n",
       "    </tr>\n",
       "  </thead>\n",
       "  <tbody>\n",
       "    <tr>\n",
       "      <th>3</th>\n",
       "      <td>NaN</td>\n",
       "      <td>Jardim Morumbi</td>\n",
       "      <td>São Paulo</td>\n",
       "      <td>310</td>\n",
       "      <td>3</td>\n",
       "      <td>2</td>\n",
       "      <td>4</td>\n",
       "      <td>R$ 685.000</td>\n",
       "    </tr>\n",
       "    <tr>\n",
       "      <th>11</th>\n",
       "      <td>NaN</td>\n",
       "      <td>Jardim Luzitânia</td>\n",
       "      <td>São Paulo</td>\n",
       "      <td>436</td>\n",
       "      <td>4</td>\n",
       "      <td>3</td>\n",
       "      <td>3</td>\n",
       "      <td>R$ 15.000</td>\n",
       "    </tr>\n",
       "    <tr>\n",
       "      <th>31</th>\n",
       "      <td>NaN</td>\n",
       "      <td>Parque da Lapa</td>\n",
       "      <td>São Paulo</td>\n",
       "      <td>220</td>\n",
       "      <td>4</td>\n",
       "      <td>4</td>\n",
       "      <td>3</td>\n",
       "      <td>R$ 849.000</td>\n",
       "    </tr>\n",
       "    <tr>\n",
       "      <th>56</th>\n",
       "      <td>NaN</td>\n",
       "      <td>Chácara Santo Antônio (Zona Sul)</td>\n",
       "      <td>São Paulo</td>\n",
       "      <td>190</td>\n",
       "      <td>2</td>\n",
       "      <td>2</td>\n",
       "      <td>2</td>\n",
       "      <td>R$ 1.100.000</td>\n",
       "    </tr>\n",
       "    <tr>\n",
       "      <th>57</th>\n",
       "      <td>NaN</td>\n",
       "      <td>Jardim Guedala</td>\n",
       "      <td>São Paulo</td>\n",
       "      <td>650</td>\n",
       "      <td>4</td>\n",
       "      <td>6</td>\n",
       "      <td>4</td>\n",
       "      <td>R$ 5.500.000</td>\n",
       "    </tr>\n",
       "  </tbody>\n",
       "</table>\n",
       "</div>"
      ],
      "text/plain": [
       "    Rua                            Bairro     Cidade  Metragem  Quartos  \\\n",
       "3   NaN                    Jardim Morumbi  São Paulo       310        3   \n",
       "11  NaN                  Jardim Luzitânia  São Paulo       436        4   \n",
       "31  NaN                    Parque da Lapa  São Paulo       220        4   \n",
       "56  NaN  Chácara Santo Antônio (Zona Sul)  São Paulo       190        2   \n",
       "57  NaN                    Jardim Guedala  São Paulo       650        4   \n",
       "\n",
       "    Banheiros  Vagas         Valor  \n",
       "3           2      4    R$ 685.000  \n",
       "11          3      3     R$ 15.000  \n",
       "31          4      3    R$ 849.000  \n",
       "56          2      2  R$ 1.100.000  \n",
       "57          6      4  R$ 5.500.000  "
      ]
     },
     "execution_count": 44,
     "metadata": {},
     "output_type": "execute_result"
    }
   ],
   "source": [
    "df1_imoveis.loc[df1_imoveis['Rua'].isna(), :].head()"
   ]
  },
  {
   "cell_type": "markdown",
   "metadata": {},
   "source": [
    "Anteriormente nós garantimos que não existem dados com valores nulos para a coluna Bairro, uma das soluções para imputar a variável Rua seria obter uma Rua aleatório do mesmo bairro do dado em questão, outra solução seria simplesmente deletar todos os dados com valores de Rua faltante."
   ]
  },
  {
   "cell_type": "code",
   "execution_count": 45,
   "metadata": {},
   "outputs": [
    {
     "name": "stdout",
     "output_type": "stream",
     "text": [
      "Porcentagem dos dados com valores faltantes para a coluan Rua = 34.31%\n"
     ]
    }
   ],
   "source": [
    "# Analisando a viabilidade de deletar todas as linhas com Rua faltante\n",
    "tot_sem_rua = df1_imoveis.loc[df1_imoveis['Rua'].isna(), :].shape[0]\n",
    "porc_sem_rua = tot_sem_rua / df_imoveis.shape[0] * 100\n",
    "print(f'Porcentagem dos dados com valores faltantes para a coluan Rua = {porc_sem_rua:.2f}%')"
   ]
  },
  {
   "cell_type": "markdown",
   "metadata": {},
   "source": [
    "Cerca de **35%** dos dados em nosso conjunto de dados não possuem valor para a variável Rua, o que é uma parcela bastante significativa. A simples exclusão destes dados acarretaria numa perda significativa da informação como um todo, por isso decidimos mantê-los e atribuir um valor aleatório de rua que seja do mesmo Bairro."
   ]
  },
  {
   "cell_type": "code",
   "execution_count": 46,
   "metadata": {},
   "outputs": [],
   "source": [
    "# agrupa os dados por bairro e obtem a rua mais frequente para cada bairro \n",
    "# ou None caso o bairro nao possua ruas no dataset\n",
    "#df_bairros = df1_imoveis.groupby('Bairro')['Rua'].agg(lambda x: x.mode().iat[0] if len(x.mode()) > 0 else None)"
   ]
  },
  {
   "cell_type": "code",
   "execution_count": 47,
   "metadata": {},
   "outputs": [],
   "source": [
    "# removendo os valores nulos da coluna Bairro atraves da funcao imputa_bairro()\n",
    "#df1_imoveis['Rua'] = df1_imoveis.apply(lambda x: x['Rua'] if pd.notnull(x['Rua']) \\\n",
    "#                                else imputa_rua(x['Bairro'], df_bairros), axis=1)"
   ]
  },
  {
   "cell_type": "code",
   "execution_count": 48,
   "metadata": {},
   "outputs": [],
   "source": [
    "# checando novamente o número de valores nulos na coluna Rua após a primeira limpeza\n",
    "#df1_imoveis.isna().sum()[df1_imoveis.isna().sum() > 0]"
   ]
  },
  {
   "cell_type": "markdown",
   "metadata": {},
   "source": [
    " "
   ]
  },
  {
   "cell_type": "code",
   "execution_count": 49,
   "metadata": {},
   "outputs": [],
   "source": [
    "#df1_imoveis.dropna(subset=['Rua'], inplace=True)"
   ]
  },
  {
   "cell_type": "markdown",
   "metadata": {},
   "source": [
    "Por fim, checando o valor atualizado de valores nulos que deve ser igual a 0. Nosso dataset agora está limpo."
   ]
  },
  {
   "cell_type": "code",
   "execution_count": 50,
   "metadata": {
    "scrolled": false
   },
   "outputs": [
    {
     "data": {
      "text/plain": [
       "Rua          3434\n",
       "Bairro          0\n",
       "Cidade          0\n",
       "Metragem        0\n",
       "Quartos         0\n",
       "Banheiros       0\n",
       "Vagas           0\n",
       "Valor           0\n",
       "dtype: int64"
      ]
     },
     "execution_count": 50,
     "metadata": {},
     "output_type": "execute_result"
    }
   ],
   "source": [
    "df1_imoveis.isna().sum()"
   ]
  },
  {
   "cell_type": "markdown",
   "metadata": {},
   "source": [
    "Após analisar o resultado da nossa atribuição de ruas, vimos que, examinando as ruas dos imóveis no Google Maps, algumas não condiziam com os dados dos imóveis, seja em tamanho do imóvel ou em valor. Gerando assim, resultados totalmente diferentes e imprecisos na montagem dos gráficos, com isso decidimos manter as ruas sem valor e focar nossa análise a partir dos bairros."
   ]
  },
  {
   "cell_type": "code",
   "execution_count": null,
   "metadata": {},
   "outputs": [],
   "source": []
  },
  {
   "cell_type": "markdown",
   "metadata": {},
   "source": [
    "# MANTER NA SEÇÃO DA FASE 2       V"
   ]
  },
  {
   "cell_type": "code",
   "execution_count": null,
   "metadata": {},
   "outputs": [],
   "source": []
  },
  {
   "cell_type": "markdown",
   "metadata": {},
   "source": [
    "### 1.3) Buscando Variáveis com Tipos de Dados Incorretos"
   ]
  },
  {
   "cell_type": "markdown",
   "metadata": {},
   "source": [
    "**Variável `Valor`**"
   ]
  },
  {
   "cell_type": "markdown",
   "metadata": {},
   "source": [
    "Analisando os valores desta coluna descobrimos que ela não somente mostra o valor absoluto das casas, mas para algumas linhas ela mostra o valor do aluguel, podendo este ser diário, mensal ou anual."
   ]
  },
  {
   "cell_type": "markdown",
   "metadata": {},
   "source": [
    "Aluguel Diário"
   ]
  },
  {
   "cell_type": "code",
   "execution_count": 51,
   "metadata": {},
   "outputs": [
    {
     "data": {
      "text/html": [
       "<div>\n",
       "<style scoped>\n",
       "    .dataframe tbody tr th:only-of-type {\n",
       "        vertical-align: middle;\n",
       "    }\n",
       "\n",
       "    .dataframe tbody tr th {\n",
       "        vertical-align: top;\n",
       "    }\n",
       "\n",
       "    .dataframe thead th {\n",
       "        text-align: right;\n",
       "    }\n",
       "</style>\n",
       "<table border=\"1\" class=\"dataframe\">\n",
       "  <thead>\n",
       "    <tr style=\"text-align: right;\">\n",
       "      <th></th>\n",
       "      <th>Rua</th>\n",
       "      <th>Bairro</th>\n",
       "      <th>Cidade</th>\n",
       "      <th>Metragem</th>\n",
       "      <th>Quartos</th>\n",
       "      <th>Banheiros</th>\n",
       "      <th>Vagas</th>\n",
       "      <th>Valor</th>\n",
       "    </tr>\n",
       "  </thead>\n",
       "  <tbody>\n",
       "    <tr>\n",
       "      <th>6639</th>\n",
       "      <td>NaN</td>\n",
       "      <td>Jardim Guedala</td>\n",
       "      <td>São Paulo</td>\n",
       "      <td>572</td>\n",
       "      <td>4</td>\n",
       "      <td>6</td>\n",
       "      <td>7</td>\n",
       "      <td>R$ 15.000\\r\\n                      /Dia</td>\n",
       "    </tr>\n",
       "    <tr>\n",
       "      <th>7421</th>\n",
       "      <td>NaN</td>\n",
       "      <td>Jardim Guedala</td>\n",
       "      <td>São Paulo</td>\n",
       "      <td>577</td>\n",
       "      <td>4</td>\n",
       "      <td>6</td>\n",
       "      <td>7</td>\n",
       "      <td>R$ 15.000\\r\\n                      /Dia</td>\n",
       "    </tr>\n",
       "  </tbody>\n",
       "</table>\n",
       "</div>"
      ],
      "text/plain": [
       "      Rua          Bairro     Cidade  Metragem  Quartos  Banheiros  Vagas  \\\n",
       "6639  NaN  Jardim Guedala  São Paulo       572        4          6      7   \n",
       "7421  NaN  Jardim Guedala  São Paulo       577        4          6      7   \n",
       "\n",
       "                                        Valor  \n",
       "6639  R$ 15.000\\r\\n                      /Dia  \n",
       "7421  R$ 15.000\\r\\n                      /Dia  "
      ]
     },
     "execution_count": 51,
     "metadata": {},
     "output_type": "execute_result"
    }
   ],
   "source": [
    "df1_imoveis[df1_imoveis['Valor'].str.contains('Dia')]"
   ]
  },
  {
   "cell_type": "markdown",
   "metadata": {},
   "source": [
    "Aluguel Mensal"
   ]
  },
  {
   "cell_type": "code",
   "execution_count": 52,
   "metadata": {},
   "outputs": [
    {
     "data": {
      "text/html": [
       "<div>\n",
       "<style scoped>\n",
       "    .dataframe tbody tr th:only-of-type {\n",
       "        vertical-align: middle;\n",
       "    }\n",
       "\n",
       "    .dataframe tbody tr th {\n",
       "        vertical-align: top;\n",
       "    }\n",
       "\n",
       "    .dataframe thead th {\n",
       "        text-align: right;\n",
       "    }\n",
       "</style>\n",
       "<table border=\"1\" class=\"dataframe\">\n",
       "  <thead>\n",
       "    <tr style=\"text-align: right;\">\n",
       "      <th></th>\n",
       "      <th>Rua</th>\n",
       "      <th>Bairro</th>\n",
       "      <th>Cidade</th>\n",
       "      <th>Metragem</th>\n",
       "      <th>Quartos</th>\n",
       "      <th>Banheiros</th>\n",
       "      <th>Vagas</th>\n",
       "      <th>Valor</th>\n",
       "    </tr>\n",
       "  </thead>\n",
       "  <tbody>\n",
       "    <tr>\n",
       "      <th>151</th>\n",
       "      <td>Rua Fonseca da Costa</td>\n",
       "      <td>Bosque da Saúde</td>\n",
       "      <td>São Paulo</td>\n",
       "      <td>650</td>\n",
       "      <td>4</td>\n",
       "      <td>6</td>\n",
       "      <td>12</td>\n",
       "      <td>R$ 11.000\\r\\n                      /Mês</td>\n",
       "    </tr>\n",
       "    <tr>\n",
       "      <th>156</th>\n",
       "      <td>NaN</td>\n",
       "      <td>Jardim Paulistano</td>\n",
       "      <td>São Paulo</td>\n",
       "      <td>230</td>\n",
       "      <td>2</td>\n",
       "      <td>3</td>\n",
       "      <td>2</td>\n",
       "      <td>R$ 12.000\\r\\n                      /Mês</td>\n",
       "    </tr>\n",
       "    <tr>\n",
       "      <th>175</th>\n",
       "      <td>Rua Maestro Elias Lobo</td>\n",
       "      <td>Jardim Paulista</td>\n",
       "      <td>São Paulo</td>\n",
       "      <td>542</td>\n",
       "      <td>5</td>\n",
       "      <td>8</td>\n",
       "      <td>4</td>\n",
       "      <td>R$ 25.000\\r\\n                      /Mês</td>\n",
       "    </tr>\n",
       "    <tr>\n",
       "      <th>178</th>\n",
       "      <td>Rua Guararapes</td>\n",
       "      <td>Lapa</td>\n",
       "      <td>São Paulo</td>\n",
       "      <td>515</td>\n",
       "      <td>3</td>\n",
       "      <td>5</td>\n",
       "      <td>8</td>\n",
       "      <td>R$ 30.000\\r\\n                      /Mês</td>\n",
       "    </tr>\n",
       "    <tr>\n",
       "      <th>182</th>\n",
       "      <td>Rua Alvarenga</td>\n",
       "      <td>Butantã</td>\n",
       "      <td>São Paulo</td>\n",
       "      <td>400</td>\n",
       "      <td>4</td>\n",
       "      <td>3</td>\n",
       "      <td>4</td>\n",
       "      <td>R$ 10.000\\r\\n                      /Mês</td>\n",
       "    </tr>\n",
       "  </tbody>\n",
       "</table>\n",
       "</div>"
      ],
      "text/plain": [
       "                        Rua             Bairro     Cidade  Metragem  Quartos  \\\n",
       "151    Rua Fonseca da Costa    Bosque da Saúde  São Paulo       650        4   \n",
       "156                     NaN  Jardim Paulistano  São Paulo       230        2   \n",
       "175  Rua Maestro Elias Lobo    Jardim Paulista  São Paulo       542        5   \n",
       "178          Rua Guararapes               Lapa  São Paulo       515        3   \n",
       "182           Rua Alvarenga            Butantã  São Paulo       400        4   \n",
       "\n",
       "     Banheiros  Vagas                                    Valor  \n",
       "151          6     12  R$ 11.000\\r\\n                      /Mês  \n",
       "156          3      2  R$ 12.000\\r\\n                      /Mês  \n",
       "175          8      4  R$ 25.000\\r\\n                      /Mês  \n",
       "178          5      8  R$ 30.000\\r\\n                      /Mês  \n",
       "182          3      4  R$ 10.000\\r\\n                      /Mês  "
      ]
     },
     "execution_count": 52,
     "metadata": {},
     "output_type": "execute_result"
    }
   ],
   "source": [
    "df_imoveis_alugar = df1_imoveis[df1_imoveis['Valor'].str.contains('Mês')]\n",
    "df_imoveis_alugar.head()"
   ]
  },
  {
   "cell_type": "code",
   "execution_count": 53,
   "metadata": {},
   "outputs": [
    {
     "name": "stdout",
     "output_type": "stream",
     "text": [
      "Porcentagem de imoveis com alguel mensal: 8.47%\n"
     ]
    }
   ],
   "source": [
    "alugar_prct = df_imoveis_alugar.shape[0] / df1_imoveis.shape[0]  * 100\n",
    "print(f\"Porcentagem de imoveis com alguel mensal: {alugar_prct:.2f}%\")"
   ]
  },
  {
   "cell_type": "markdown",
   "metadata": {},
   "source": [
    "Aluguel Anual"
   ]
  },
  {
   "cell_type": "code",
   "execution_count": 54,
   "metadata": {
    "scrolled": true
   },
   "outputs": [
    {
     "data": {
      "text/html": [
       "<div>\n",
       "<style scoped>\n",
       "    .dataframe tbody tr th:only-of-type {\n",
       "        vertical-align: middle;\n",
       "    }\n",
       "\n",
       "    .dataframe tbody tr th {\n",
       "        vertical-align: top;\n",
       "    }\n",
       "\n",
       "    .dataframe thead th {\n",
       "        text-align: right;\n",
       "    }\n",
       "</style>\n",
       "<table border=\"1\" class=\"dataframe\">\n",
       "  <thead>\n",
       "    <tr style=\"text-align: right;\">\n",
       "      <th></th>\n",
       "      <th>Rua</th>\n",
       "      <th>Bairro</th>\n",
       "      <th>Cidade</th>\n",
       "      <th>Metragem</th>\n",
       "      <th>Quartos</th>\n",
       "      <th>Banheiros</th>\n",
       "      <th>Vagas</th>\n",
       "      <th>Valor</th>\n",
       "    </tr>\n",
       "  </thead>\n",
       "  <tbody>\n",
       "    <tr>\n",
       "      <th>6029</th>\n",
       "      <td>NaN</td>\n",
       "      <td>Instituto de Previdência</td>\n",
       "      <td>São Paulo</td>\n",
       "      <td>120</td>\n",
       "      <td>3</td>\n",
       "      <td>1</td>\n",
       "      <td>2</td>\n",
       "      <td>R$ 2.600\\r\\n                      /Ano</td>\n",
       "    </tr>\n",
       "    <tr>\n",
       "      <th>6718</th>\n",
       "      <td>NaN</td>\n",
       "      <td>Instituto de Previdência</td>\n",
       "      <td>São Paulo</td>\n",
       "      <td>125</td>\n",
       "      <td>3</td>\n",
       "      <td>1</td>\n",
       "      <td>2</td>\n",
       "      <td>R$ 2.600\\r\\n                      /Ano</td>\n",
       "    </tr>\n",
       "  </tbody>\n",
       "</table>\n",
       "</div>"
      ],
      "text/plain": [
       "      Rua                    Bairro     Cidade  Metragem  Quartos  Banheiros  \\\n",
       "6029  NaN  Instituto de Previdência  São Paulo       120        3          1   \n",
       "6718  NaN  Instituto de Previdência  São Paulo       125        3          1   \n",
       "\n",
       "      Vagas                                   Valor  \n",
       "6029      2  R$ 2.600\\r\\n                      /Ano  \n",
       "6718      2  R$ 2.600\\r\\n                      /Ano  "
      ]
     },
     "execution_count": 54,
     "metadata": {},
     "output_type": "execute_result"
    }
   ],
   "source": [
    "df1_imoveis[df1_imoveis['Valor'].str.contains('Ano')]"
   ]
  },
  {
   "cell_type": "markdown",
   "metadata": {},
   "source": [
    "### Deletando esses imóveis:"
   ]
  },
  {
   "cell_type": "code",
   "execution_count": 58,
   "metadata": {},
   "outputs": [],
   "source": [
    "# Deletando os imóveis de aluguel DIÁRIO\n",
    "df1_imoveis.drop(df1_imoveis[df1_imoveis['Valor'].str.contains('Dia')].index, inplace=True)\n",
    "\n",
    "# Deletando e salvando os imóveis de aluguel MENSAL\n",
    "df1_imoveis.drop(df_imoveis_alugar.index, inplace=True)\n",
    "df_imoveis_alugar.to_csv('./dados/dados_imoveis_alugar.csv')\n",
    "\n",
    "# Deletando os imóveis de aluguel ANUAL\n",
    "df1_imoveis.drop(df1_imoveis[df1_imoveis['Valor'].str.contains('Ano')].index, inplace=True)"
   ]
  },
  {
   "cell_type": "markdown",
   "metadata": {},
   "source": [
    "A partir da nossa análise, descobrimos que o dataset de imóveis não somente compreende casas para vender, mas também casas para alugar. Essas casas correspondem a cerca de 8.47% do dataset completo, nossa decisão foi salvar esses dados em um arquivo .csv único, que separa essas casas do restante e nos permite posteriormente examinar a viabilidade de realizar análises direcionadas para elas, removendo-as do dataframe original."
   ]
  },
  {
   "cell_type": "markdown",
   "metadata": {},
   "source": [
    "**Resolvendo o tipo incorreto**"
   ]
  },
  {
   "cell_type": "code",
   "execution_count": 55,
   "metadata": {},
   "outputs": [
    {
     "data": {
      "text/plain": [
       "6915     R$ 4.560.000\n",
       "8999     R$ 5.000.000\n",
       "7425     R$ 2.200.000\n",
       "2200     R$ 1.650.000\n",
       "9556    R$ 14.900.000\n",
       "Name: Valor, dtype: object"
      ]
     },
     "execution_count": 55,
     "metadata": {},
     "output_type": "execute_result"
    }
   ],
   "source": [
    "df1_imoveis['Valor'].sample(5)"
   ]
  },
  {
   "cell_type": "markdown",
   "metadata": {},
   "source": [
    "Corrigindo o tipo de dado da variável `Valor`"
   ]
  },
  {
   "cell_type": "code",
   "execution_count": 56,
   "metadata": {},
   "outputs": [],
   "source": [
    "# Casting da variável Valor de Object para int64\n",
    "df1_imoveis['Valor'] = df1_imoveis['Valor']\\\n",
    "    .str.replace('R\\$|,', '', regex=True)\\\n",
    "        .str.replace('.', '').str.strip()"
   ]
  },
  {
   "cell_type": "code",
   "execution_count": 59,
   "metadata": {
    "scrolled": true
   },
   "outputs": [
    {
     "data": {
      "text/plain": [
       "3295     1100000\n",
       "703      5000000\n",
       "4919     2150000\n",
       "4492     7900000\n",
       "6213    12000000\n",
       "Name: Valor, dtype: int32"
      ]
     },
     "execution_count": 59,
     "metadata": {},
     "output_type": "execute_result"
    }
   ],
   "source": [
    "df1_imoveis['Valor'] = df1_imoveis['Valor'].astype(int)\n",
    "df1_imoveis['Valor'].sample(5)"
   ]
  },
  {
   "cell_type": "markdown",
   "metadata": {},
   "source": [
    "### 1.4) Fazendo ajustes adicionais RELATORIO"
   ]
  },
  {
   "cell_type": "markdown",
   "metadata": {},
   "source": [
    "Descobrimos que no dataset havia na coluna 'Bairro' os valores Jardim Europa, Jardim Paulista, Jardim Paulistano, Jardim América e Jardins. Porém os quatro primeiros formam a Região dos Jardins, como não sabemos de qual bairro são os imóveis que estão em Jardins decidimos alterar o nome dos quatro primeiros para Jardins."
   ]
  },
  {
   "cell_type": "code",
   "execution_count": 60,
   "metadata": {
    "scrolled": false
   },
   "outputs": [
    {
     "data": {
      "text/html": [
       "<div>\n",
       "<style scoped>\n",
       "    .dataframe tbody tr th:only-of-type {\n",
       "        vertical-align: middle;\n",
       "    }\n",
       "\n",
       "    .dataframe tbody tr th {\n",
       "        vertical-align: top;\n",
       "    }\n",
       "\n",
       "    .dataframe thead th {\n",
       "        text-align: right;\n",
       "    }\n",
       "</style>\n",
       "<table border=\"1\" class=\"dataframe\">\n",
       "  <thead>\n",
       "    <tr style=\"text-align: right;\">\n",
       "      <th></th>\n",
       "      <th>Rua</th>\n",
       "      <th>Bairro</th>\n",
       "      <th>Cidade</th>\n",
       "      <th>Metragem</th>\n",
       "      <th>Quartos</th>\n",
       "      <th>Banheiros</th>\n",
       "      <th>Vagas</th>\n",
       "      <th>Valor</th>\n",
       "    </tr>\n",
       "  </thead>\n",
       "  <tbody>\n",
       "    <tr>\n",
       "      <th>60</th>\n",
       "      <td>Rua Inglaterra</td>\n",
       "      <td>Jardins</td>\n",
       "      <td>São Paulo</td>\n",
       "      <td>200</td>\n",
       "      <td>3</td>\n",
       "      <td>3</td>\n",
       "      <td>2</td>\n",
       "      <td>13000</td>\n",
       "    </tr>\n",
       "    <tr>\n",
       "      <th>67</th>\n",
       "      <td>Rua Bolívia</td>\n",
       "      <td>Jardins</td>\n",
       "      <td>São Paulo</td>\n",
       "      <td>663</td>\n",
       "      <td>4</td>\n",
       "      <td>7</td>\n",
       "      <td>6</td>\n",
       "      <td>14500000</td>\n",
       "    </tr>\n",
       "    <tr>\n",
       "      <th>68</th>\n",
       "      <td>Rua General Fonseca Teles</td>\n",
       "      <td>Jardins</td>\n",
       "      <td>São Paulo</td>\n",
       "      <td>420</td>\n",
       "      <td>4</td>\n",
       "      <td>6</td>\n",
       "      <td>3</td>\n",
       "      <td>8700000</td>\n",
       "    </tr>\n",
       "    <tr>\n",
       "      <th>98</th>\n",
       "      <td>Rua Marechal Bitencourt</td>\n",
       "      <td>Jardins</td>\n",
       "      <td>São Paulo</td>\n",
       "      <td>360</td>\n",
       "      <td>4</td>\n",
       "      <td>5</td>\n",
       "      <td>4</td>\n",
       "      <td>1800000</td>\n",
       "    </tr>\n",
       "    <tr>\n",
       "      <th>102</th>\n",
       "      <td>Rua Inglaterra</td>\n",
       "      <td>Jardins</td>\n",
       "      <td>São Paulo</td>\n",
       "      <td>756</td>\n",
       "      <td>5</td>\n",
       "      <td>4</td>\n",
       "      <td>10</td>\n",
       "      <td>37000000</td>\n",
       "    </tr>\n",
       "    <tr>\n",
       "      <th>...</th>\n",
       "      <td>...</td>\n",
       "      <td>...</td>\n",
       "      <td>...</td>\n",
       "      <td>...</td>\n",
       "      <td>...</td>\n",
       "      <td>...</td>\n",
       "      <td>...</td>\n",
       "      <td>...</td>\n",
       "    </tr>\n",
       "    <tr>\n",
       "      <th>9823</th>\n",
       "      <td>NaN</td>\n",
       "      <td>Jardins</td>\n",
       "      <td>São Paulo</td>\n",
       "      <td>870</td>\n",
       "      <td>5</td>\n",
       "      <td>5</td>\n",
       "      <td>3</td>\n",
       "      <td>12600000</td>\n",
       "    </tr>\n",
       "    <tr>\n",
       "      <th>9841</th>\n",
       "      <td>NaN</td>\n",
       "      <td>Jardins</td>\n",
       "      <td>São Paulo</td>\n",
       "      <td>720</td>\n",
       "      <td>6</td>\n",
       "      <td>6</td>\n",
       "      <td>5</td>\n",
       "      <td>9800000</td>\n",
       "    </tr>\n",
       "    <tr>\n",
       "      <th>9873</th>\n",
       "      <td>NaN</td>\n",
       "      <td>Jardins</td>\n",
       "      <td>São Paulo</td>\n",
       "      <td>303</td>\n",
       "      <td>3</td>\n",
       "      <td>5</td>\n",
       "      <td>2</td>\n",
       "      <td>2450000</td>\n",
       "    </tr>\n",
       "    <tr>\n",
       "      <th>9882</th>\n",
       "      <td>NaN</td>\n",
       "      <td>Jardins</td>\n",
       "      <td>São Paulo</td>\n",
       "      <td>575</td>\n",
       "      <td>4</td>\n",
       "      <td>6</td>\n",
       "      <td>4</td>\n",
       "      <td>11000000</td>\n",
       "    </tr>\n",
       "    <tr>\n",
       "      <th>9890</th>\n",
       "      <td>Rua Venceslau Flexa</td>\n",
       "      <td>Jardins</td>\n",
       "      <td>São Paulo</td>\n",
       "      <td>486</td>\n",
       "      <td>4</td>\n",
       "      <td>2</td>\n",
       "      <td>6</td>\n",
       "      <td>3500001</td>\n",
       "    </tr>\n",
       "  </tbody>\n",
       "</table>\n",
       "<p>736 rows × 8 columns</p>\n",
       "</div>"
      ],
      "text/plain": [
       "                            Rua   Bairro     Cidade  Metragem  Quartos  \\\n",
       "60               Rua Inglaterra  Jardins  São Paulo       200        3   \n",
       "67                  Rua Bolívia  Jardins  São Paulo       663        4   \n",
       "68    Rua General Fonseca Teles  Jardins  São Paulo       420        4   \n",
       "98      Rua Marechal Bitencourt  Jardins  São Paulo       360        4   \n",
       "102              Rua Inglaterra  Jardins  São Paulo       756        5   \n",
       "...                         ...      ...        ...       ...      ...   \n",
       "9823                        NaN  Jardins  São Paulo       870        5   \n",
       "9841                        NaN  Jardins  São Paulo       720        6   \n",
       "9873                        NaN  Jardins  São Paulo       303        3   \n",
       "9882                        NaN  Jardins  São Paulo       575        4   \n",
       "9890        Rua Venceslau Flexa  Jardins  São Paulo       486        4   \n",
       "\n",
       "      Banheiros  Vagas     Valor  \n",
       "60            3      2     13000  \n",
       "67            7      6  14500000  \n",
       "68            6      3   8700000  \n",
       "98            5      4   1800000  \n",
       "102           4     10  37000000  \n",
       "...         ...    ...       ...  \n",
       "9823          5      3  12600000  \n",
       "9841          6      5   9800000  \n",
       "9873          5      2   2450000  \n",
       "9882          6      4  11000000  \n",
       "9890          2      6   3500001  \n",
       "\n",
       "[736 rows x 8 columns]"
      ]
     },
     "execution_count": 60,
     "metadata": {},
     "output_type": "execute_result"
    }
   ],
   "source": [
    "df1_imoveis[df1_imoveis['Bairro'].str.contains('Jardim América') \n",
    "            | df1_imoveis['Bairro'].str.contains('Jardim Europa')\n",
    "            | df1_imoveis['Bairro'].str.contains('Jardim Paulista')\n",
    "            | df1_imoveis['Bairro'].str.contains('Jardim América')]\n",
    "\n",
    "df1_imoveis['Bairro'] = df1_imoveis['Bairro'].replace({'Jardim Europa': 'Jardins', 'Jardim Paulista': 'Jardins',\n",
    "                                           'Jardim Paulistano': 'Jardins', 'Jardim América': 'Jardins'})\n",
    "\n",
    "df1_imoveis[df1_imoveis['Bairro'].str.contains('Jardins')]\n"
   ]
  },
  {
   "cell_type": "markdown",
   "metadata": {},
   "source": [
    "# COLOCAR NO RELATÓRIO APOS MOSTRAR O BOXPLOT"
   ]
  },
  {
   "cell_type": "markdown",
   "metadata": {},
   "source": [
    "Feita a alteração descobrimos um imóvel no dataframe acima, com valor errado, possívelmente é um valor de aluguel que conseguiu \"escapar\" da remoção dos imóveis para alugar feita anteriormente."
   ]
  },
  {
   "cell_type": "code",
   "execution_count": 61,
   "metadata": {},
   "outputs": [
    {
     "data": {
      "text/html": [
       "<div>\n",
       "<style scoped>\n",
       "    .dataframe tbody tr th:only-of-type {\n",
       "        vertical-align: middle;\n",
       "    }\n",
       "\n",
       "    .dataframe tbody tr th {\n",
       "        vertical-align: top;\n",
       "    }\n",
       "\n",
       "    .dataframe thead th {\n",
       "        text-align: right;\n",
       "    }\n",
       "</style>\n",
       "<table border=\"1\" class=\"dataframe\">\n",
       "  <thead>\n",
       "    <tr style=\"text-align: right;\">\n",
       "      <th></th>\n",
       "      <th>Rua</th>\n",
       "      <th>Bairro</th>\n",
       "      <th>Cidade</th>\n",
       "      <th>Metragem</th>\n",
       "      <th>Quartos</th>\n",
       "      <th>Banheiros</th>\n",
       "      <th>Vagas</th>\n",
       "      <th>Valor</th>\n",
       "    </tr>\n",
       "  </thead>\n",
       "  <tbody>\n",
       "    <tr>\n",
       "      <th>11</th>\n",
       "      <td>NaN</td>\n",
       "      <td>Jardim Luzitânia</td>\n",
       "      <td>São Paulo</td>\n",
       "      <td>436</td>\n",
       "      <td>4</td>\n",
       "      <td>3</td>\n",
       "      <td>3</td>\n",
       "      <td>15000</td>\n",
       "    </tr>\n",
       "    <tr>\n",
       "      <th>60</th>\n",
       "      <td>Rua Inglaterra</td>\n",
       "      <td>Jardins</td>\n",
       "      <td>São Paulo</td>\n",
       "      <td>200</td>\n",
       "      <td>3</td>\n",
       "      <td>3</td>\n",
       "      <td>2</td>\n",
       "      <td>13000</td>\n",
       "    </tr>\n",
       "  </tbody>\n",
       "</table>\n",
       "</div>"
      ],
      "text/plain": [
       "               Rua            Bairro     Cidade  Metragem  Quartos  Banheiros  \\\n",
       "11             NaN  Jardim Luzitânia  São Paulo       436        4          3   \n",
       "60  Rua Inglaterra           Jardins  São Paulo       200        3          3   \n",
       "\n",
       "    Vagas  Valor  \n",
       "11      3  15000  \n",
       "60      2  13000  "
      ]
     },
     "execution_count": 61,
     "metadata": {},
     "output_type": "execute_result"
    }
   ],
   "source": [
    "# Verificando se existem imóveis nas mesmas condições\n",
    "df1_imoveis[df1_imoveis['Valor'] < 100000]"
   ]
  },
  {
   "cell_type": "code",
   "execution_count": 62,
   "metadata": {},
   "outputs": [],
   "source": [
    "df1_imoveis.drop(df1_imoveis[df1_imoveis['Valor'] <= 15000].index, inplace=True)"
   ]
  },
  {
   "cell_type": "markdown",
   "metadata": {},
   "source": [
    "**Removendo imóveis desproporcionais**\n",
    "\n",
    "Verificando os imóveis temos alguns que estão desproporcionais, possívelmente foram adicionados com erros de digitação e não serão significativos neste trabalho. Temos imóveis com mais de 30 vagas, por exemplo, e que poderão gerar distorções nas montagens dos gráficos. Com isso decidimos removê-los."
   ]
  },
  {
   "cell_type": "code",
   "execution_count": null,
   "metadata": {},
   "outputs": [],
   "source": [
    "#df1_imoveis[df1_imoveis['Vagas'] >= 30]"
   ]
  },
  {
   "cell_type": "code",
   "execution_count": null,
   "metadata": {},
   "outputs": [],
   "source": [
    "#df1_imoveis.drop(df1_imoveis[df1_imoveis['Vagas'] >= 30].index, inplace = True)"
   ]
  },
  {
   "cell_type": "code",
   "execution_count": null,
   "metadata": {},
   "outputs": [],
   "source": [
    "df1_imoveis.drop_duplicates(subset=df1_imoveis.columns.difference(['Metragem']), inplace=True)"
   ]
  },
  {
   "cell_type": "markdown",
   "metadata": {},
   "source": [
    "Verificando a Metragem:"
   ]
  },
  {
   "cell_type": "code",
   "execution_count": null,
   "metadata": {
    "scrolled": false
   },
   "outputs": [],
   "source": [
    "df1_imoveis[df1_imoveis.duplicated(keep=False)].sort_values(by=['Valor'])"
   ]
  },
  {
   "cell_type": "code",
   "execution_count": null,
   "metadata": {},
   "outputs": [],
   "source": [
    "df1_imoveis.drop_duplicates(inplace = True)"
   ]
  },
  {
   "cell_type": "code",
   "execution_count": null,
   "metadata": {
    "scrolled": false
   },
   "outputs": [],
   "source": [
    "df1_imoveis[(df1_imoveis['Metragem'] >= 35000)]"
   ]
  },
  {
   "cell_type": "code",
   "execution_count": null,
   "metadata": {
    "scrolled": false
   },
   "outputs": [],
   "source": [
    "df1_imoveis[(df1_imoveis['Metragem'] <= 50) & (df1_imoveis['Quartos'] >= 3)]"
   ]
  },
  {
   "cell_type": "code",
   "execution_count": null,
   "metadata": {},
   "outputs": [],
   "source": [
    "df1_imoveis.drop(df1_imoveis[df1_imoveis['Metragem'] >= 35000].index, inplace = True)\n",
    "df1_imoveis.drop(df1_imoveis[(df1_imoveis['Metragem'] <= 50) & (df1_imoveis['Quartos'] >= 3)].index, inplace = True)"
   ]
  },
  {
   "cell_type": "markdown",
   "metadata": {},
   "source": [
    "Verificando os quartos"
   ]
  },
  {
   "cell_type": "code",
   "execution_count": null,
   "metadata": {
    "scrolled": true
   },
   "outputs": [],
   "source": [
    "df1_imoveis[(df1_imoveis['Quartos'] >= 10) & (df1_imoveis['Valor'] <= 1000000) & (df1_imoveis['Metragem'] <= 400)]"
   ]
  },
  {
   "cell_type": "code",
   "execution_count": null,
   "metadata": {},
   "outputs": [],
   "source": [
    "df1_imoveis.drop(df1_imoveis[(df1_imoveis['Quartos'] >= 10) & (df1_imoveis['Valor'] <= 1000000) & (df1_imoveis['Metragem'] <= 400)].index, inplace = True)"
   ]
  },
  {
   "cell_type": "code",
   "execution_count": null,
   "metadata": {},
   "outputs": [],
   "source": [
    "df1_imoveis[(df1_imoveis['Quartos'] >= 10) & (df1_imoveis['Metragem'] <= 300)]"
   ]
  },
  {
   "cell_type": "code",
   "execution_count": null,
   "metadata": {},
   "outputs": [],
   "source": [
    "df1_imoveis.drop(df1_imoveis[(df1_imoveis['Quartos'] >= 10) & (df1_imoveis['Metragem'] <= 300)].index, inplace = True)"
   ]
  },
  {
   "cell_type": "markdown",
   "metadata": {},
   "source": [
    " "
   ]
  },
  {
   "cell_type": "markdown",
   "metadata": {},
   "source": [
    "Verificando os Banheiros:"
   ]
  },
  {
   "cell_type": "markdown",
   "metadata": {},
   "source": [
    " "
   ]
  },
  {
   "cell_type": "code",
   "execution_count": null,
   "metadata": {
    "scrolled": true
   },
   "outputs": [],
   "source": [
    "df1_imoveis[df1_imoveis['Banheiros'] >= 15]"
   ]
  },
  {
   "cell_type": "code",
   "execution_count": null,
   "metadata": {},
   "outputs": [],
   "source": [
    "df1_imoveis.drop(df1_imoveis[df1_imoveis['Banheiros'] >= 15].index, inplace = True)"
   ]
  },
  {
   "cell_type": "markdown",
   "metadata": {},
   "source": [
    "Verificando as vagas:"
   ]
  },
  {
   "cell_type": "code",
   "execution_count": null,
   "metadata": {
    "scrolled": false
   },
   "outputs": [],
   "source": [
    "df1_imoveis[(df1_imoveis['Vagas'] >= 20)]"
   ]
  },
  {
   "cell_type": "code",
   "execution_count": null,
   "metadata": {},
   "outputs": [],
   "source": [
    "df1_imoveis.drop(df1_imoveis[df1_imoveis['Vagas'] >= 20].index, inplace = True)"
   ]
  },
  {
   "cell_type": "code",
   "execution_count": null,
   "metadata": {},
   "outputs": [],
   "source": [
    "#df1_imoveis[df1_imoveis['Valor'] >= 30000000]\n"
   ]
  },
  {
   "cell_type": "markdown",
   "metadata": {},
   "source": [
    "## PASSO 2) Criando Novas Colunas CONTINUA NA FASE 2"
   ]
  },
  {
   "cell_type": "code",
   "execution_count": 63,
   "metadata": {},
   "outputs": [],
   "source": [
    "df2_imoveis = df1_imoveis.copy()"
   ]
  },
  {
   "cell_type": "markdown",
   "metadata": {},
   "source": [
    "#### Criando a coluna `Valor_m2`\n",
    "\n",
    "Representa o valor médio do m2 para cada linha do dataframe."
   ]
  },
  {
   "cell_type": "code",
   "execution_count": 64,
   "metadata": {},
   "outputs": [
    {
     "data": {
      "text/plain": [
       "0   7000.00\n",
       "1   7459.68\n",
       "2   3040.00\n",
       "3   2209.68\n",
       "4   5400.00\n",
       "Name: Valor_m2, dtype: float64"
      ]
     },
     "execution_count": 64,
     "metadata": {},
     "output_type": "execute_result"
    }
   ],
   "source": [
    "df2_imoveis['Valor_m2'] = df2_imoveis['Valor'] / df2_imoveis['Metragem']\n",
    "df2_imoveis['Valor_m2'].head()"
   ]
  },
  {
   "cell_type": "markdown",
   "metadata": {},
   "source": [
    "## PASSO 3) Estatísticas de Resumo"
   ]
  },
  {
   "cell_type": "code",
   "execution_count": 65,
   "metadata": {},
   "outputs": [],
   "source": [
    "df3_imoveis = df2_imoveis.copy()"
   ]
  },
  {
   "cell_type": "code",
   "execution_count": 66,
   "metadata": {},
   "outputs": [],
   "source": [
    "# dividindo o dataframe em variáveis numéricas e categóricas\n",
    "num_attr, cat_attr = df3_imoveis.select_dtypes(include=[int, float]), df3_imoveis.select_dtypes(exclude=[int, float])"
   ]
  },
  {
   "cell_type": "markdown",
   "metadata": {},
   "source": [
    "**Variáveis Numéricas**"
   ]
  },
  {
   "cell_type": "code",
   "execution_count": 67,
   "metadata": {},
   "outputs": [
    {
     "data": {
      "text/html": [
       "<div>\n",
       "<style scoped>\n",
       "    .dataframe tbody tr th:only-of-type {\n",
       "        vertical-align: middle;\n",
       "    }\n",
       "\n",
       "    .dataframe tbody tr th {\n",
       "        vertical-align: top;\n",
       "    }\n",
       "\n",
       "    .dataframe thead th {\n",
       "        text-align: right;\n",
       "    }\n",
       "</style>\n",
       "<table border=\"1\" class=\"dataframe\">\n",
       "  <thead>\n",
       "    <tr style=\"text-align: right;\">\n",
       "      <th></th>\n",
       "      <th>Quantidade</th>\n",
       "      <th>Média</th>\n",
       "      <th>Desvio Padrão</th>\n",
       "      <th>Mínimo</th>\n",
       "      <th>Q1</th>\n",
       "      <th>Mediana/Q2</th>\n",
       "      <th>Q3</th>\n",
       "      <th>Máximo</th>\n",
       "    </tr>\n",
       "  </thead>\n",
       "  <tbody>\n",
       "    <tr>\n",
       "      <th>Metragem</th>\n",
       "      <td>9153.00</td>\n",
       "      <td>434.45</td>\n",
       "      <td>7857.71</td>\n",
       "      <td>10.00</td>\n",
       "      <td>168.00</td>\n",
       "      <td>276.00</td>\n",
       "      <td>450.00</td>\n",
       "      <td>750000.00</td>\n",
       "    </tr>\n",
       "    <tr>\n",
       "      <th>Quartos</th>\n",
       "      <td>9153.00</td>\n",
       "      <td>3.45</td>\n",
       "      <td>1.05</td>\n",
       "      <td>1.00</td>\n",
       "      <td>3.00</td>\n",
       "      <td>3.00</td>\n",
       "      <td>4.00</td>\n",
       "      <td>16.00</td>\n",
       "    </tr>\n",
       "    <tr>\n",
       "      <th>Banheiros</th>\n",
       "      <td>9153.00</td>\n",
       "      <td>3.80</td>\n",
       "      <td>1.97</td>\n",
       "      <td>1.00</td>\n",
       "      <td>2.00</td>\n",
       "      <td>4.00</td>\n",
       "      <td>5.00</td>\n",
       "      <td>40.00</td>\n",
       "    </tr>\n",
       "    <tr>\n",
       "      <th>Vagas</th>\n",
       "      <td>9153.00</td>\n",
       "      <td>3.96</td>\n",
       "      <td>2.60</td>\n",
       "      <td>1.00</td>\n",
       "      <td>2.00</td>\n",
       "      <td>4.00</td>\n",
       "      <td>5.00</td>\n",
       "      <td>50.00</td>\n",
       "    </tr>\n",
       "    <tr>\n",
       "      <th>Valor</th>\n",
       "      <td>9153.00</td>\n",
       "      <td>3053025.48</td>\n",
       "      <td>3944569.61</td>\n",
       "      <td>130000.00</td>\n",
       "      <td>890000.00</td>\n",
       "      <td>1800000.00</td>\n",
       "      <td>3500000.00</td>\n",
       "      <td>65000000.00</td>\n",
       "    </tr>\n",
       "    <tr>\n",
       "      <th>Valor_m2</th>\n",
       "      <td>9153.00</td>\n",
       "      <td>8006.19</td>\n",
       "      <td>5290.75</td>\n",
       "      <td>9.33</td>\n",
       "      <td>4750.00</td>\n",
       "      <td>6500.00</td>\n",
       "      <td>9453.78</td>\n",
       "      <td>80000.00</td>\n",
       "    </tr>\n",
       "  </tbody>\n",
       "</table>\n",
       "</div>"
      ],
      "text/plain": [
       "           Quantidade      Média  Desvio Padrão    Mínimo        Q1  \\\n",
       "Metragem      9153.00     434.45        7857.71     10.00    168.00   \n",
       "Quartos       9153.00       3.45           1.05      1.00      3.00   \n",
       "Banheiros     9153.00       3.80           1.97      1.00      2.00   \n",
       "Vagas         9153.00       3.96           2.60      1.00      2.00   \n",
       "Valor         9153.00 3053025.48     3944569.61 130000.00 890000.00   \n",
       "Valor_m2      9153.00    8006.19        5290.75      9.33   4750.00   \n",
       "\n",
       "           Mediana/Q2         Q3      Máximo  \n",
       "Metragem       276.00     450.00   750000.00  \n",
       "Quartos          3.00       4.00       16.00  \n",
       "Banheiros        4.00       5.00       40.00  \n",
       "Vagas            4.00       5.00       50.00  \n",
       "Valor      1800000.00 3500000.00 65000000.00  \n",
       "Valor_m2      6500.00    9453.78    80000.00  "
      ]
     },
     "execution_count": 67,
     "metadata": {},
     "output_type": "execute_result"
    }
   ],
   "source": [
    "num_attr.describe().rename({'count': 'Quantidade', 'max': 'Máximo', 'min': 'Mínimo', '50%': 'Mediana/Q2', 'mean': 'Média', '25%': 'Q1', '75%': 'Q3', 'std': 'Desvio Padrão'}).T"
   ]
  },
  {
   "cell_type": "markdown",
   "metadata": {},
   "source": [
    "Imprimindo boxplot para as variáveis numéricas"
   ]
  },
  {
   "cell_type": "markdown",
   "metadata": {},
   "source": [
    "# removendo outliers RELATÓRIO\n",
    "indexes_of_outliers = find_outliers_tucker(df3_imoveis['Metragem'])\n",
    "df_cleaner = df3_imoveis.drop(indexes_of_outliers)\n",
    "df_cleaner.shape"
   ]
  },
  {
   "cell_type": "code",
   "execution_count": 70,
   "metadata": {},
   "outputs": [
    {
     "data": {
      "image/png": "[encoded data removed]",
      "text/plain": [
       "<Figure size 1000x800 with 4 Axes>"
      ]
     },
     "metadata": {},
     "output_type": "display_data"
    }
   ],
   "source": [
    "fig, ax = plt.subplots(nrows=2, ncols=2, figsize=(10, 8))\n",
    "\n",
    "# Boxplot da variável Metragem\n",
    "sns.boxplot(data=df3_imoveis, y='Metragem', ax=ax[0, 0])\n",
    "ax[0, 0].set_title('Boxplot da variável Metragem')\n",
    "\n",
    "# Boxplot da variável Quartos\n",
    "sns.boxplot(data=df3_imoveis, y='Quartos', ax=ax[0, 1])\n",
    "ax[0, 1].set_title('Boxplot da variável Quartos')\n",
    "\n",
    "# Boxplot da variável Banheiros\n",
    "sns.boxplot(data=df3_imoveis, y='Banheiros', ax=ax[1, 0])\n",
    "ax[1, 0].set_title('Boxplot da variável Banheiros')\n",
    "\n",
    "# Boxplot da variável Vagas\n",
    "sns.boxplot(data=df3_imoveis, y='Vagas', ax=ax[1, 1])\n",
    "ax[1, 1].set_title('Boxplot da variável Vagas')\n",
    "\n",
    "plt.tight_layout()\n",
    "\n",
    "plt.show()"
   ]
  },
  {
   "cell_type": "code",
   "execution_count": 96,
   "metadata": {
    "scrolled": false
   },
   "outputs": [
    {
     "data": {
      "image/png": "[encoded data removed]",
      "text/plain": [
       "<Figure size 1000x800 with 2 Axes>"
      ]
     },
     "metadata": {},
     "output_type": "display_data"
    }
   ],
   "source": [
    "#new_indexes_to_drop = find_outliers_tucker(df_cleaner['Valor'])\n",
    "#df_cleaner.drop(new_indexes_to_drop, inplace=True)\n",
    "\n",
    "fig, ax = plt.subplots(2, 1, figsize=(10, 8))\n",
    "\n",
    "sns.boxplot(data=df3_imoveis, x='Valor', ax=ax[0])\n",
    "\n",
    "sns.boxplot(data=df3_imoveis, x='Valor_m2', ax=ax[1])\n",
    "\n",
    "ax[0].set_title('Gráficos de Boxplot para as variáveis referentes ao valor do imóvel.', fontsize = 16)\n",
    "plt.tight_layout(h_pad = 5)\n",
    "\n",
    "plt.show()"
   ]
  },
  {
   "cell_type": "markdown",
   "metadata": {},
   "source": [
    "**Variáveis Categóricas**"
   ]
  },
  {
   "cell_type": "code",
   "execution_count": 97,
   "metadata": {},
   "outputs": [
    {
     "data": {
      "text/html": [
       "<div>\n",
       "<style scoped>\n",
       "    .dataframe tbody tr th:only-of-type {\n",
       "        vertical-align: middle;\n",
       "    }\n",
       "\n",
       "    .dataframe tbody tr th {\n",
       "        vertical-align: top;\n",
       "    }\n",
       "\n",
       "    .dataframe thead th {\n",
       "        text-align: right;\n",
       "    }\n",
       "</style>\n",
       "<table border=\"1\" class=\"dataframe\">\n",
       "  <thead>\n",
       "    <tr style=\"text-align: right;\">\n",
       "      <th></th>\n",
       "      <th>Quantidade</th>\n",
       "      <th>Qtd. Valores Únicos</th>\n",
       "      <th>Moda</th>\n",
       "      <th>Freq. da Moda</th>\n",
       "    </tr>\n",
       "  </thead>\n",
       "  <tbody>\n",
       "    <tr>\n",
       "      <th>Rua</th>\n",
       "      <td>6105</td>\n",
       "      <td>2524</td>\n",
       "      <td>Rua Alberto Faria</td>\n",
       "      <td>29</td>\n",
       "    </tr>\n",
       "    <tr>\n",
       "      <th>Bairro</th>\n",
       "      <td>9153</td>\n",
       "      <td>693</td>\n",
       "      <td>Jardins</td>\n",
       "      <td>735</td>\n",
       "    </tr>\n",
       "    <tr>\n",
       "      <th>Cidade</th>\n",
       "      <td>9153</td>\n",
       "      <td>1</td>\n",
       "      <td>São Paulo</td>\n",
       "      <td>9153</td>\n",
       "    </tr>\n",
       "  </tbody>\n",
       "</table>\n",
       "</div>"
      ],
      "text/plain": [
       "       Quantidade Qtd. Valores Únicos               Moda Freq. da Moda\n",
       "Rua          6105                2524  Rua Alberto Faria            29\n",
       "Bairro       9153                 693            Jardins           735\n",
       "Cidade       9153                   1          São Paulo          9153"
      ]
     },
     "execution_count": 97,
     "metadata": {},
     "output_type": "execute_result"
    }
   ],
   "source": [
    "cat_attr.describe().rename({'count': 'Quantidade', 'unique': 'Qtd. Valores Únicos', 'top': 'Moda', 'freq': 'Freq. da Moda'}).T"
   ]
  },
  {
   "cell_type": "markdown",
   "metadata": {},
   "source": [
    "# FASE 3\n",
    "___"
   ]
  },
  {
   "cell_type": "markdown",
   "metadata": {},
   "source": [
    "## PASSO 4) Análise Exploratória dos Dados"
   ]
  },
  {
   "cell_type": "code",
   "execution_count": 98,
   "metadata": {},
   "outputs": [],
   "source": [
    "df4_imoveis = df3_imoveis.copy()\n",
    "#df4_imoveis_sem_outliers = df3_imoveis.copy()"
   ]
  },
  {
   "cell_type": "markdown",
   "metadata": {},
   "source": [
    "### 4.1) Análise Univariada"
   ]
  },
  {
   "cell_type": "markdown",
   "metadata": {},
   "source": [
    "##### Variáveis Numéricas"
   ]
  },
  {
   "cell_type": "markdown",
   "metadata": {},
   "source": [
    "##### `Metragem`"
   ]
  },
  {
   "cell_type": "markdown",
   "metadata": {},
   "source": [
    "Removendo os valores nulos"
   ]
  },
  {
   "cell_type": "code",
   "execution_count": null,
   "metadata": {},
   "outputs": [],
   "source": [
    "# dropando os valores nulos utilizando a funcao abaixo definida na seção 0.2 deste notebook\n",
    "indexes_to_drop = find_outliers_tucker(df4_imoveis_sem_outliers['Metragem'])\n",
    "df4_imoveis_sem_outliers.drop(indexes_to_drop, inplace=True)\n",
    "\n",
    "print(f'Foram dropados {indexes_to_drop.shape[0]} linhas consideradas outliers para a variável Metragem.')\n"
   ]
  },
  {
   "cell_type": "markdown",
   "metadata": {},
   "source": [
    "Imprimindo gráficos elucidativos"
   ]
  },
  {
   "cell_type": "code",
   "execution_count": null,
   "metadata": {},
   "outputs": [],
   "source": [
    "fig, ax = plt.subplots(nrows=2, ncols=2, figsize=(10, 8))\n",
    "\n",
    "# Gráfico de Histograma\n",
    "sns.histplot(data=df4_imoveis_sem_outliers, x='Metragem', ax=ax[0, 0])#, kde = True, log_scale = True, bins = 25)\n",
    "ax[0, 0].set_title('Histograma da variável Metragem')\n",
    "\n",
    "# Gráfico de Densidade\n",
    "sns.kdeplot(data=df4_imoveis_sem_outliers, x='Metragem', ax=ax[0, 1])\n",
    "ax[0, 1].set_title('Density Plot')\n",
    "\n",
    "# Gráfico de Boxplot\n",
    "sns.boxplot(data=df4_imoveis, y='Metragem', ax=ax[1, 0])\n",
    "ax[1, 0].set_title('Boxplot')\n",
    "\n",
    "# Gráfico de Scatter Plot\n",
    "sns.scatterplot(data=df4_imoveis_sem_outliers, x='Valor', y='Metragem', ax=ax[1, 1])\n",
    "ax[1, 1].set_title('Scatter Plot')\n",
    "\n",
    "plt.tight_layout()\n",
    "\n",
    "plt.show()"
   ]
  },
  {
   "cell_type": "markdown",
   "metadata": {},
   "source": [
    "##### `Quartos`"
   ]
  },
  {
   "cell_type": "markdown",
   "metadata": {},
   "source": [
    "Removendo os valores nulos"
   ]
  },
  {
   "cell_type": "code",
   "execution_count": null,
   "metadata": {},
   "outputs": [],
   "source": [
    "# dropando os valores nulos utilizando a funcao abaixo definida na seção 0.2 deste notebook\n",
    "indexes_to_drop = find_outliers_tucker(df4_imoveis_sem_outliers['Quartos']) \n",
    "df4_imoveis_sem_outliers.drop(indexes_to_drop, inplace=True)\n",
    "\n",
    "print(f'Foram dropados {indexes_to_drop.shape[0]} linhas consideradas outliers para a variável Quartos.')\n"
   ]
  },
  {
   "cell_type": "markdown",
   "metadata": {},
   "source": [
    "Imprimindo gráficos elucidativos"
   ]
  },
  {
   "cell_type": "code",
   "execution_count": null,
   "metadata": {},
   "outputs": [],
   "source": [
    "fig, ax = plt.subplots(nrows=2, ncols=2, figsize=(10, 8))\n",
    "\n",
    "# Gráfico de Histograma\n",
    "sns.countplot(data=df4_imoveis_sem_outliers, x='Quartos', ax=ax[0, 0])\n",
    "ax[0, 0].set_title('Quantidade de imóveis x Quantidade de Quartos')\n",
    "ax[0, 0].set_ylabel('Contagem de Imóveis')\n",
    "\n",
    "# Gráfico de Densidade\n",
    "sns.kdeplot(data=df4_imoveis_sem_outliers, x='Quartos', ax=ax[0, 1])\n",
    "ax[0, 1].set_title('Density Plot')\n",
    "\n",
    "# Gráfico de Boxplot\n",
    "sns.boxplot(data=df4_imoveis, y='Quartos', ax=ax[1, 0])\n",
    "ax[1, 0].set_title('Boxplot')\n",
    "\n",
    "# Gráfico de Scatter Plot\n",
    "sns.scatterplot(data=df4_imoveis_sem_outliers, x='Valor', y='Quartos', ax=ax[1, 1])\n",
    "ax[1, 1].set_title('Scatter Plot')\n",
    "\n",
    "plt.tight_layout()\n",
    "\n",
    "plt.show()"
   ]
  },
  {
   "cell_type": "markdown",
   "metadata": {},
   "source": [
    "##### `Banheiros`"
   ]
  },
  {
   "cell_type": "markdown",
   "metadata": {},
   "source": [
    "Removendo os valores nulos"
   ]
  },
  {
   "cell_type": "code",
   "execution_count": null,
   "metadata": {},
   "outputs": [],
   "source": [
    "# dropando os valores nulos utilizando a funcao abaixo definida na seção 0.2 deste notebook\n",
    "indexes_to_drop = find_outliers_tucker(df4_imoveis_sem_outliers['Banheiros']) \n",
    "df4_imoveis_sem_outliers.drop(indexes_to_drop, inplace=True)\n",
    "\n",
    "print(f'Foram dropados {indexes_to_drop.shape[0]} linhas consideradas outliers para a variável Banheiros.')"
   ]
  },
  {
   "cell_type": "markdown",
   "metadata": {},
   "source": [
    "Imprimindo gráficos elucidativos"
   ]
  },
  {
   "cell_type": "code",
   "execution_count": null,
   "metadata": {},
   "outputs": [],
   "source": [
    "fig, ax = plt.subplots(nrows=2, ncols=2, figsize=(10, 8))\n",
    "\n",
    "# Gráfico de Histograma\n",
    "sns.countplot(data=df4_imoveis_sem_outliers, x='Banheiros', ax=ax[0, 0])\n",
    "ax[0, 0].set_title('Quantidade de imóveis x Quantidade de banheiros')\n",
    "ax[0,0].set_ylabel('Contagem de Imóveis')\n",
    "\n",
    "# Gráfico de Densidade\n",
    "sns.kdeplot(data=df4_imoveis_sem_outliers, x='Banheiros', ax=ax[0, 1])\n",
    "ax[0, 1].set_title('Density Plot')\n",
    "\n",
    "# Gráfico de Boxplot\n",
    "sns.boxplot(data=df4_imoveis, y='Banheiros', ax=ax[1, 0])\n",
    "ax[1, 0].set_title('Boxplot')\n",
    "\n",
    "# Gráfico de Scatter Plot\n",
    "sns.scatterplot(data=df4_imoveis_sem_outliers, x='Valor', y='Banheiros', ax=ax[1, 1])\n",
    "ax[1, 1].set_title('Scatter Plot')\n",
    "\n",
    "plt.tight_layout()\n",
    "\n",
    "plt.show()"
   ]
  },
  {
   "cell_type": "markdown",
   "metadata": {},
   "source": [
    "##### `Vagas`"
   ]
  },
  {
   "cell_type": "markdown",
   "metadata": {},
   "source": [
    "Removendo os valores nulos"
   ]
  },
  {
   "cell_type": "code",
   "execution_count": null,
   "metadata": {},
   "outputs": [],
   "source": [
    "# dropando os valores nulos utilizando a funcao abaixo definida na seção 0.2 deste notebook\n",
    "indexes_to_drop = find_outliers_tucker(df4_imoveis_sem_outliers['Vagas']) \n",
    "df4_imoveis_sem_outliers.drop(indexes_to_drop, inplace=True)\n",
    "\n",
    "print(f'Foram dropados {indexes_to_drop.shape[0]} linhas consideradas outliers para a variável Vagas.')"
   ]
  },
  {
   "cell_type": "markdown",
   "metadata": {},
   "source": [
    "Imprimindo gráficos elucidativos"
   ]
  },
  {
   "cell_type": "code",
   "execution_count": null,
   "metadata": {},
   "outputs": [],
   "source": [
    "fig, ax = plt.subplots(nrows=2, ncols=2, figsize=(10, 8))\n",
    "\n",
    "# Gráfico de Histograma\n",
    "sns.countplot(data=df4_imoveis, x='Vagas', ax=ax[0, 0])\n",
    "ax[0, 0].set_title('Histograma da variável Vagas')\n",
    "\n",
    "# Gráfico de Densidade\n",
    "sns.kdeplot(data=df4_imoveis, x='Vagas', ax=ax[0, 1])\n",
    "ax[0, 1].set_title('Density Plot')\n",
    "\n",
    "# Gráfico de Boxplot\n",
    "sns.boxplot(data=df4_imoveis, y='Vagas', ax=ax[1, 0])\n",
    "ax[1, 0].set_title('Boxplot')\n",
    "\n",
    "# Gráfico de Scatter Plot\n",
    "sns.scatterplot(data=df4_imoveis, x='Valor', y='Vagas', ax=ax[1, 1])\n",
    "ax[1, 1].set_title('Scatter Plot')\n",
    "\n",
    "plt.tight_layout()\n",
    "\n",
    "plt.show()"
   ]
  },
  {
   "cell_type": "markdown",
   "metadata": {},
   "source": [
    "##### `Valor`"
   ]
  },
  {
   "cell_type": "markdown",
   "metadata": {},
   "source": [
    "Removendo os valores nulos"
   ]
  },
  {
   "cell_type": "code",
   "execution_count": null,
   "metadata": {},
   "outputs": [],
   "source": [
    "# dropando os valores nulos utilizando a funcao abaixo definida na seção 0.2 deste notebook\n",
    "indexes_to_drop = find_outliers_tucker(df4_imoveis['Valor']) \n",
    "df4_imoveis.drop(indexes_to_drop, inplace=True)\n",
    "\n",
    "print(f'Foram dropados {indexes_to_drop.shape[0]} linhas consideradas outliers para a variável Valor.')"
   ]
  },
  {
   "cell_type": "markdown",
   "metadata": {},
   "source": [
    "Imprimindo gráficos elucidativos"
   ]
  },
  {
   "cell_type": "code",
   "execution_count": null,
   "metadata": {},
   "outputs": [],
   "source": [
    "fig, ax = plt.subplots(nrows=2, ncols=2, figsize=(10, 8))\n",
    "\n",
    "# Gráfico de Histograma\n",
    "sns.histplot(data=df4_imoveis, x='Valor', ax=ax[0, 0])\n",
    "ax[0, 0].set_title('Histograma da variável Valor')\n",
    "\n",
    "# Gráfico de Densidade\n",
    "sns.kdeplot(data=df4_imoveis, x='Valor', ax=ax[0, 1])\n",
    "ax[0, 1].set_title('Density Plot')\n",
    "\n",
    "# Gráfico de Boxplot\n",
    "sns.boxplot(data=df4_imoveis, y='Valor', ax=ax[1, 0])\n",
    "ax[1, 0].set_title('Boxplot')\n",
    "\n",
    "# Gráfico de Scatter Plot\n",
    "sns.scatterplot(data=df4_imoveis, x='Valor', y='Valor', ax=ax[1, 1])\n",
    "ax[1, 1].set_title('Scatter Plot')\n",
    "\n",
    "plt.tight_layout()\n",
    "\n",
    "plt.show()"
   ]
  },
  {
   "cell_type": "markdown",
   "metadata": {},
   "source": [
    "##### `Valor_m2`"
   ]
  },
  {
   "cell_type": "markdown",
   "metadata": {},
   "source": [
    "Removendo os valores nulos"
   ]
  },
  {
   "cell_type": "code",
   "execution_count": null,
   "metadata": {},
   "outputs": [],
   "source": [
    "# dropando os valores nulos utilizando a funcao abaixo definida na seção 0.2 deste notebook\n",
    "indexes_to_drop = find_outliers_tucker(df4_imoveis['Valor_m2']) \n",
    "df4_imoveis.drop(indexes_to_drop, inplace=True)\n",
    "\n",
    "print(f'Foram dropados {indexes_to_drop.shape[0]} linhas consideradas outliers para a variável Valor_m2.')"
   ]
  },
  {
   "cell_type": "markdown",
   "metadata": {},
   "source": [
    "Imprimindo gráficos elucidativos"
   ]
  },
  {
   "cell_type": "code",
   "execution_count": null,
   "metadata": {
    "scrolled": false
   },
   "outputs": [],
   "source": [
    "fig, ax = plt.subplots(nrows=2, ncols=2, figsize=(10, 8))\n",
    "\n",
    "# Gráfico de Histograma\n",
    "sns.histplot(data=df4_imoveis, x='Valor_m2', ax=ax[0, 0])\n",
    "ax[0, 0].set_title('Histograma da variável Valor_m2')\n",
    "\n",
    "# Gráfico de Densidade\n",
    "sns.kdeplot(data=df4_imoveis, x='Valor_m2', ax=ax[0, 1])\n",
    "ax[0, 1].set_title('Density Plot')\n",
    "\n",
    "# Gráfico de Boxplot\n",
    "sns.boxplot(data=df4_imoveis, y='Valor_m2', ax=ax[1, 0])\n",
    "ax[1, 0].set_title('Boxplot')\n",
    "\n",
    "# Gráfico de Scatter Plot\n",
    "sns.scatterplot(data=df4_imoveis, x='Valor', y='Valor_m2', ax=ax[1, 1])\n",
    "ax[1, 1].set_title('Scatter Plot')\n",
    "\n",
    "plt.tight_layout()\n",
    "\n",
    "plt.show()"
   ]
  },
  {
   "cell_type": "markdown",
   "metadata": {},
   "source": [
    "##### Variáveis Categóricas"
   ]
  },
  {
   "cell_type": "markdown",
   "metadata": {},
   "source": [
    "##### `Rua`"
   ]
  },
  {
   "cell_type": "code",
   "execution_count": null,
   "metadata": {
    "scrolled": false
   },
   "outputs": [],
   "source": [
    "df_rua = df4_imoveis.sort_values(by='Valor', ascending = False)\n",
    "\n",
    "sns.barplot(data=df_rua[:10], x = 'Valor', y='Rua')\n",
    "plt.show()"
   ]
  },
  {
   "cell_type": "markdown",
   "metadata": {},
   "source": [
    "##### `Bairro`"
   ]
  },
  {
   "cell_type": "code",
   "execution_count": null,
   "metadata": {},
   "outputs": [],
   "source": [
    "df_bairros = df4_imoveis.sort_values(by='Valor', ascending = False)\n",
    "\n",
    "sns.barplot(data=df_bairros[:10], x = 'Valor', y='Bairro')\n",
    "plt.show()"
   ]
  },
  {
   "cell_type": "markdown",
   "metadata": {},
   "source": [
    "### 4.2) Análise Multivariada"
   ]
  },
  {
   "cell_type": "markdown",
   "metadata": {},
   "source": [
    "### 4.3) Respondendo as Perguntas"
   ]
  },
  {
   "cell_type": "markdown",
   "metadata": {},
   "source": [
    "1) **Quais os bairros onde os imóveis são mais valorizados, na média?**"
   ]
  },
  {
   "cell_type": "code",
   "execution_count": null,
   "metadata": {},
   "outputs": [],
   "source": [
    "df_p1 = df4_imoveis.groupby('Bairro').agg({'Valor': 'mean'}).sort_values(by='Valor', ascending=False)\\\n",
    "    .reset_index()\n",
    "df_p2 = df4_imoveis.groupby('Bairro').agg({'Valor': 'median'}).sort_values(by='Valor', ascending=False)\\\n",
    "    .reset_index()"
   ]
  },
  {
   "cell_type": "code",
   "execution_count": null,
   "metadata": {},
   "outputs": [],
   "source": [
    "fig, ax = plt.subplots(figsize=(25, 10))\n",
    "\n",
    "sns.barplot(data=df_p1[:10], x='Bairro', y='Valor', ax=ax)\n",
    "ax.set_title('TOP 10 Bairros por Valor Médio', size=28)\n",
    "ax.set_ylabel('Preço médio (milhões de reais)', size=22)\n",
    "ax.set_xlabel('Bairro', size=22)\n",
    "\n",
    "plt.show()"
   ]
  },
  {
   "cell_type": "code",
   "execution_count": null,
   "metadata": {},
   "outputs": [],
   "source": [
    "fig, ax = plt.subplots(figsize=(25, 10))\n",
    "\n",
    "sns.barplot(data=df_p2[:10], x='Bairro', y='Valor', ax=ax)\n",
    "ax.set_title('TOP 10 Bairros por Valor Mediano', size=28)\n",
    "ax.set_ylabel('Preço mediano (milhões de reais)', size=22)\n",
    "ax.set_xlabel('Bairro', size=22)\n",
    "\n",
    "plt.show()"
   ]
  },
  {
   "cell_type": "markdown",
   "metadata": {},
   "source": [
    "2) **Qual o preço médio do m2 nos bairros mais valorizados?**"
   ]
  },
  {
   "cell_type": "code",
   "execution_count": null,
   "metadata": {},
   "outputs": [],
   "source": [
    "fig, ax = plt.subplots(figsize=(25, 10))\n",
    "\n",
    "df_preco_m2 = df4_imoveis.groupby('Bairro').agg({'Valor': 'mean', 'Valor_m2':'mean'}).sort_values(by='Valor', ascending=False)\\\n",
    "    .reset_index()[:10]\n",
    "\n",
    "del df_preco_m2['Valor']\n",
    "\n",
    "df_preco_m2_sorted = df_preco_m2.sort_values(by='Valor_m2', ascending=False)\n",
    "\n",
    "sns.barplot(data=df_preco_m2_sorted, x = 'Bairro', y = 'Valor_m2')\n",
    "ax.set_title('Preço médio do m2 por bairro', size=28)\n",
    "ax.set_ylabel('Preço médio do m2', size=22)\n",
    "ax.set_xlabel('Bairro', size=22)\n",
    "\n",
    "plt.show()"
   ]
  },
  {
   "cell_type": "markdown",
   "metadata": {},
   "source": [
    "4) **A coluna metragem possui um valor de correlação de Pearson forte com o preço do imóvel (pelo menos 0.6)?**\n",
    "\n",
    "**VERDADEIRO**. A correlação entre `Metragem` e `Valor` é de 0.77, sendo acima de 0.6 e considerada FORTE."
   ]
  },
  {
   "cell_type": "code",
   "execution_count": null,
   "metadata": {},
   "outputs": [],
   "source": [
    "correlation = df4_imoveis.corr( method='pearson' )\n",
    "sns.heatmap( correlation, cmap='mako', annot=True );"
   ]
  },
  {
   "cell_type": "markdown",
   "metadata": {},
   "source": [
    "Ao visualizar o gráfico acima nota-se o valor de 0.77 como a correlação entre as colunas `Valor` e `Metragem`, este valor de 0.77 é acima do limite estabelecido de 0.6 e também é considerado um valor classificado como FORTE para correlação entre duas variáveis numéricas. Portanto a nossa pergunta foi validada como VERDADEIRA."
   ]
  },
  {
   "cell_type": "markdown",
   "metadata": {},
   "source": [
    "6. **Para cada unidade acrescida na quantidade de 'Quartos', o preço médio dos imóveis aumenta em 10%?**\n",
    "\n",
    "**ERRADO**."
   ]
  },
  {
   "cell_type": "code",
   "execution_count": null,
   "metadata": {},
   "outputs": [],
   "source": [
    "df_p6 = df4_imoveis_sem_outliers.groupby('Quartos').agg({\"Valor\": \"mean\"}).reset_index()\n",
    "df_p6.sort_values(by='Valor').head(10)"
   ]
  },
  {
   "cell_type": "code",
   "execution_count": null,
   "metadata": {},
   "outputs": [],
   "source": [
    "media_por_quarto = df_p6['Valor'].pct_change() * 100\n",
    "media_por_quarto"
   ]
  },
  {
   "cell_type": "code",
   "execution_count": null,
   "metadata": {},
   "outputs": [],
   "source": [
    "print(f\"O aumento percentual médio no preço do Imóvel ao acrescentar um Quarto foi de {media_por_quarto.mean():.2f}% na média.\")"
   ]
  },
  {
   "cell_type": "code",
   "execution_count": null,
   "metadata": {},
   "outputs": [],
   "source": [
    "fig, ax = plt.subplots(figsize=(10, 4))\n",
    "\n",
    "sns.lineplot(x=['2-2', '2-3', '3-4', '4-5'], y=media_por_quarto, ax=ax)\n",
    "ax.set_title('Aumento percentual médio no preço do Imóvel por quantidade de Quartos')\n",
    "ax.set_xlabel('De X para Y Quartos')\n",
    "ax.set_ylabel('Aumento percentual médio (%)')\n",
    "\n",
    "plt.show()"
   ]
  }
 ],
 "metadata": {
  "kernelspec": {
   "display_name": "Python 3 (ipykernel)",
   "language": "python",
   "name": "python3"
  },
  "language_info": {
   "codemirror_mode": {
    "name": "ipython",
    "version": 3
   },
   "file_extension": ".py",
   "mimetype": "text/x-python",
   "name": "python",
   "nbconvert_exporter": "python",
   "pygments_lexer": "ipython3",
   "version": "3.11.4"
  }
 },
 "nbformat": 4,
 "nbformat_minor": 2
}

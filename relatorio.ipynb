{
 "cells": [
  {
   "cell_type": "markdown",
   "metadata": {},
   "source": [
    "##  Imports"
   ]
  },
  {
   "cell_type": "code",
   "execution_count": 257,
   "metadata": {
    "scrolled": true
   },
   "outputs": [
    {
     "name": "stdout",
     "output_type": "stream",
     "text": [
      "Requirement already satisfied: chardet in c:\\users\\gustavo\\anaconda3\\lib\\site-packages (4.0.0)\n"
     ]
    }
   ],
   "source": [
    "import sys\n",
    "import warnings\n",
    "import pandas as pd\n",
    "import seaborn as sns\n",
    "import numpy as np\n",
    "import matplotlib.pyplot as plt\n",
    "from sklearn.cluster import KMeans\n",
    "\n",
    "!{sys.executable} -m pip install chardet\n",
    "import chardet"
   ]
  },
  {
   "cell_type": "markdown",
   "metadata": {},
   "source": [
    "- [Fase 2](#Fase-2)\n",
    "- [Fase 3](#Fase-3)\n",
    "- [Fase 4](#Fase-4)\n",
    "- [Relatório](#Relatório)"
   ]
  },
  {
   "cell_type": "markdown",
   "metadata": {},
   "source": [
    "<a id=\"Funções\"></a>"
   ]
  },
  {
   "cell_type": "markdown",
   "metadata": {},
   "source": [
    "### Funções Auxiliares"
   ]
  },
  {
   "cell_type": "code",
   "execution_count": 258,
   "metadata": {},
   "outputs": [],
   "source": [
    "def find_outliers_tucker(series, threshold=1.5):\n",
    "    \"\"\"\n",
    "    Retorna os índices dos valores obtidos como outliers após calculados os limites superiores\n",
    "    e inferiores da Series em questão, utilizando o algoritmo de Tucker.\n",
    "    \"\"\"\n",
    "    q1 = series.quantile(0.25)\n",
    "    q3 = series.quantile(0.75)\n",
    "    iqr = q3 - q1\n",
    "\n",
    "    lower_limit = q1 - threshold * iqr\n",
    "    upper_limit = q3 + threshold * iqr\n",
    "\n",
    "    filtered_series = series[(series < lower_limit) | (series > upper_limit)]\n",
    "    \n",
    "    return filtered_series.index\n",
    "\n",
    "def imputa_rua(bairro, df):\n",
    "    return df[bairro]\n",
    "\n",
    "def imputa_bairro(rua, df):\n",
    "    rua_formatted = rua.split(',')[0]\n",
    "    imoveis = df.loc[df['Rua'] == rua_formatted]\n",
    "\n",
    "    if imoveis.shape[0] == 0:\n",
    "        bairro = None\n",
    "    else:\n",
    "        bairro = imoveis['Bairro'].unique()[0]\n",
    "\n",
    "    return bairro\n",
    "\n",
    "def jupyter_settings():\n",
    "    %matplotlib inline\n",
    "    warnings.filterwarnings('ignore')\n",
    "\n",
    "    plt.rcParams['figure.figsize'] = (24, 12)\n",
    "    plt.rcParams['font.size'] = 24\n",
    "    pd.set_option('display.float_format', '{:.2f}'.format)\n",
    "    pd.set_option('display.max_columns', 100)\n",
    "\n",
    "    sns.set()\n",
    "\n",
    "jupyter_settings()"
   ]
  },
  {
   "cell_type": "markdown",
   "metadata": {},
   "source": [
    "### Carregando os Dados"
   ]
  },
  {
   "cell_type": "markdown",
   "metadata": {},
   "source": [
    "Carregando **dataset de imóveis** à venda na cidade de São Paulo"
   ]
  },
  {
   "cell_type": "code",
   "execution_count": 259,
   "metadata": {},
   "outputs": [
    {
     "data": {
      "text/html": [
       "<div>\n",
       "<style scoped>\n",
       "    .dataframe tbody tr th:only-of-type {\n",
       "        vertical-align: middle;\n",
       "    }\n",
       "\n",
       "    .dataframe tbody tr th {\n",
       "        vertical-align: top;\n",
       "    }\n",
       "\n",
       "    .dataframe thead th {\n",
       "        text-align: right;\n",
       "    }\n",
       "</style>\n",
       "<table border=\"1\" class=\"dataframe\">\n",
       "  <thead>\n",
       "    <tr style=\"text-align: right;\">\n",
       "      <th></th>\n",
       "      <th>Rua</th>\n",
       "      <th>Bairro</th>\n",
       "      <th>Cidade</th>\n",
       "      <th>Metragem</th>\n",
       "      <th>Quartos</th>\n",
       "      <th>Banheiros</th>\n",
       "      <th>Vagas</th>\n",
       "      <th>Valor</th>\n",
       "    </tr>\n",
       "  </thead>\n",
       "  <tbody>\n",
       "    <tr>\n",
       "      <th>0</th>\n",
       "      <td>Avenida Itacira, 255</td>\n",
       "      <td>Planalto Paulista</td>\n",
       "      <td>São Paulo</td>\n",
       "      <td>1000</td>\n",
       "      <td>4</td>\n",
       "      <td>8</td>\n",
       "      <td>6</td>\n",
       "      <td>R$ 7.000.000</td>\n",
       "    </tr>\n",
       "    <tr>\n",
       "      <th>1</th>\n",
       "      <td>Rua Aurelia Perez Alvarez, 42</td>\n",
       "      <td>Jardim dos Estados</td>\n",
       "      <td>São Paulo</td>\n",
       "      <td>496</td>\n",
       "      <td>4</td>\n",
       "      <td>4</td>\n",
       "      <td>4</td>\n",
       "      <td>R$ 3.700.000</td>\n",
       "    </tr>\n",
       "    <tr>\n",
       "      <th>2</th>\n",
       "      <td>Rua Alba Valdez</td>\n",
       "      <td>Jardim Reimberg</td>\n",
       "      <td>São Paulo</td>\n",
       "      <td>125</td>\n",
       "      <td>4</td>\n",
       "      <td>3</td>\n",
       "      <td>2</td>\n",
       "      <td>R$ 380.000</td>\n",
       "    </tr>\n",
       "    <tr>\n",
       "      <th>3</th>\n",
       "      <td>NaN</td>\n",
       "      <td>Jardim Morumbi</td>\n",
       "      <td>São Paulo</td>\n",
       "      <td>310</td>\n",
       "      <td>3</td>\n",
       "      <td>2</td>\n",
       "      <td>4</td>\n",
       "      <td>R$ 685.000</td>\n",
       "    </tr>\n",
       "    <tr>\n",
       "      <th>4</th>\n",
       "      <td>Rua Tobias Barreto, 195</td>\n",
       "      <td>Mooca</td>\n",
       "      <td>São Paulo</td>\n",
       "      <td>100</td>\n",
       "      <td>3</td>\n",
       "      <td>2</td>\n",
       "      <td>2</td>\n",
       "      <td>R$ 540.000</td>\n",
       "    </tr>\n",
       "  </tbody>\n",
       "</table>\n",
       "</div>"
      ],
      "text/plain": [
       "                              Rua              Bairro     Cidade  Metragem  \\\n",
       "0           Avenida Itacira, 255    Planalto Paulista  São Paulo      1000   \n",
       "1  Rua Aurelia Perez Alvarez, 42   Jardim dos Estados  São Paulo       496   \n",
       "2                 Rua Alba Valdez     Jardim Reimberg  São Paulo       125   \n",
       "3                             NaN      Jardim Morumbi  São Paulo       310   \n",
       "4        Rua Tobias Barreto, 195                Mooca  São Paulo       100   \n",
       "\n",
       "   Quartos  Banheiros  Vagas         Valor  \n",
       "0        4          8      6  R$ 7.000.000  \n",
       "1        4          4      4  R$ 3.700.000  \n",
       "2        4          3      2    R$ 380.000  \n",
       "3        3          2      4    R$ 685.000  \n",
       "4        3          2      2    R$ 540.000  "
      ]
     },
     "execution_count": 259,
     "metadata": {},
     "output_type": "execute_result"
    }
   ],
   "source": [
    "df_imoveis = pd.read_csv('./dados/dados_imoveis.csv')\n",
    "df_imoveis.head()"
   ]
  },
  {
   "cell_type": "markdown",
   "metadata": {},
   "source": [
    "<a id=\"Fase-2\"></a>"
   ]
  },
  {
   "cell_type": "markdown",
   "metadata": {},
   "source": [
    "# FASE 2\n",
    "___"
   ]
  },
  {
   "cell_type": "markdown",
   "metadata": {},
   "source": [
    "## Descrição dos Dados"
   ]
  },
  {
   "cell_type": "code",
   "execution_count": 260,
   "metadata": {},
   "outputs": [],
   "source": [
    "df1_imoveis = df_imoveis.copy()"
   ]
  },
  {
   "cell_type": "code",
   "execution_count": 261,
   "metadata": {},
   "outputs": [
    {
     "name": "stdout",
     "output_type": "stream",
     "text": [
      "Número de linhas:  10008\n",
      "Número de colunas:  8\n"
     ]
    }
   ],
   "source": [
    "print('Número de linhas: ', df1_imoveis.shape[0])\n",
    "print('Número de colunas: ', df1_imoveis.shape[1])"
   ]
  },
  {
   "cell_type": "code",
   "execution_count": 262,
   "metadata": {},
   "outputs": [
    {
     "name": "stdout",
     "output_type": "stream",
     "text": [
      "<class 'pandas.core.frame.DataFrame'>\n",
      "RangeIndex: 10008 entries, 0 to 10007\n",
      "Data columns (total 8 columns):\n",
      " #   Column     Non-Null Count  Dtype \n",
      "---  ------     --------------  ----- \n",
      " 0   Rua        6574 non-null   object\n",
      " 1   Bairro     9996 non-null   object\n",
      " 2   Cidade     10008 non-null  object\n",
      " 3   Metragem   10008 non-null  int64 \n",
      " 4   Quartos    10008 non-null  int64 \n",
      " 5   Banheiros  10008 non-null  int64 \n",
      " 6   Vagas      10008 non-null  int64 \n",
      " 7   Valor      10008 non-null  object\n",
      "dtypes: int64(4), object(4)\n",
      "memory usage: 625.6+ KB\n"
     ]
    }
   ],
   "source": [
    "df1_imoveis.info()"
   ]
  },
  {
   "cell_type": "markdown",
   "metadata": {},
   "source": [
    "### Tipos dos Dados"
   ]
  },
  {
   "cell_type": "code",
   "execution_count": 263,
   "metadata": {},
   "outputs": [
    {
     "data": {
      "text/plain": [
       "Rua          object\n",
       "Bairro       object\n",
       "Cidade       object\n",
       "Metragem      int64\n",
       "Quartos       int64\n",
       "Banheiros     int64\n",
       "Vagas         int64\n",
       "Valor        object\n",
       "dtype: object"
      ]
     },
     "execution_count": 263,
     "metadata": {},
     "output_type": "execute_result"
    }
   ],
   "source": [
    "df1_imoveis.dtypes"
   ]
  },
  {
   "cell_type": "markdown",
   "metadata": {},
   "source": [
    "O tipo da coluna `Valor` está errado, devendo ser transformada para numérica. Escolhemos transformá-la para int64, o que será feito mais a frente."
   ]
  },
  {
   "cell_type": "markdown",
   "metadata": {},
   "source": [
    "### Valores Nulos"
   ]
  },
  {
   "cell_type": "code",
   "execution_count": 264,
   "metadata": {
    "scrolled": true
   },
   "outputs": [
    {
     "data": {
      "text/plain": [
       "Rua          3434\n",
       "Bairro         12\n",
       "Cidade          0\n",
       "Metragem        0\n",
       "Quartos         0\n",
       "Banheiros       0\n",
       "Vagas           0\n",
       "Valor           0\n",
       "dtype: int64"
      ]
     },
     "execution_count": 264,
     "metadata": {},
     "output_type": "execute_result"
    }
   ],
   "source": [
    "df1_imoveis.isna().sum()"
   ]
  },
  {
   "cell_type": "markdown",
   "metadata": {},
   "source": [
    "As variáveis `Rua` e `Bairro` possuem valores nulos que precisam ser tratados posteriormente."
   ]
  },
  {
   "cell_type": "markdown",
   "metadata": {},
   "source": [
    "### Buscando Variáveis com Tipos de Dados Incorretos"
   ]
  },
  {
   "cell_type": "markdown",
   "metadata": {},
   "source": [
    "**Variável `Valor`**"
   ]
  },
  {
   "cell_type": "markdown",
   "metadata": {},
   "source": [
    "Analisando os valores desta coluna descobrimos que ela não somente mostra o valor absoluto das casas, mas para algumas linhas ela mostra o valor do aluguel, podendo este ser diário, mensal ou anual."
   ]
  },
  {
   "cell_type": "markdown",
   "metadata": {},
   "source": [
    "Aluguel Diário"
   ]
  },
  {
   "cell_type": "code",
   "execution_count": 265,
   "metadata": {},
   "outputs": [
    {
     "data": {
      "text/html": [
       "<div>\n",
       "<style scoped>\n",
       "    .dataframe tbody tr th:only-of-type {\n",
       "        vertical-align: middle;\n",
       "    }\n",
       "\n",
       "    .dataframe tbody tr th {\n",
       "        vertical-align: top;\n",
       "    }\n",
       "\n",
       "    .dataframe thead th {\n",
       "        text-align: right;\n",
       "    }\n",
       "</style>\n",
       "<table border=\"1\" class=\"dataframe\">\n",
       "  <thead>\n",
       "    <tr style=\"text-align: right;\">\n",
       "      <th></th>\n",
       "      <th>Rua</th>\n",
       "      <th>Bairro</th>\n",
       "      <th>Cidade</th>\n",
       "      <th>Metragem</th>\n",
       "      <th>Quartos</th>\n",
       "      <th>Banheiros</th>\n",
       "      <th>Vagas</th>\n",
       "      <th>Valor</th>\n",
       "    </tr>\n",
       "  </thead>\n",
       "  <tbody>\n",
       "    <tr>\n",
       "      <th>6639</th>\n",
       "      <td>NaN</td>\n",
       "      <td>Jardim Guedala</td>\n",
       "      <td>São Paulo</td>\n",
       "      <td>572</td>\n",
       "      <td>4</td>\n",
       "      <td>6</td>\n",
       "      <td>7</td>\n",
       "      <td>R$ 15.000\\r\\n                      /Dia</td>\n",
       "    </tr>\n",
       "    <tr>\n",
       "      <th>7421</th>\n",
       "      <td>NaN</td>\n",
       "      <td>Jardim Guedala</td>\n",
       "      <td>São Paulo</td>\n",
       "      <td>577</td>\n",
       "      <td>4</td>\n",
       "      <td>6</td>\n",
       "      <td>7</td>\n",
       "      <td>R$ 15.000\\r\\n                      /Dia</td>\n",
       "    </tr>\n",
       "  </tbody>\n",
       "</table>\n",
       "</div>"
      ],
      "text/plain": [
       "      Rua          Bairro     Cidade  Metragem  Quartos  Banheiros  Vagas  \\\n",
       "6639  NaN  Jardim Guedala  São Paulo       572        4          6      7   \n",
       "7421  NaN  Jardim Guedala  São Paulo       577        4          6      7   \n",
       "\n",
       "                                        Valor  \n",
       "6639  R$ 15.000\\r\\n                      /Dia  \n",
       "7421  R$ 15.000\\r\\n                      /Dia  "
      ]
     },
     "execution_count": 265,
     "metadata": {},
     "output_type": "execute_result"
    }
   ],
   "source": [
    "df1_imoveis[df1_imoveis['Valor'].str.contains('Dia')]"
   ]
  },
  {
   "cell_type": "markdown",
   "metadata": {},
   "source": [
    "Aluguel Mensal"
   ]
  },
  {
   "cell_type": "code",
   "execution_count": 266,
   "metadata": {},
   "outputs": [
    {
     "data": {
      "text/html": [
       "<div>\n",
       "<style scoped>\n",
       "    .dataframe tbody tr th:only-of-type {\n",
       "        vertical-align: middle;\n",
       "    }\n",
       "\n",
       "    .dataframe tbody tr th {\n",
       "        vertical-align: top;\n",
       "    }\n",
       "\n",
       "    .dataframe thead th {\n",
       "        text-align: right;\n",
       "    }\n",
       "</style>\n",
       "<table border=\"1\" class=\"dataframe\">\n",
       "  <thead>\n",
       "    <tr style=\"text-align: right;\">\n",
       "      <th></th>\n",
       "      <th>Rua</th>\n",
       "      <th>Bairro</th>\n",
       "      <th>Cidade</th>\n",
       "      <th>Metragem</th>\n",
       "      <th>Quartos</th>\n",
       "      <th>Banheiros</th>\n",
       "      <th>Vagas</th>\n",
       "      <th>Valor</th>\n",
       "    </tr>\n",
       "  </thead>\n",
       "  <tbody>\n",
       "    <tr>\n",
       "      <th>151</th>\n",
       "      <td>Rua Fonseca da Costa</td>\n",
       "      <td>Bosque da Saúde</td>\n",
       "      <td>São Paulo</td>\n",
       "      <td>650</td>\n",
       "      <td>4</td>\n",
       "      <td>6</td>\n",
       "      <td>12</td>\n",
       "      <td>R$ 11.000\\r\\n                      /Mês</td>\n",
       "    </tr>\n",
       "    <tr>\n",
       "      <th>156</th>\n",
       "      <td>NaN</td>\n",
       "      <td>Jardim Paulistano</td>\n",
       "      <td>São Paulo</td>\n",
       "      <td>230</td>\n",
       "      <td>2</td>\n",
       "      <td>3</td>\n",
       "      <td>2</td>\n",
       "      <td>R$ 12.000\\r\\n                      /Mês</td>\n",
       "    </tr>\n",
       "    <tr>\n",
       "      <th>175</th>\n",
       "      <td>Rua Maestro Elias Lobo</td>\n",
       "      <td>Jardim Paulista</td>\n",
       "      <td>São Paulo</td>\n",
       "      <td>542</td>\n",
       "      <td>5</td>\n",
       "      <td>8</td>\n",
       "      <td>4</td>\n",
       "      <td>R$ 25.000\\r\\n                      /Mês</td>\n",
       "    </tr>\n",
       "    <tr>\n",
       "      <th>178</th>\n",
       "      <td>Rua Guararapes</td>\n",
       "      <td>Lapa</td>\n",
       "      <td>São Paulo</td>\n",
       "      <td>515</td>\n",
       "      <td>3</td>\n",
       "      <td>5</td>\n",
       "      <td>8</td>\n",
       "      <td>R$ 30.000\\r\\n                      /Mês</td>\n",
       "    </tr>\n",
       "    <tr>\n",
       "      <th>182</th>\n",
       "      <td>Rua Alvarenga</td>\n",
       "      <td>Butantã</td>\n",
       "      <td>São Paulo</td>\n",
       "      <td>400</td>\n",
       "      <td>4</td>\n",
       "      <td>3</td>\n",
       "      <td>4</td>\n",
       "      <td>R$ 10.000\\r\\n                      /Mês</td>\n",
       "    </tr>\n",
       "  </tbody>\n",
       "</table>\n",
       "</div>"
      ],
      "text/plain": [
       "                        Rua             Bairro     Cidade  Metragem  Quartos  \\\n",
       "151    Rua Fonseca da Costa    Bosque da Saúde  São Paulo       650        4   \n",
       "156                     NaN  Jardim Paulistano  São Paulo       230        2   \n",
       "175  Rua Maestro Elias Lobo    Jardim Paulista  São Paulo       542        5   \n",
       "178          Rua Guararapes               Lapa  São Paulo       515        3   \n",
       "182           Rua Alvarenga            Butantã  São Paulo       400        4   \n",
       "\n",
       "     Banheiros  Vagas                                    Valor  \n",
       "151          6     12  R$ 11.000\\r\\n                      /Mês  \n",
       "156          3      2  R$ 12.000\\r\\n                      /Mês  \n",
       "175          8      4  R$ 25.000\\r\\n                      /Mês  \n",
       "178          5      8  R$ 30.000\\r\\n                      /Mês  \n",
       "182          3      4  R$ 10.000\\r\\n                      /Mês  "
      ]
     },
     "execution_count": 266,
     "metadata": {},
     "output_type": "execute_result"
    }
   ],
   "source": [
    "df_imoveis_alugar = df1_imoveis[df1_imoveis['Valor'].str.contains('Mês')]\n",
    "df_imoveis_alugar.head()"
   ]
  },
  {
   "cell_type": "markdown",
   "metadata": {},
   "source": [
    "Aluguel Anual"
   ]
  },
  {
   "cell_type": "code",
   "execution_count": 267,
   "metadata": {
    "scrolled": true
   },
   "outputs": [
    {
     "data": {
      "text/html": [
       "<div>\n",
       "<style scoped>\n",
       "    .dataframe tbody tr th:only-of-type {\n",
       "        vertical-align: middle;\n",
       "    }\n",
       "\n",
       "    .dataframe tbody tr th {\n",
       "        vertical-align: top;\n",
       "    }\n",
       "\n",
       "    .dataframe thead th {\n",
       "        text-align: right;\n",
       "    }\n",
       "</style>\n",
       "<table border=\"1\" class=\"dataframe\">\n",
       "  <thead>\n",
       "    <tr style=\"text-align: right;\">\n",
       "      <th></th>\n",
       "      <th>Rua</th>\n",
       "      <th>Bairro</th>\n",
       "      <th>Cidade</th>\n",
       "      <th>Metragem</th>\n",
       "      <th>Quartos</th>\n",
       "      <th>Banheiros</th>\n",
       "      <th>Vagas</th>\n",
       "      <th>Valor</th>\n",
       "    </tr>\n",
       "  </thead>\n",
       "  <tbody>\n",
       "    <tr>\n",
       "      <th>6029</th>\n",
       "      <td>NaN</td>\n",
       "      <td>Instituto de Previdência</td>\n",
       "      <td>São Paulo</td>\n",
       "      <td>120</td>\n",
       "      <td>3</td>\n",
       "      <td>1</td>\n",
       "      <td>2</td>\n",
       "      <td>R$ 2.600\\r\\n                      /Ano</td>\n",
       "    </tr>\n",
       "    <tr>\n",
       "      <th>6718</th>\n",
       "      <td>NaN</td>\n",
       "      <td>Instituto de Previdência</td>\n",
       "      <td>São Paulo</td>\n",
       "      <td>125</td>\n",
       "      <td>3</td>\n",
       "      <td>1</td>\n",
       "      <td>2</td>\n",
       "      <td>R$ 2.600\\r\\n                      /Ano</td>\n",
       "    </tr>\n",
       "  </tbody>\n",
       "</table>\n",
       "</div>"
      ],
      "text/plain": [
       "      Rua                    Bairro     Cidade  Metragem  Quartos  Banheiros  \\\n",
       "6029  NaN  Instituto de Previdência  São Paulo       120        3          1   \n",
       "6718  NaN  Instituto de Previdência  São Paulo       125        3          1   \n",
       "\n",
       "      Vagas                                   Valor  \n",
       "6029      2  R$ 2.600\\r\\n                      /Ano  \n",
       "6718      2  R$ 2.600\\r\\n                      /Ano  "
      ]
     },
     "execution_count": 267,
     "metadata": {},
     "output_type": "execute_result"
    }
   ],
   "source": [
    "df1_imoveis[df1_imoveis['Valor'].str.contains('Ano')]"
   ]
  },
  {
   "cell_type": "markdown",
   "metadata": {},
   "source": [
    "### Deletando esses imóveis:"
   ]
  },
  {
   "cell_type": "code",
   "execution_count": 268,
   "metadata": {},
   "outputs": [],
   "source": [
    "# Deletando os imóveis de aluguel DIÁRIO\n",
    "df1_imoveis.drop(df1_imoveis[df1_imoveis['Valor'].str.contains('Dia')].index, inplace=True)\n",
    "\n",
    "# Deletando e salvando os imóveis de aluguel MENSAL\n",
    "df1_imoveis.drop(df_imoveis_alugar.index, inplace=True)\n",
    "df_imoveis_alugar.to_csv('./dados/dados_imoveis_alugar.csv')\n",
    "\n",
    "# Deletando os imóveis de aluguel ANUAL\n",
    "df1_imoveis.drop(df1_imoveis[df1_imoveis['Valor'].str.contains('Ano')].index, inplace=True)"
   ]
  },
  {
   "cell_type": "markdown",
   "metadata": {},
   "source": [
    "**Resolvendo o tipo incorreto**"
   ]
  },
  {
   "cell_type": "code",
   "execution_count": 269,
   "metadata": {},
   "outputs": [
    {
     "data": {
      "text/plain": [
       "8677       R$ 622.500\n",
       "8393    R$ 19.000.000\n",
       "7450     R$ 9.000.000\n",
       "3458     R$ 1.450.000\n",
       "9990     R$ 2.450.000\n",
       "Name: Valor, dtype: object"
      ]
     },
     "execution_count": 269,
     "metadata": {},
     "output_type": "execute_result"
    }
   ],
   "source": [
    "df1_imoveis['Valor'].sample(5)"
   ]
  },
  {
   "cell_type": "markdown",
   "metadata": {},
   "source": [
    "Corrigindo o tipo de dado da variável `Valor`"
   ]
  },
  {
   "cell_type": "code",
   "execution_count": 270,
   "metadata": {},
   "outputs": [],
   "source": [
    "# Casting da variável Valor de Object para int64\n",
    "df1_imoveis['Valor'] = df1_imoveis['Valor']\\\n",
    "    .str.replace('R\\$|,', '', regex=True)\\\n",
    "        .str.replace('.', '').str.strip()"
   ]
  },
  {
   "cell_type": "code",
   "execution_count": 271,
   "metadata": {
    "scrolled": true
   },
   "outputs": [],
   "source": [
    "df1_imoveis['Valor'] = df1_imoveis['Valor'].astype(int)\n",
    "df1_imoveis['Valor'].sample(5)\n",
    "\n",
    "df1_relatorio = df1_imoveis.copy()"
   ]
  },
  {
   "cell_type": "markdown",
   "metadata": {},
   "source": [
    "## Criando Novas Colunas "
   ]
  },
  {
   "cell_type": "code",
   "execution_count": 272,
   "metadata": {},
   "outputs": [],
   "source": [
    "df2_imoveis = df1_imoveis.copy()"
   ]
  },
  {
   "cell_type": "markdown",
   "metadata": {},
   "source": [
    "#### Criando a coluna `Valor_m2`\n",
    "\n",
    "Representa o valor médio do m2 para cada linha do dataframe."
   ]
  },
  {
   "cell_type": "code",
   "execution_count": 273,
   "metadata": {},
   "outputs": [
    {
     "data": {
      "text/plain": [
       "0   7000.00\n",
       "1   7459.68\n",
       "2   3040.00\n",
       "3   2209.68\n",
       "4   5400.00\n",
       "Name: Valor_m2, dtype: float64"
      ]
     },
     "execution_count": 273,
     "metadata": {},
     "output_type": "execute_result"
    }
   ],
   "source": [
    "df2_imoveis['Valor_m2'] = df2_imoveis['Valor'] / df2_imoveis['Metragem']\n",
    "df2_imoveis['Valor_m2'].head()"
   ]
  },
  {
   "cell_type": "markdown",
   "metadata": {},
   "source": [
    "## Estatísticas de Resumo"
   ]
  },
  {
   "cell_type": "code",
   "execution_count": 274,
   "metadata": {},
   "outputs": [],
   "source": [
    "df3_imoveis = df2_imoveis.copy()"
   ]
  },
  {
   "cell_type": "code",
   "execution_count": 275,
   "metadata": {},
   "outputs": [],
   "source": [
    "# dividindo o dataframe em variáveis numéricas e categóricas\n",
    "num_attr, cat_attr = df3_imoveis.select_dtypes(include=[int, float]), df3_imoveis.select_dtypes(exclude=[int, float])"
   ]
  },
  {
   "cell_type": "markdown",
   "metadata": {},
   "source": [
    "**Variáveis Numéricas**"
   ]
  },
  {
   "cell_type": "code",
   "execution_count": 276,
   "metadata": {},
   "outputs": [
    {
     "data": {
      "text/html": [
       "<div>\n",
       "<style scoped>\n",
       "    .dataframe tbody tr th:only-of-type {\n",
       "        vertical-align: middle;\n",
       "    }\n",
       "\n",
       "    .dataframe tbody tr th {\n",
       "        vertical-align: top;\n",
       "    }\n",
       "\n",
       "    .dataframe thead th {\n",
       "        text-align: right;\n",
       "    }\n",
       "</style>\n",
       "<table border=\"1\" class=\"dataframe\">\n",
       "  <thead>\n",
       "    <tr style=\"text-align: right;\">\n",
       "      <th></th>\n",
       "      <th>Quantidade</th>\n",
       "      <th>Média</th>\n",
       "      <th>Desvio Padrão</th>\n",
       "      <th>Mínimo</th>\n",
       "      <th>Q1</th>\n",
       "      <th>Mediana/Q2</th>\n",
       "      <th>Q3</th>\n",
       "      <th>Máximo</th>\n",
       "    </tr>\n",
       "  </thead>\n",
       "  <tbody>\n",
       "    <tr>\n",
       "      <th>Metragem</th>\n",
       "      <td>9156.00</td>\n",
       "      <td>434.42</td>\n",
       "      <td>7856.42</td>\n",
       "      <td>10.00</td>\n",
       "      <td>168.00</td>\n",
       "      <td>276.00</td>\n",
       "      <td>450.00</td>\n",
       "      <td>750000.00</td>\n",
       "    </tr>\n",
       "    <tr>\n",
       "      <th>Quartos</th>\n",
       "      <td>9156.00</td>\n",
       "      <td>3.45</td>\n",
       "      <td>1.05</td>\n",
       "      <td>1.00</td>\n",
       "      <td>3.00</td>\n",
       "      <td>3.00</td>\n",
       "      <td>4.00</td>\n",
       "      <td>16.00</td>\n",
       "    </tr>\n",
       "    <tr>\n",
       "      <th>Banheiros</th>\n",
       "      <td>9156.00</td>\n",
       "      <td>3.80</td>\n",
       "      <td>1.97</td>\n",
       "      <td>1.00</td>\n",
       "      <td>2.00</td>\n",
       "      <td>4.00</td>\n",
       "      <td>5.00</td>\n",
       "      <td>40.00</td>\n",
       "    </tr>\n",
       "    <tr>\n",
       "      <th>Vagas</th>\n",
       "      <td>9156.00</td>\n",
       "      <td>3.96</td>\n",
       "      <td>2.60</td>\n",
       "      <td>1.00</td>\n",
       "      <td>2.00</td>\n",
       "      <td>4.00</td>\n",
       "      <td>5.00</td>\n",
       "      <td>50.00</td>\n",
       "    </tr>\n",
       "    <tr>\n",
       "      <th>Valor</th>\n",
       "      <td>9156.00</td>\n",
       "      <td>3052202.96</td>\n",
       "      <td>3944208.19</td>\n",
       "      <td>13000.00</td>\n",
       "      <td>890000.00</td>\n",
       "      <td>1800000.00</td>\n",
       "      <td>3500000.00</td>\n",
       "      <td>65000000.00</td>\n",
       "    </tr>\n",
       "    <tr>\n",
       "      <th>Valor_m2</th>\n",
       "      <td>9156.00</td>\n",
       "      <td>8004.07</td>\n",
       "      <td>5291.32</td>\n",
       "      <td>9.33</td>\n",
       "      <td>4750.00</td>\n",
       "      <td>6500.00</td>\n",
       "      <td>9453.78</td>\n",
       "      <td>80000.00</td>\n",
       "    </tr>\n",
       "  </tbody>\n",
       "</table>\n",
       "</div>"
      ],
      "text/plain": [
       "           Quantidade      Média  Desvio Padrão   Mínimo        Q1  \\\n",
       "Metragem      9156.00     434.42        7856.42    10.00    168.00   \n",
       "Quartos       9156.00       3.45           1.05     1.00      3.00   \n",
       "Banheiros     9156.00       3.80           1.97     1.00      2.00   \n",
       "Vagas         9156.00       3.96           2.60     1.00      2.00   \n",
       "Valor         9156.00 3052202.96     3944208.19 13000.00 890000.00   \n",
       "Valor_m2      9156.00    8004.07        5291.32     9.33   4750.00   \n",
       "\n",
       "           Mediana/Q2         Q3      Máximo  \n",
       "Metragem       276.00     450.00   750000.00  \n",
       "Quartos          3.00       4.00       16.00  \n",
       "Banheiros        4.00       5.00       40.00  \n",
       "Vagas            4.00       5.00       50.00  \n",
       "Valor      1800000.00 3500000.00 65000000.00  \n",
       "Valor_m2      6500.00    9453.78    80000.00  "
      ]
     },
     "execution_count": 276,
     "metadata": {},
     "output_type": "execute_result"
    }
   ],
   "source": [
    "num_attr.describe().rename({'count': 'Quantidade', 'max': 'Máximo', 'min': 'Mínimo', '50%': 'Mediana/Q2', 'mean': 'Média', '25%': 'Q1', '75%': 'Q3', 'std': 'Desvio Padrão'}).T"
   ]
  },
  {
   "cell_type": "markdown",
   "metadata": {},
   "source": [
    "Imprimindo boxplot para as variáveis numéricas"
   ]
  },
  {
   "cell_type": "code",
   "execution_count": 277,
   "metadata": {},
   "outputs": [
    {
     "data": {
      "image/png": "[encoded data removed]",
      "text/plain": [
       "<Figure size 1000x800 with 4 Axes>"
      ]
     },
     "metadata": {},
     "output_type": "display_data"
    }
   ],
   "source": [
    "fig, ax = plt.subplots(nrows=2, ncols=2, figsize=(10, 8))\n",
    "\n",
    "# Boxplot da variável Metragem\n",
    "sns.boxplot(data=df3_imoveis, y='Metragem', ax=ax[0, 0])\n",
    "ax[0, 0].set_title('Boxplot da variável Metragem')\n",
    "\n",
    "# Boxplot da variável Quartos\n",
    "sns.boxplot(data=df3_imoveis, y='Quartos', ax=ax[0, 1])\n",
    "ax[0, 1].set_title('Boxplot da variável Quartos')\n",
    "\n",
    "# Boxplot da variável Banheiros\n",
    "sns.boxplot(data=df3_imoveis, y='Banheiros', ax=ax[1, 0])\n",
    "ax[1, 0].set_title('Boxplot da variável Banheiros')\n",
    "\n",
    "# Boxplot da variável Vagas\n",
    "sns.boxplot(data=df3_imoveis, y='Vagas', ax=ax[1, 1])\n",
    "ax[1, 1].set_title('Boxplot da variável Vagas')\n",
    "\n",
    "plt.tight_layout()\n",
    "\n",
    "plt.show()"
   ]
  },
  {
   "cell_type": "code",
   "execution_count": 278,
   "metadata": {
    "scrolled": false
   },
   "outputs": [
    {
     "data": {
      "image/png": "[encoded data removed]",
      "text/plain": [
       "<Figure size 1000x800 with 2 Axes>"
      ]
     },
     "metadata": {},
     "output_type": "display_data"
    }
   ],
   "source": [
    "fig, ax = plt.subplots(2, 1, figsize=(10, 8))\n",
    "\n",
    "sns.boxplot(data=df3_imoveis, x='Valor', ax=ax[0])\n",
    "\n",
    "sns.boxplot(data=df3_imoveis, x='Valor_m2', ax=ax[1])\n",
    "\n",
    "ax[0].set_title('Gráficos de Boxplot para as variáveis referentes ao valor do imóvel.', fontsize = 16)\n",
    "plt.tight_layout(h_pad = 5)\n",
    "\n",
    "plt.show()"
   ]
  },
  {
   "cell_type": "markdown",
   "metadata": {},
   "source": [
    "OBS: Os boxplots mostrados acima estão tratados na seção do relatório"
   ]
  },
  {
   "cell_type": "markdown",
   "metadata": {},
   "source": [
    "**Variáveis Categóricas**"
   ]
  },
  {
   "cell_type": "code",
   "execution_count": 279,
   "metadata": {},
   "outputs": [
    {
     "data": {
      "text/html": [
       "<div>\n",
       "<style scoped>\n",
       "    .dataframe tbody tr th:only-of-type {\n",
       "        vertical-align: middle;\n",
       "    }\n",
       "\n",
       "    .dataframe tbody tr th {\n",
       "        vertical-align: top;\n",
       "    }\n",
       "\n",
       "    .dataframe thead th {\n",
       "        text-align: right;\n",
       "    }\n",
       "</style>\n",
       "<table border=\"1\" class=\"dataframe\">\n",
       "  <thead>\n",
       "    <tr style=\"text-align: right;\">\n",
       "      <th></th>\n",
       "      <th>Quantidade</th>\n",
       "      <th>Qtd. Valores Únicos</th>\n",
       "      <th>Moda</th>\n",
       "      <th>Freq. da Moda</th>\n",
       "    </tr>\n",
       "  </thead>\n",
       "  <tbody>\n",
       "    <tr>\n",
       "      <th>Rua</th>\n",
       "      <td>6107</td>\n",
       "      <td>3006</td>\n",
       "      <td>Rua Alberto Faria</td>\n",
       "      <td>24</td>\n",
       "    </tr>\n",
       "    <tr>\n",
       "      <th>Bairro</th>\n",
       "      <td>9146</td>\n",
       "      <td>697</td>\n",
       "      <td>Alto de Pinheiros</td>\n",
       "      <td>369</td>\n",
       "    </tr>\n",
       "    <tr>\n",
       "      <th>Cidade</th>\n",
       "      <td>9156</td>\n",
       "      <td>1</td>\n",
       "      <td>São Paulo</td>\n",
       "      <td>9156</td>\n",
       "    </tr>\n",
       "  </tbody>\n",
       "</table>\n",
       "</div>"
      ],
      "text/plain": [
       "       Quantidade Qtd. Valores Únicos               Moda Freq. da Moda\n",
       "Rua          6107                3006  Rua Alberto Faria            24\n",
       "Bairro       9146                 697  Alto de Pinheiros           369\n",
       "Cidade       9156                   1          São Paulo          9156"
      ]
     },
     "execution_count": 279,
     "metadata": {},
     "output_type": "execute_result"
    }
   ],
   "source": [
    "cat_attr.describe().rename({'count': 'Quantidade', 'unique': 'Qtd. Valores Únicos', 'top': 'Moda', 'freq': 'Freq. da Moda'}).T"
   ]
  },
  {
   "cell_type": "markdown",
   "metadata": {},
   "source": [
    "<a id=\"Fase-3\"></a>"
   ]
  },
  {
   "cell_type": "markdown",
   "metadata": {},
   "source": [
    "# FASE 3\n",
    "___"
   ]
  },
  {
   "cell_type": "markdown",
   "metadata": {},
   "source": [
    " "
   ]
  },
  {
   "cell_type": "markdown",
   "metadata": {},
   "source": [
    "## Análise Exploratória dos Dados"
   ]
  },
  {
   "cell_type": "code",
   "execution_count": 280,
   "metadata": {},
   "outputs": [],
   "source": [
    "df4_imoveis = df3_imoveis.copy()"
   ]
  },
  {
   "cell_type": "markdown",
   "metadata": {},
   "source": [
    "### Análise Univariada"
   ]
  },
  {
   "cell_type": "markdown",
   "metadata": {},
   "source": [
    "##### Variáveis Numéricas"
   ]
  },
  {
   "cell_type": "markdown",
   "metadata": {},
   "source": [
    "##### `Metragem`"
   ]
  },
  {
   "cell_type": "code",
   "execution_count": 281,
   "metadata": {},
   "outputs": [
    {
     "data": {
      "image/png": "[encoded data removed]",
      "text/plain": [
       "<Figure size 1000x800 with 4 Axes>"
      ]
     },
     "metadata": {},
     "output_type": "display_data"
    }
   ],
   "source": [
    "fig, ax = plt.subplots(nrows=2, ncols=2, figsize=(10, 8))\n",
    "\n",
    "# Gráfico de Histograma\n",
    "sns.histplot(data=df4_imoveis, x='Metragem', ax=ax[0, 0], log_scale=True)#, kde = True, log_scale = True, bins = 25)\n",
    "ax[0, 0].set_title('Histograma da variável Metragem')\n",
    "\n",
    "# Gráfico de Densidade\n",
    "sns.kdeplot(data=df4_imoveis, x='Metragem', ax=ax[0, 1], log_scale=True)\n",
    "ax[0, 1].set_title('Density Plot')\n",
    "\n",
    "# Gráfico de Boxplot\n",
    "sns.boxplot(data=df4_imoveis, y='Metragem', ax=ax[1, 0])\n",
    "ax[1, 0].set_title('Boxplot')\n",
    "\n",
    "# Gráfico de Scatter Plot\n",
    "sns.scatterplot(data=df4_imoveis, x='Valor', y='Metragem', ax=ax[1, 1])\n",
    "ax[1, 1].set_title('Scatter Plot')\n",
    "\n",
    "plt.tight_layout()\n",
    "\n",
    "plt.show()"
   ]
  },
  {
   "cell_type": "markdown",
   "metadata": {},
   "source": [
    "##### `Quartos`"
   ]
  },
  {
   "cell_type": "markdown",
   "metadata": {},
   "source": [
    "Imprimindo gráficos elucidativos"
   ]
  },
  {
   "cell_type": "code",
   "execution_count": 282,
   "metadata": {},
   "outputs": [
    {
     "data": {
      "image/png": "[encoded data removed]",
      "text/plain": [
       "<Figure size 1000x800 with 4 Axes>"
      ]
     },
     "metadata": {},
     "output_type": "display_data"
    }
   ],
   "source": [
    "fig, ax = plt.subplots(nrows=2, ncols=2, figsize=(10, 8))\n",
    "\n",
    "# Gráfico de Histograma\n",
    "sns.countplot(data=df4_imoveis, x='Quartos', ax=ax[0, 0])\n",
    "ax[0, 0].set_title('Quantidade de imóveis x Quantidade de Quartos')\n",
    "ax[0, 0].set_ylabel('Contagem de Imóveis')\n",
    "\n",
    "# Gráfico de Densidade\n",
    "sns.kdeplot(data=df4_imoveis, x='Quartos', ax=ax[0, 1])\n",
    "ax[0, 1].set_title('Density Plot')\n",
    "\n",
    "# Gráfico de Boxplot\n",
    "sns.boxplot(data=df4_imoveis, y='Quartos', ax=ax[1, 0])\n",
    "ax[1, 0].set_title('Boxplot')\n",
    "\n",
    "# Gráfico de Scatter Plot\n",
    "sns.scatterplot(data=df4_imoveis, x='Valor', y='Quartos', ax=ax[1, 1])\n",
    "ax[1, 1].set_title('Scatter Plot')\n",
    "\n",
    "plt.tight_layout()\n",
    "\n",
    "plt.show()"
   ]
  },
  {
   "cell_type": "markdown",
   "metadata": {},
   "source": [
    "##### `Banheiros`"
   ]
  },
  {
   "cell_type": "markdown",
   "metadata": {},
   "source": [
    "Imprimindo gráficos elucidativos"
   ]
  },
  {
   "cell_type": "code",
   "execution_count": null,
   "metadata": {},
   "outputs": [],
   "source": [
    "fig, ax = plt.subplots(nrows=2, ncols=2, figsize=(10, 8))\n",
    "\n",
    "# Gráfico de Histograma\n",
    "sns.countplot(data=df4_imoveis, x='Banheiros', ax=ax[0, 0])\n",
    "ax[0, 0].set_title('Quantidade de imóveis x Quantidade de banheiros')\n",
    "ax[0,0].set_ylabel('Contagem de Imóveis')\n",
    "\n",
    "# Gráfico de Densidade\n",
    "sns.kdeplot(data=df4_imoveis, x='Banheiros', ax=ax[0, 1])\n",
    "ax[0, 1].set_title('Density Plot')\n",
    "\n",
    "# Gráfico de Boxplot\n",
    "sns.boxplot(data=df4_imoveis, y='Banheiros', ax=ax[1, 0])\n",
    "ax[1, 0].set_title('Boxplot')\n",
    "\n",
    "# Gráfico de Scatter Plot\n",
    "sns.scatterplot(data=df4_imoveis, x='Valor', y='Banheiros', ax=ax[1, 1])\n",
    "ax[1, 1].set_title('Scatter Plot')\n",
    "\n",
    "plt.tight_layout()\n",
    "\n",
    "plt.show()"
   ]
  },
  {
   "cell_type": "markdown",
   "metadata": {},
   "source": [
    "##### `Vagas`"
   ]
  },
  {
   "cell_type": "markdown",
   "metadata": {},
   "source": [
    "Imprimindo gráficos elucidativos"
   ]
  },
  {
   "cell_type": "code",
   "execution_count": null,
   "metadata": {},
   "outputs": [],
   "source": [
    "fig, ax = plt.subplots(nrows=2, ncols=2, figsize=(10, 8))\n",
    "\n",
    "# Gráfico de Histograma\n",
    "sns.countplot(data=df4_imoveis, x='Vagas', ax=ax[0, 0])\n",
    "ax[0, 0].set_title('Histograma da variável Vagas')\n",
    "\n",
    "# Gráfico de Densidade\n",
    "sns.kdeplot(data=df4_imoveis, x='Vagas', ax=ax[0, 1])\n",
    "ax[0, 1].set_title('Density Plot')\n",
    "\n",
    "# Gráfico de Boxplot\n",
    "sns.boxplot(data=df4_imoveis, y='Vagas', ax=ax[1, 0])\n",
    "ax[1, 0].set_title('Boxplot')\n",
    "\n",
    "# Gráfico de Scatter Plot\n",
    "sns.scatterplot(data=df4_imoveis, x='Valor', y='Vagas', ax=ax[1, 1])\n",
    "ax[1, 1].set_title('Scatter Plot')\n",
    "\n",
    "plt.tight_layout()\n",
    "\n",
    "plt.show()"
   ]
  },
  {
   "cell_type": "markdown",
   "metadata": {},
   "source": [
    "##### `Valor`"
   ]
  },
  {
   "cell_type": "markdown",
   "metadata": {},
   "source": [
    "Imprimindo gráficos elucidativos"
   ]
  },
  {
   "cell_type": "code",
   "execution_count": null,
   "metadata": {},
   "outputs": [],
   "source": [
    "fig, ax = plt.subplots(nrows=2, ncols=2, figsize=(10, 8))\n",
    "\n",
    "# Gráfico de Histograma\n",
    "sns.histplot(data=df4_imoveis, x='Valor', ax=ax[0, 0], log_scale=True)\n",
    "ax[0, 0].set_title('Histograma da variável Valor')\n",
    "\n",
    "# Gráfico de Densidade\n",
    "sns.kdeplot(data=df4_imoveis, x='Valor', ax=ax[0, 1], log_scale=True)\n",
    "ax[0, 1].set_title('Density Plot')\n",
    "\n",
    "# Gráfico de Boxplot\n",
    "sns.boxplot(data=df4_imoveis, y='Valor', ax=ax[1, 0])\n",
    "ax[1, 0].set_title('Boxplot')\n",
    "\n",
    "# Gráfico de Scatter Plot\n",
    "sns.scatterplot(data=df4_imoveis, x='Valor', y='Valor', ax=ax[1, 1])\n",
    "ax[1, 1].set_title('Scatter Plot')\n",
    "\n",
    "plt.tight_layout()\n",
    "\n",
    "plt.show()"
   ]
  },
  {
   "cell_type": "markdown",
   "metadata": {},
   "source": [
    "##### `Valor_m2`"
   ]
  },
  {
   "cell_type": "markdown",
   "metadata": {},
   "source": [
    "Imprimindo gráficos elucidativos"
   ]
  },
  {
   "cell_type": "code",
   "execution_count": null,
   "metadata": {
    "scrolled": false
   },
   "outputs": [],
   "source": [
    "fig, ax = plt.subplots(nrows=2, ncols=2, figsize=(10, 8))\n",
    "\n",
    "# Gráfico de Histograma\n",
    "sns.histplot(data=df4_imoveis, x='Valor_m2', ax=ax[0, 0])\n",
    "ax[0, 0].set_title('Histograma da variável Valor_m2')\n",
    "\n",
    "# Gráfico de Densidade\n",
    "sns.kdeplot(data=df4_imoveis, x='Valor_m2', ax=ax[0, 1])\n",
    "ax[0, 1].set_title('Density Plot')\n",
    "\n",
    "# Gráfico de Boxplot\n",
    "sns.boxplot(data=df4_imoveis, y='Valor_m2', ax=ax[1, 0])\n",
    "ax[1, 0].set_title('Boxplot')\n",
    "\n",
    "# Gráfico de Scatter Plot\n",
    "sns.scatterplot(data=df4_imoveis, x='Valor', y='Valor_m2', ax=ax[1, 1])\n",
    "ax[1, 1].set_title('Scatter Plot')\n",
    "\n",
    "plt.tight_layout()\n",
    "\n",
    "plt.show()"
   ]
  },
  {
   "cell_type": "markdown",
   "metadata": {},
   "source": [
    "##### Variáveis Categóricas"
   ]
  },
  {
   "cell_type": "markdown",
   "metadata": {},
   "source": [
    "##### `Rua`"
   ]
  },
  {
   "cell_type": "code",
   "execution_count": null,
   "metadata": {
    "scrolled": false
   },
   "outputs": [],
   "source": [
    "fig, ax = plt.subplots(figsize=(10, 5))\n",
    "\n",
    "df_rua = df4_imoveis.sort_values(by='Valor', ascending = False)\n",
    "\n",
    "sns.barplot(data=df_rua[:10], y = 'Valor', x='Rua')\n",
    "ax.set_title('Ruas com os imóveis mais caros', size=18)\n",
    "ax.set_xlabel('Rua', size=12)\n",
    "ax.set_ylabel('Valor (milhões de reais)', size=12)\n",
    "\n",
    "\n",
    "plt.show()"
   ]
  },
  {
   "cell_type": "markdown",
   "metadata": {},
   "source": [
    "##### `Bairro`"
   ]
  },
  {
   "cell_type": "code",
   "execution_count": null,
   "metadata": {
    "scrolled": false
   },
   "outputs": [],
   "source": [
    "fig, ax = plt.subplots(figsize=(10, 5))\n",
    "\n",
    "df_bairros = df4_imoveis.sort_values(by='Valor', ascending = False)\n",
    "\n",
    "sns.barplot(data=df_bairros[:10], y = 'Valor', x='Bairro')\n",
    "ax.set_title('Bairros com os imóveis mais caros', size=18)\n",
    "ax.set_xlabel('Bairro', size=12)\n",
    "ax.set_ylabel('Valor (milhões de reais)', size=12)\n",
    "plt.show()"
   ]
  },
  {
   "cell_type": "markdown",
   "metadata": {},
   "source": [
    "<a id=\"Fase-4\"></a>"
   ]
  },
  {
   "cell_type": "markdown",
   "metadata": {},
   "source": [
    "# FASE 4"
   ]
  },
  {
   "cell_type": "markdown",
   "metadata": {},
   "source": [
    " "
   ]
  },
  {
   "cell_type": "code",
   "execution_count": null,
   "metadata": {
    "scrolled": false
   },
   "outputs": [],
   "source": [
    "df5_imoveis = df4_imoveis.copy()\n",
    "df5_imoveis"
   ]
  },
  {
   "cell_type": "code",
   "execution_count": null,
   "metadata": {
    "scrolled": false
   },
   "outputs": [],
   "source": [
    "df5_imoveis.sort_values(by='Bairro', ascending = False)"
   ]
  },
  {
   "cell_type": "code",
   "execution_count": null,
   "metadata": {},
   "outputs": [],
   "source": [
    "indexes_to_drop = find_outliers_tucker(df5_imoveis['Metragem']) \n",
    "df5_imoveis.drop(indexes_to_drop, inplace=True)\n",
    "\n",
    "indexes_to_drop = find_outliers_tucker(df5_imoveis['Quartos']) \n",
    "df5_imoveis.drop(indexes_to_drop, inplace=True)\n",
    "\n",
    "indexes_to_drop = find_outliers_tucker(df5_imoveis['Banheiros']) \n",
    "df5_imoveis.drop(indexes_to_drop, inplace=True)\n",
    "\n",
    "indexes_to_drop = find_outliers_tucker(df5_imoveis['Vagas']) \n",
    "df5_imoveis.drop(indexes_to_drop, inplace=True)\n",
    "\n",
    "indexes_to_drop = find_outliers_tucker(df5_imoveis['Valor']) \n",
    "df5_imoveis.drop(indexes_to_drop, inplace=True)\n",
    "\n",
    "indexes_to_drop = find_outliers_tucker(df5_imoveis['Valor_m2']) \n",
    "df5_imoveis.drop(indexes_to_drop, inplace=True)"
   ]
  },
  {
   "cell_type": "code",
   "execution_count": null,
   "metadata": {},
   "outputs": [],
   "source": [
    "df5_imoveis_group = df5_imoveis[[\"Metragem\", \"Quartos\", \"Banheiros\", \"Vagas\", \"Valor\", \"Valor_m2\"]]"
   ]
  },
  {
   "cell_type": "code",
   "execution_count": null,
   "metadata": {},
   "outputs": [],
   "source": [
    "kmeans = KMeans(n_clusters=5)"
   ]
  },
  {
   "cell_type": "code",
   "execution_count": null,
   "metadata": {},
   "outputs": [],
   "source": [
    "kmeans.fit(df5_imoveis_group)"
   ]
  },
  {
   "cell_type": "code",
   "execution_count": null,
   "metadata": {
    "scrolled": true
   },
   "outputs": [],
   "source": [
    "kmeans.labels_"
   ]
  },
  {
   "cell_type": "code",
   "execution_count": null,
   "metadata": {
    "scrolled": false
   },
   "outputs": [],
   "source": [
    "fig, ax = plt.subplots(figsize=(10, 5))\n",
    "\n",
    "sns.scatterplot(data=df5_imoveis_group, x=\"Metragem\", y=\"Valor\", hue=kmeans.labels_)"
   ]
  },
  {
   "cell_type": "code",
   "execution_count": null,
   "metadata": {},
   "outputs": [],
   "source": [
    "fig, ax = plt.subplots(figsize=(10, 5))\n",
    "\n",
    "sns.scatterplot(data=df5_imoveis_group, x=\"Banheiros\", y=\"Valor\", hue=kmeans.labels_)"
   ]
  },
  {
   "cell_type": "code",
   "execution_count": null,
   "metadata": {
    "scrolled": false
   },
   "outputs": [],
   "source": [
    "fig, ax = plt.subplots(figsize=(10, 5))\n",
    "\n",
    "sns.scatterplot(data=df5_imoveis_group, x=\"Quartos\", y=\"Valor\", hue=kmeans.labels_)"
   ]
  },
  {
   "cell_type": "markdown",
   "metadata": {},
   "source": [
    "Após analisar as possibilidades de agrupamento usando o K-Means, iremos deixar os dados mais legíveis no relatório. Pensamos em algumas possibilidades:\n",
    "- Separar os imóveis em grupos, cada grupo seria composto por um intervalo de valor por metro quadrado. Por exemplo, no grupo 1 entraria os imóveis mais caros em valor por metro quadrado, do grupo 2 ao grupo 4 entraria os imóveis com intervalos de valores à definir e no grupo 5 seriam os imóveis com o preço por metro quadrado mais barato.\n",
    "- Pegar a media de valor do imóvel por bairros e agrupar os 10 mais valorizados tentando relacionar o preço e a metragem do imóvel."
   ]
  },
  {
   "cell_type": "markdown",
   "metadata": {},
   "source": [
    "<a id=\"Relatório\"></a>"
   ]
  },
  {
   "cell_type": "markdown",
   "metadata": {},
   "source": [
    "# RELATÓRIO"
   ]
  },
  {
   "cell_type": "markdown",
   "metadata": {},
   "source": [
    "---"
   ]
  },
  {
   "cell_type": "markdown",
   "metadata": {},
   "source": [
    "## Análise de dataset de imóveis em São Paulo"
   ]
  },
  {
   "cell_type": "markdown",
   "metadata": {},
   "source": [
    "### Integrantes:"
   ]
  },
  {
   "cell_type": "markdown",
   "metadata": {},
   "source": [
    "Matrícula | Nome\n",
    "--- | ---\n",
    "20220167322 | Gustavo Johan Vieira Vasconcelos\n",
    "20220071240 | João Pedro Serpa de Souza Batista"
   ]
  },
  {
   "cell_type": "markdown",
   "metadata": {},
   "source": [
    "### Introdução"
   ]
  },
  {
   "cell_type": "markdown",
   "metadata": {},
   "source": [
    "Este relatório tem como principal motivação apresentar informações sobre imóveis da cidade de São Paulo.\n",
    "\n",
    "Iremos abordar quais bairros são os mais valorizados, o que os outliers podem nos dizer sobre imóveis que estão substancialmente acima ou abaixo da média em termos de preço ou valor por metro quadrado, também identificaremos correlações como o impacto da metragem no valor do imóvel e traremos alguns imóveis que apresentam as melhores oportunidades de negócio."
   ]
  },
  {
   "cell_type": "markdown",
   "metadata": {},
   "source": [
    "### Sumário"
   ]
  },
  {
   "cell_type": "markdown",
   "metadata": {},
   "source": [
    "- [Dados Usados](#Dados-Usados)\n",
    "- [Pré-processamento](#Pre-processamento)\n",
    "- [Gráficos](#Graficos)\n",
    "- [Perguntas](#Perguntas)\n",
    "- [Conclusão](#Conclusao)\n",
    "- [Curiosidades](#Curiosidades)\n"
   ]
  },
  {
   "cell_type": "markdown",
   "metadata": {},
   "source": [
    "<a id=\"Dados-Usados\"></a>"
   ]
  },
  {
   "cell_type": "markdown",
   "metadata": {},
   "source": [
    "### Dados Usados:"
   ]
  },
  {
   "cell_type": "markdown",
   "metadata": {},
   "source": [
    "| Código da variável | Descrição |\n",
    "| :--- | :--- |\n",
    "Rua | Localização da rua de onde o imóvel pertence\n",
    "Bairro | Bairro onde imóvel está localizado\n",
    "Cidade | Cidade onde imóvel está localizado\n",
    "Metragem | Área em metros quadrado\n",
    "Quartos | Número de quartos no imóvel\n",
    "Banheiros | Número de banheiros no imóvel\n",
    "Vagas |  Vagas de estacionamento por veículo\n",
    "Valor | Preço da casa que está em moeda brasileira BRL"
   ]
  },
  {
   "cell_type": "markdown",
   "metadata": {},
   "source": [
    "Carregando **dataset de imóveis** à venda na cidade de São Paulo"
   ]
  },
  {
   "cell_type": "code",
   "execution_count": null,
   "metadata": {
    "scrolled": false
   },
   "outputs": [],
   "source": [
    "df_imoveis = pd.read_csv('./dados/dados_imoveis.csv')\n",
    "df_imoveis.head()"
   ]
  },
  {
   "cell_type": "code",
   "execution_count": null,
   "metadata": {},
   "outputs": [],
   "source": [
    "df_relatorio = df_imoveis.copy()\n",
    "df1_relatorio = df1_imoveis.copy()"
   ]
  },
  {
   "cell_type": "markdown",
   "metadata": {},
   "source": [
    "- #### Tratando as ruas com número"
   ]
  },
  {
   "cell_type": "markdown",
   "metadata": {},
   "source": [
    "Após verificar os nomes das ruas, descobrimos que há algumas com números:"
   ]
  },
  {
   "cell_type": "code",
   "execution_count": null,
   "metadata": {
    "scrolled": false
   },
   "outputs": [],
   "source": [
    "df1_relatorio[df1_relatorio['Rua'].str.contains(',') & df1_relatorio['Rua'].notna()].sample(5)"
   ]
  },
  {
   "cell_type": "markdown",
   "metadata": {},
   "source": [
    " "
   ]
  },
  {
   "cell_type": "markdown",
   "metadata": {},
   "source": [
    "O que poderá acarretar em distorções nos gráficos, criando variáveis diferentes para ruas iguais. Por exemplo:"
   ]
  },
  {
   "cell_type": "markdown",
   "metadata": {},
   "source": [
    " "
   ]
  },
  {
   "cell_type": "code",
   "execution_count": null,
   "metadata": {
    "scrolled": false
   },
   "outputs": [],
   "source": [
    "df1_relatorio[df1_relatorio['Rua'].str.contains('Alameda dos Anapurus') & df_relatorio['Rua'].notna()]"
   ]
  },
  {
   "cell_type": "markdown",
   "metadata": {},
   "source": [
    "Como podemos observar, temos 9 ruas de mesmo nome. Se criarmos algum gráfico com um dos eixos sendo a coluna Rua, teremos 4 elementos para uma mesma rua, gerando assim dados errados.\n",
    "\n",
    "\n",
    "Corrigindo os nomes da variável `Rua`"
   ]
  },
  {
   "cell_type": "code",
   "execution_count": null,
   "metadata": {},
   "outputs": [],
   "source": [
    "df_relatorio['Rua'] = df_relatorio['Rua'].str.split(',').str[0]\n",
    "df1_relatorio['Rua'] = df1_relatorio['Rua'].str.split(',').str[0]"
   ]
  },
  {
   "cell_type": "code",
   "execution_count": null,
   "metadata": {
    "scrolled": true
   },
   "outputs": [],
   "source": [
    "df_relatorio.loc[df_relatorio['Rua'] == 'Rua Madalena de Morais']"
   ]
  },
  {
   "cell_type": "markdown",
   "metadata": {},
   "source": [
    "Nota-se que existem imóveis no dataset que são da mesma Rua e que algum deles possui o valor correto da coluna Bairro. Basta imputar-mos estes valores aos imóveis com o dado faltante, para isso iremos utilizar a função [imputa_bairro()](#Funções) definida no inicio do documento. "
   ]
  },
  {
   "cell_type": "code",
   "execution_count": null,
   "metadata": {},
   "outputs": [],
   "source": [
    "# removendo os valores nulos da coluna Bairro atraves da funcao imputa_bairro()\n",
    "df1_relatorio['Bairro'] = df1_relatorio.apply(lambda x: x['Bairro'] if pd.notnull(x['Bairro']) \\\n",
    "                                else imputa_bairro(x['Rua'], df1_relatorio), axis=1)"
   ]
  },
  {
   "cell_type": "code",
   "execution_count": null,
   "metadata": {},
   "outputs": [],
   "source": [
    "# checando novamente o número de valores nulos na coluna bairro após a primeira limpeza\n",
    "df1_relatorio.isna().sum()[df1_relatorio.isna().sum() > 0]"
   ]
  },
  {
   "cell_type": "markdown",
   "metadata": {},
   "source": [
    "Como restou apenas um imóvel com valor nulo na coluna 'Bairro', iremos removê-lo do dataset."
   ]
  },
  {
   "cell_type": "code",
   "execution_count": null,
   "metadata": {},
   "outputs": [],
   "source": [
    "# dropando o dado com valor nulo\n",
    "df1_relatorio.dropna(subset=['Bairro'], inplace=True)\n",
    "\n",
    "# checando novamente a quantiadde de valores nulos\n",
    "print(f'Total de valores nulos na coluna Bairro = {df1_relatorio[\"Bairro\"].isna().sum()}')"
   ]
  },
  {
   "cell_type": "markdown",
   "metadata": {},
   "source": [
    "Restaram agora apenas as ruas com valores nulos, uma das soluções para imputar a variável Rua seria obter uma Rua aleatória do mesmo bairro do dado em questão, outra solução seria simplesmente deletar todos os dados com valores de Rua faltante."
   ]
  },
  {
   "cell_type": "markdown",
   "metadata": {},
   "source": [
    "Após analisar o resultado da nossa atribuição de ruas, vimos que, examinando as ruas dos imóveis no Google Maps, algumas não condiziam com os dados dos imóveis, seja em tamanho do imóvel ou em valor. Gerando assim, resultados totalmente diferentes e imprecisos na montagem dos gráficos.\n",
    "\n",
    "Como não queríamos perder cerca de 35% dos dados decidimos manter os imóveis que tinham a rua como valor nulo e focar nossa análise a partir dos bairros."
   ]
  },
  {
   "cell_type": "markdown",
   "metadata": {},
   "source": [
    "<a id=\"Pre-processamento\"></a>"
   ]
  },
  {
   "cell_type": "markdown",
   "metadata": {},
   "source": [
    "### Pré-processamento:"
   ]
  },
  {
   "cell_type": "markdown",
   "metadata": {},
   "source": [
    "- #### Adicionando nova coluna"
   ]
  },
  {
   "cell_type": "code",
   "execution_count": null,
   "metadata": {},
   "outputs": [],
   "source": [
    "# Já mostrado na fase 2, apenas adicionando ao dataframe do relatório\n",
    "\n",
    "df1_relatorio['Valor_m2'] = df1_relatorio['Valor'] / df1_relatorio['Metragem']"
   ]
  },
  {
   "cell_type": "markdown",
   "metadata": {},
   "source": [
    "- #### Fazendo ajustes adicionais"
   ]
  },
  {
   "cell_type": "markdown",
   "metadata": {},
   "source": [
    "Descobrimos que no dataset havia na coluna 'Bairro' os valores Jardim Europa, Jardim Paulista, Jardim Paulistano, Jardim América e Jardins. Porém os quatro primeiros formam a Região dos Jardins, como não sabemos de qual bairro são os imóveis que estão em Jardins decidimos alterar o nome dos quatro primeiros para Jardins."
   ]
  },
  {
   "cell_type": "code",
   "execution_count": null,
   "metadata": {
    "scrolled": false
   },
   "outputs": [],
   "source": [
    "df1_relatorio[df1_relatorio['Bairro'].str.contains('Jardim América') \n",
    "            | df1_relatorio['Bairro'].str.contains('Jardim Europa')\n",
    "            | df1_relatorio['Bairro'].str.contains('Jardim Paulista')\n",
    "            | df1_relatorio['Bairro'].str.contains('Jardim América')]\n",
    "\n",
    "df1_relatorio['Bairro'] = df1_relatorio['Bairro'].replace({'Jardim Europa': 'Jardins', 'Jardim Paulista': 'Jardins',\n",
    "                                           'Jardim Paulistano': 'Jardins', 'Jardim América': 'Jardins'})\n",
    "\n",
    "df1_relatorio[df1_relatorio['Bairro'].str.contains('Jardins')]"
   ]
  },
  {
   "cell_type": "markdown",
   "metadata": {},
   "source": [
    "Feita a alteração descobrimos um imóvel no dataframe acima, com valor errado, possívelmente são valores de aluguel que conseguiu \"escapar\" da remoção dos imóveis para alugar feita anteriormente."
   ]
  },
  {
   "cell_type": "code",
   "execution_count": null,
   "metadata": {
    "scrolled": true
   },
   "outputs": [],
   "source": [
    "# Verificando se existem imóveis nas mesmas condições\n",
    "df1_relatorio[df1_relatorio['Valor'] < 100000]\n"
   ]
  },
  {
   "cell_type": "markdown",
   "metadata": {},
   "source": [
    "- #### Removendo imóveis desproporcionais"
   ]
  },
  {
   "cell_type": "markdown",
   "metadata": {},
   "source": [
    "Consideramos os imóveis acima com valores desproporcionais, isso fez com que verificássemos se haviam outros imóveis nas mesmas condições, com isso adiantamos a remoção de alguns outliers que será feita na sua totalidade posteriormente."
   ]
  },
  {
   "cell_type": "markdown",
   "metadata": {},
   "source": [
    "Verificando as Vagas:"
   ]
  },
  {
   "cell_type": "code",
   "execution_count": null,
   "metadata": {},
   "outputs": [],
   "source": [
    "# Verifica imoveis com vagas maiores ou iguais a 30 e remove-os\n",
    "\n",
    "df1_relatorio[df1_relatorio['Vagas'] >= 30]"
   ]
  },
  {
   "cell_type": "markdown",
   "metadata": {},
   "source": [
    "Verificando a Metragem:"
   ]
  },
  {
   "cell_type": "code",
   "execution_count": null,
   "metadata": {
    "scrolled": true
   },
   "outputs": [],
   "source": [
    "df1_relatorio[(df1_relatorio['Metragem'] >= 35000)]"
   ]
  },
  {
   "cell_type": "markdown",
   "metadata": {},
   "source": [
    "Verificando esses 3 imóveis no Google Maps, o único que justifica a metragem é o [primeiro](https://www.google.com/maps/place/R.+Benedito+Felizardo+-+S%C3%ADtio+Represa,+S%C3%A3o+Paulo+-+SP,+04894-050/@-23.859371,-46.7590753,596m/data=!3m1!1e3!4m6!3m5!1s0x94ce35f780d51817:0xe34c80ddc522663!8m2!3d-23.8594419!4d-46.7579088!16s%2Fg%2F1ymywlvwk?entry=ttu), que está localizado em um bairro de chácaras.\n",
    "\n",
    "Verificando a rua do terceiro no [Google Maps](https://www.google.com/maps/@-23.5821794,-46.7074039,844m/data=!3m1!1e3?entry=ttu) não há nenhum imóvel que justifique os 750000 metros quadrados, o mesmo se aplica ao segundo imóvel, sendo assim, optamos por excluí-los do dataset."
   ]
  },
  {
   "cell_type": "code",
   "execution_count": null,
   "metadata": {},
   "outputs": [],
   "source": [
    "df1_relatorio[(df1_relatorio['Metragem'] <= 50) & (df1_relatorio['Quartos'] >= 3)]"
   ]
  },
  {
   "cell_type": "markdown",
   "metadata": {},
   "source": [
    "Verificando os Quartos:\n",
    "\n",
    "Nesta seção iremos procurar imóveis que possuem valores fora da realidade para imóveis com uma quantidade definida de quartos.\n",
    "\n",
    "Iremos comparar principalmente a quantidade de quartos e a metragem do imóvel."
   ]
  },
  {
   "cell_type": "code",
   "execution_count": null,
   "metadata": {},
   "outputs": [],
   "source": [
    "df1_relatorio[(df1_relatorio['Quartos'] >= 10) & (df1_relatorio['Valor'] <= 1000000) & (df1_relatorio['Metragem'] <= 400)]"
   ]
  },
  {
   "cell_type": "code",
   "execution_count": null,
   "metadata": {
    "scrolled": true
   },
   "outputs": [],
   "source": [
    "df1_relatorio[(df1_relatorio['Quartos'] >= 10) & (df1_relatorio['Metragem'] <= 300)]"
   ]
  },
  {
   "cell_type": "markdown",
   "metadata": {},
   "source": [
    "Verificando os Banheiros:"
   ]
  },
  {
   "cell_type": "code",
   "execution_count": null,
   "metadata": {
    "scrolled": true
   },
   "outputs": [],
   "source": [
    "df1_relatorio[df1_relatorio['Banheiros'] >= 15]"
   ]
  },
  {
   "cell_type": "markdown",
   "metadata": {},
   "source": [
    "Verificando as Vagas:"
   ]
  },
  {
   "cell_type": "code",
   "execution_count": null,
   "metadata": {},
   "outputs": [],
   "source": [
    "df1_relatorio[(df1_relatorio['Vagas'] >= 20)]"
   ]
  },
  {
   "cell_type": "markdown",
   "metadata": {},
   "source": [
    "Se observarmos as tabelas acima vemos que alguns imóveis possuem exatamente os mesmos valores. Consideramos que esses imóveis estão duplicados e iremos removê-los.\n",
    "\n",
    "Analisando-as com atenção, temos outros imóveis que a única diferença entre os duplicados e eles é um acréscimo de exatamente 5 metros quadrados na Metragem. \n",
    "\n",
    "Consideramos assim que são os mesmos que estão duplicados. Por fim, removeremos além dos duplicados os que possuem este acréscimo."
   ]
  },
  {
   "cell_type": "code",
   "execution_count": null,
   "metadata": {},
   "outputs": [],
   "source": [
    "df2_relatorio = df1_relatorio.copy()"
   ]
  },
  {
   "cell_type": "code",
   "execution_count": null,
   "metadata": {},
   "outputs": [],
   "source": [
    "df2_relatorio.drop_duplicates(subset=df2_relatorio.columns.difference(['Metragem', 'Valor_m2']), inplace=True)"
   ]
  },
  {
   "cell_type": "code",
   "execution_count": null,
   "metadata": {},
   "outputs": [],
   "source": [
    "# Removido os duplicados, antes de remover os que consideramos irreais, iremos salvar alguns casos curiosos que identificamos no dataset\n",
    "df_curiosos = pd.DataFrame(columns=df2_relatorio.columns)\n",
    "\n",
    "df_curiosos = df_curiosos.append(df2_relatorio[df2_relatorio['Valor'] < 100000])\n",
    "df_curiosos = df_curiosos.append(df2_relatorio[df2_relatorio['Metragem'] == 750000])\n",
    "df_curiosos = df_curiosos.append(df2_relatorio[(df2_relatorio['Metragem'] <= 50) & (df2_relatorio['Quartos'] >= 3)])\n",
    "df_curiosos = df_curiosos.append(df2_relatorio[df2_relatorio['Banheiros'] > 16])\n",
    "df_curiosos"
   ]
  },
  {
   "cell_type": "markdown",
   "metadata": {},
   "source": [
    "Deletando os imóveis considerados desproporcionais:"
   ]
  },
  {
   "cell_type": "code",
   "execution_count": null,
   "metadata": {},
   "outputs": [],
   "source": [
    "df2_relatorio.drop(df2_relatorio[df2_relatorio['Valor'] <= 15000].index, inplace=True)\n",
    "\n",
    "df2_relatorio.drop(df2_relatorio[df2_relatorio['Vagas'] >= 30].index, inplace = True)\n",
    "\n",
    "df2_relatorio.drop(df2_relatorio[(df2_relatorio['Metragem'] == 35677) | (df2_relatorio['Metragem'] == 750000)].index, inplace = True)\n",
    "\n",
    "df2_relatorio.drop(df2_relatorio[(df2_relatorio['Quartos'] >= 10) & (df2_relatorio['Valor'] <= 1000000) & (df2_relatorio['Metragem'] <= 400)].index, inplace = True)\n",
    "\n",
    "df2_relatorio.drop(df2_relatorio[(df2_relatorio['Quartos'] >= 10) & (df2_relatorio['Metragem'] <= 300)].index, inplace = True)\n",
    "\n",
    "df2_relatorio.drop(df2_relatorio[df2_relatorio['Banheiros'] >= 15].index, inplace = True)\n",
    "\n",
    "df2_relatorio.drop(df2_relatorio[(df2_relatorio['Metragem'] <= 50) & (df2_relatorio['Quartos'] >= 3)].index, inplace = True)"
   ]
  },
  {
   "cell_type": "markdown",
   "metadata": {},
   "source": [
    "- #### Removendo os outliers"
   ]
  },
  {
   "cell_type": "markdown",
   "metadata": {},
   "source": [
    "Como visto na fase 3, temos outliers que estão distorcendo os gráficos, a função [find_outliers_tucker()](#Funções) remove-os fazendo com que os gráficos fiquem proporcionais e legíveis"
   ]
  },
  {
   "cell_type": "code",
   "execution_count": null,
   "metadata": {},
   "outputs": [],
   "source": [
    "# Removendo outliers na coluna Metragem\n",
    "\n",
    "indexes_of_outliers = find_outliers_tucker(df2_relatorio['Metragem'])\n",
    "df2_relatorio = df2_relatorio.drop(indexes_of_outliers)\n",
    "\n",
    "# Removendo outliers na coluna Quartos\n",
    "\n",
    "indexes_of_outliers = find_outliers_tucker(df2_relatorio['Quartos'])\n",
    "df2_relatorio = df2_relatorio.drop(indexes_of_outliers)\n",
    "\n",
    "# Removendo outliers na coluna Banheiros\n",
    "\n",
    "indexes_of_outliers = find_outliers_tucker(df2_relatorio['Banheiros'])\n",
    "df2_relatorio = df2_relatorio.drop(indexes_of_outliers)\n",
    "\n",
    "# Removendo outliers na coluna Vagas\n",
    "\n",
    "indexes_of_outliers = find_outliers_tucker(df2_relatorio['Vagas'])\n",
    "df2_relatorio = df2_relatorio.drop(indexes_of_outliers)\n",
    "\n",
    "# Removendo outliers na coluna Valor\n",
    "\n",
    "indexes_of_outliers = find_outliers_tucker(df2_relatorio['Valor'])\n",
    "df2_relatorio = df2_relatorio.drop(indexes_of_outliers)\n",
    "\n",
    "# Removendo outliers na coluna Valor_m2\n",
    "\n",
    "indexes_of_outliers = find_outliers_tucker(df2_relatorio['Valor_m2'])\n",
    "df2_relatorio = df2_relatorio.drop(indexes_of_outliers)"
   ]
  },
  {
   "cell_type": "markdown",
   "metadata": {},
   "source": [
    "<a id=\"Graficos\"></a>"
   ]
  },
  {
   "cell_type": "markdown",
   "metadata": {},
   "source": [
    "### Gráficos"
   ]
  },
  {
   "cell_type": "markdown",
   "metadata": {},
   "source": [
    "- #### Boxplots"
   ]
  },
  {
   "cell_type": "code",
   "execution_count": null,
   "metadata": {
    "scrolled": false
   },
   "outputs": [],
   "source": [
    "fig, ax = plt.subplots(nrows=3, ncols=2, figsize=(10, 8))\n",
    "\n",
    "# Boxplot da variável Metragem\n",
    "sns.boxplot(data=df2_relatorio, y='Metragem', ax=ax[0, 0])\n",
    "ax[0, 0].set_title('Boxplot da variável Metragem')\n",
    "\n",
    "# Boxplot da variável Quartos\n",
    "sns.boxplot(data=df2_relatorio, y='Quartos', ax=ax[0, 1])\n",
    "ax[0, 1].set_title('Boxplot da variável Quartos')\n",
    "\n",
    "# Boxplot da variável Banheiros\n",
    "sns.boxplot(data=df2_relatorio, y='Banheiros', ax=ax[1, 0])\n",
    "ax[1, 0].set_title('Boxplot da variável Banheiros')\n",
    "\n",
    "# Boxplot da variável Vagas\n",
    "sns.boxplot(data=df2_relatorio, y='Vagas', ax=ax[1, 1])\n",
    "ax[1, 1].set_title('Boxplot da variável Vagas')\n",
    "\n",
    "# Boxplot da variável Valor\n",
    "sns.boxplot(data=df2_relatorio, y='Valor', ax=ax[2, 0])\n",
    "ax[2, 0].set_title('Boxplot da variável Valor')\n",
    "\n",
    "# Boxplot da variável Valor_m2\n",
    "sns.boxplot(data=df2_relatorio, y='Valor_m2', ax=ax[2, 1])\n",
    "ax[2, 1].set_title('Boxplot da variável Valor_m2')\n",
    "\n",
    "plt.tight_layout()\n",
    "\n",
    "plt.show()"
   ]
  },
  {
   "cell_type": "markdown",
   "metadata": {},
   "source": [
    "- #### Analisando as variáveis numéricas"
   ]
  },
  {
   "cell_type": "markdown",
   "metadata": {},
   "source": [
    "`Metragem`"
   ]
  },
  {
   "cell_type": "code",
   "execution_count": null,
   "metadata": {},
   "outputs": [],
   "source": [
    "fig, ax = plt.subplots(nrows=2, ncols=2, figsize=(10, 8))\n",
    "\n",
    "# Gráfico de Histograma\n",
    "sns.histplot(data=df2_relatorio, x='Metragem', ax=ax[0, 0])#, kde = True, log_scale = True, bins = 25)\n",
    "ax[0, 0].set_title('Histograma da variável Metragem')\n",
    "\n",
    "# Gráfico de Densidade\n",
    "sns.kdeplot(data=df2_relatorio, x='Metragem', ax=ax[0, 1])\n",
    "ax[0, 1].set_title('Density Plot')\n",
    "\n",
    "# Gráfico de Boxplot\n",
    "sns.boxplot(data=df2_relatorio, y='Metragem', ax=ax[1, 0])\n",
    "ax[1, 0].set_title('Boxplot')\n",
    "\n",
    "# Gráfico de Scatter Plot\n",
    "sns.scatterplot(data=df2_relatorio, y='Valor', x='Metragem', ax=ax[1, 1])\n",
    "ax[1, 1].set_title('Scatter Plot')\n",
    "\n",
    "plt.tight_layout()\n",
    "\n",
    "plt.show()"
   ]
  },
  {
   "cell_type": "code",
   "execution_count": null,
   "metadata": {
    "scrolled": false
   },
   "outputs": [],
   "source": [
    "# Gráfico de Regressão \n",
    "fig, ax = plt.subplots(figsize=(10, 8))\n",
    "sns.regplot(data=df2_relatorio, y='Valor', x='Metragem', marker='.',color='.3', line_kws=dict(color=\"r\"))\n",
    "ax.set_title('Gráfico de Regressão Linear')\n",
    "\n",
    "plt.tight_layout()\n",
    "plt.show()"
   ]
  },
  {
   "cell_type": "markdown",
   "metadata": {},
   "source": [
    "`Quartos`"
   ]
  },
  {
   "cell_type": "code",
   "execution_count": null,
   "metadata": {
    "scrolled": false
   },
   "outputs": [],
   "source": [
    "fig, ax = plt.subplots(nrows=2, ncols=1, figsize=(10, 10))\n",
    "\n",
    "# Gráficos de Contagem\n",
    "\n",
    "sns.countplot(data=df2_relatorio, x='Quartos', ax=ax[0])\n",
    "ax[0].set_title('Quantidade de imóveis x Quantidade de Quartos', size = 20)\n",
    "ax[0].set_ylabel('Contagem de Imóveis')\n",
    "\n",
    "sns.countplot(data=df1_relatorio[(df1_relatorio['Quartos'] > 5)], x='Quartos', ax=ax[1])\n",
    "ax[1].set_title('Quantidade de imóveis x Quantidade de Quartos (a partir de 6 quartos)', size = 20)\n",
    "ax[1].set_ylabel('Contagem de Imóveis')\n",
    "\n",
    "\n",
    "plt.tight_layout()\n",
    "\n",
    "plt.show()"
   ]
  },
  {
   "cell_type": "code",
   "execution_count": null,
   "metadata": {
    "scrolled": false
   },
   "outputs": [],
   "source": [
    "# Gráfico de Boxplot\n",
    "fig, ax = plt.subplots(figsize=(5, 4))\n",
    "\n",
    "sns.boxplot(data=df1_relatorio, y='Quartos')\n",
    "ax.set_title('Boxplot')\n",
    "\n",
    "plt.tight_layout()\n",
    "\n",
    "plt.show()\n"
   ]
  },
  {
   "cell_type": "markdown",
   "metadata": {},
   "source": [
    "`Banheiros`"
   ]
  },
  {
   "cell_type": "code",
   "execution_count": null,
   "metadata": {
    "scrolled": false
   },
   "outputs": [],
   "source": [
    "fig, ax = plt.subplots(nrows=2, ncols=1, figsize=(10, 10))\n",
    "\n",
    "# Gráficos de Contagem\n",
    "sns.countplot(data=df2_relatorio[(df2_relatorio['Banheiros'] >= 1) & (df1_relatorio['Banheiros'] <= 5)], x='Banheiros', ax=ax[0])\n",
    "ax[0].set_title('Quantidade de imóveis x Quantidade de Banheiros', size = 20)\n",
    "ax[0].set_ylabel('Contagem de Imóveis')\n",
    "\n",
    "sns.countplot(data=df2_relatorio[(df2_relatorio['Banheiros'] >= 6) & (df1_relatorio['Banheiros'] <= 9)], x='Banheiros', ax=ax[1])\n",
    "ax[1].set_title('Quantidade de imóveis x Quantidade de Banheiros (entre 6 e 9 banheiros)', size = 20)\n",
    "ax[1].set_ylabel('Contagem de Imóveis')\n",
    "\n",
    "\n",
    "plt.tight_layout()\n",
    "\n",
    "plt.show()"
   ]
  },
  {
   "cell_type": "code",
   "execution_count": null,
   "metadata": {},
   "outputs": [],
   "source": [
    "# Gráfico de Boxplot\n",
    "fig, ax = plt.subplots(figsize=(5, 4))\n",
    "\n",
    "sns.boxplot(data=df2_relatorio, y='Banheiros')\n",
    "ax.set_title('Boxplot')\n",
    "\n",
    "plt.tight_layout()\n",
    "\n",
    "plt.show()\n"
   ]
  },
  {
   "cell_type": "markdown",
   "metadata": {},
   "source": [
    "`Vagas`"
   ]
  },
  {
   "cell_type": "code",
   "execution_count": null,
   "metadata": {
    "scrolled": false
   },
   "outputs": [],
   "source": [
    "fig, ax = plt.subplots(nrows=2, ncols=2, figsize=(10, 8))\n",
    "\n",
    "# Gráfico de Contagem\n",
    "sns.countplot(data=df2_relatorio, x='Vagas', ax=ax[0, 0])\n",
    "ax[0, 0].set_title('Quantidade de imóveis x Quantidade de Vagas')\n",
    "\n",
    "# Gráfico de Densidade\n",
    "sns.kdeplot(data=df2_relatorio, x='Vagas', ax=ax[0, 1])\n",
    "ax[0, 1].set_title('Density Plot')\n",
    "\n",
    "# Gráfico de Boxplot\n",
    "sns.boxplot(data=df2_relatorio, y='Vagas', ax=ax[1, 0])\n",
    "ax[1, 0].set_title('Boxplot')\n",
    "\n",
    "# Gráfico de Scatter Plot\n",
    "sns.scatterplot(data=df2_relatorio, x='Valor', y='Vagas', ax=ax[1, 1])\n",
    "ax[1, 1].set_title('Scatter Plot')\n",
    "\n",
    "plt.tight_layout()\n",
    "\n",
    "plt.show()"
   ]
  },
  {
   "cell_type": "markdown",
   "metadata": {},
   "source": [
    "`Valor`"
   ]
  },
  {
   "cell_type": "code",
   "execution_count": null,
   "metadata": {
    "scrolled": false
   },
   "outputs": [],
   "source": [
    "fig, ax = plt.subplots(nrows=2, ncols=1, figsize=(10, 8))\n",
    "\n",
    "# Gráfico de Histograma\n",
    "sns.histplot(data=df2_relatorio, x='Valor', ax=ax[0], kde=True)\n",
    "ax[0].set_title('Histograma da variável Valor')\n",
    "\n",
    "# Gráfico de Boxplot\n",
    "sns.boxplot(data=df2_relatorio, y='Valor', ax=ax[1])\n",
    "ax[1].set_title('Boxplot')\n",
    "\n",
    "\n",
    "plt.tight_layout()\n",
    "\n",
    "plt.show()"
   ]
  },
  {
   "cell_type": "markdown",
   "metadata": {},
   "source": [
    "`Valor_m2`"
   ]
  },
  {
   "cell_type": "code",
   "execution_count": null,
   "metadata": {
    "scrolled": false
   },
   "outputs": [],
   "source": [
    "fig, ax = plt.subplots(nrows=2, ncols=1, figsize=(10, 8))\n",
    "\n",
    "# Gráfico de Histograma\n",
    "\n",
    "sns.histplot(data=df2_relatorio, x='Valor_m2', ax=ax[0], kde=True)\n",
    "ax[0].set_title('Histograma da variável Valor_m2')\n",
    "\n",
    "# Gráfico de Boxplot\n",
    "sns.boxplot(data=df2_relatorio, y='Valor_m2', ax=ax[1])\n",
    "ax[1].set_title('Boxplot')\n",
    "\n",
    "plt.tight_layout()\n",
    "\n",
    "plt.show()"
   ]
  },
  {
   "cell_type": "markdown",
   "metadata": {},
   "source": [
    "- #### Analisando as variáveis categóricas"
   ]
  },
  {
   "cell_type": "markdown",
   "metadata": {},
   "source": [
    "`Rua`"
   ]
  },
  {
   "cell_type": "code",
   "execution_count": null,
   "metadata": {},
   "outputs": [],
   "source": [
    "# Esses 2 imóveis foram removidos, o primeiro estava com erro de digitação não sendo possível identificar o nome\n",
    "# Já no segundo o nome da rua se referia à um nome de uma praça\n",
    "\n",
    "df1_relatorio.drop(2906, inplace=True)\n",
    "df1_relatorio.drop(1530, inplace=True)"
   ]
  },
  {
   "cell_type": "code",
   "execution_count": null,
   "metadata": {
    "scrolled": false
   },
   "outputs": [],
   "source": [
    "fig, ax = plt.subplots(figsize=(10, 5))\n",
    "\n",
    "df_rua = df1_relatorio.sort_values(by='Valor', ascending = False)\n",
    "\n",
    "sns.barplot(data = df_rua[:25], x = 'Valor', y='Rua')\n",
    "ax.set_title('Ruas com os imóveis mais caros', size=18)\n",
    "ax.set_ylabel('Rua', size=12)\n",
    "ax.set_xlabel('Valor (milhões de reais)', size=12)\n",
    "\n",
    "plt.tight_layout()\n",
    "\n",
    "plt.show()"
   ]
  },
  {
   "cell_type": "markdown",
   "metadata": {},
   "source": [
    "`Bairro`"
   ]
  },
  {
   "cell_type": "code",
   "execution_count": null,
   "metadata": {},
   "outputs": [],
   "source": [
    "fig, ax = plt.subplots(figsize=(10, 5))\n",
    "\n",
    "df_bairros = df1_relatorio.sort_values(by='Valor', ascending = False)\n",
    "\n",
    "sns.barplot(data=df_bairros[:80], x = 'Valor', y='Bairro')\n",
    "ax.set_title('Bairros com os imóveis mais caros', size=18)\n",
    "ax.set_ylabel('Bairro', size=12)\n",
    "ax.set_xlabel('Valor (milhões de reais)', size=12)\n",
    "\n",
    "plt.tight_layout()\n",
    "\n",
    "plt.show()"
   ]
  },
  {
   "cell_type": "markdown",
   "metadata": {},
   "source": [
    "<a id=\"Perguntas\"></a>"
   ]
  },
  {
   "cell_type": "markdown",
   "metadata": {},
   "source": [
    "### Perguntas"
   ]
  },
  {
   "cell_type": "markdown",
   "metadata": {},
   "source": [
    "Utilizaremos o `df2_relatorio` por estar com os dados mais tratados, tentamos responder as perguntas utilizando o `df1_relatório` que está menos tratado, porém, como foi observado anteriormente haviam muitos dados que não tinham lógica concreta na existência, consequentemente não obtivemos resultados condizentes com a realidade. Optamos então, sacrificar alguns imóveis para obter dados mais próximos do real possível."
   ]
  },
  {
   "cell_type": "code",
   "execution_count": null,
   "metadata": {},
   "outputs": [],
   "source": [
    "df3_relatorio = df2_relatorio.copy()"
   ]
  },
  {
   "cell_type": "markdown",
   "metadata": {},
   "source": [
    " 1) **Quais os bairros onde os imóveis são mais valorizados, na média?**"
   ]
  },
  {
   "cell_type": "code",
   "execution_count": null,
   "metadata": {},
   "outputs": [],
   "source": [
    "df_p1 = df3_relatorio.groupby('Bairro').agg({'Valor': 'mean'}).sort_values(by='Valor', ascending=False)\\\n",
    "    .reset_index()\n",
    "df_p2 = df3_relatorio.groupby('Bairro').agg({'Valor': 'median'}).sort_values(by='Valor', ascending=False)\\\n",
    "    .reset_index()"
   ]
  },
  {
   "cell_type": "code",
   "execution_count": null,
   "metadata": {},
   "outputs": [],
   "source": [
    "fig, ax = plt.subplots(figsize=(18, 10))\n",
    "\n",
    "sns.barplot(data=df_p1[:10], x='Bairro', y='Valor', ax=ax)\n",
    "ax.set_title('Bairros por Valor Médio', size=28)\n",
    "ax.set_ylabel('Preço médio (milhões de reais)', size=22)\n",
    "ax.set_xlabel('Bairro', size=22)\n",
    "\n",
    "plt.tight_layout()\n",
    "\n",
    "plt.show()"
   ]
  },
  {
   "cell_type": "code",
   "execution_count": null,
   "metadata": {},
   "outputs": [],
   "source": [
    "fig, ax = plt.subplots(figsize=(18, 10))\n",
    "\n",
    "sns.barplot(data=df_p2[:10], x='Bairro', y='Valor', ax=ax)\n",
    "ax.set_title('Bairros por Valor Mediano', size=28)\n",
    "ax.set_ylabel('Preço mediano (milhões de reais)', size=22)\n",
    "ax.set_xlabel('Bairro', size=22)\n",
    "\n",
    "plt.tight_layout()\n",
    "\n",
    "plt.show()"
   ]
  },
  {
   "cell_type": "markdown",
   "metadata": {},
   "source": [
    "2) **Qual o preço médio do m2 nos bairros mais valorizados?**"
   ]
  },
  {
   "cell_type": "code",
   "execution_count": null,
   "metadata": {},
   "outputs": [],
   "source": [
    "fig, ax = plt.subplots(figsize=(18, 10))\n",
    "\n",
    "df_preco_m2 = df3_relatorio.groupby('Bairro').agg({'Valor': 'mean', 'Valor_m2':'mean'}).sort_values(by='Valor', ascending=False)\\\n",
    "    .reset_index()[:10]\n",
    "\n",
    "del df_preco_m2['Valor']\n",
    "\n",
    "df_preco_m2_sorted = df_preco_m2.sort_values(by='Valor_m2', ascending=False)\n",
    "\n",
    "sns.barplot(data=df_preco_m2_sorted, x = 'Bairro', y = 'Valor_m2')\n",
    "ax.set_title('Preço médio do m2 por bairro', size=28)\n",
    "ax.set_ylabel('Preço médio do m2', size=22)\n",
    "ax.set_xlabel('Bairro', size=22)\n",
    "\n",
    "plt.tight_layout()\n",
    "\n",
    "plt.show()"
   ]
  },
  {
   "cell_type": "markdown",
   "metadata": {},
   "source": [
    "3) **Cerca de 80% dos imóveis estão abaixo dos R$ 2.000.000,00?**"
   ]
  },
  {
   "cell_type": "code",
   "execution_count": null,
   "metadata": {},
   "outputs": [],
   "source": [
    "fig, ax = plt.subplots(figsize=(18, 10))\n",
    "\n",
    "df_p3 = df3_relatorio.reset_index()\n",
    "total_imoveis = df_p3.shape[0]\n",
    "\n",
    "sns.barplot(y = [((df_p3[df_p3['Valor'] < 2000000].shape[0]) / total_imoveis) * 100, ((df_p3[df_p3['Valor'] >= 2000000].shape[0]) / total_imoveis) * 100], x = ['Abaixo de 2 Milhões','Acima de 2 Milhões'])\n",
    "ax.set_title('Porcentagem de Imóveis Abaixo e Acima de R$ 2.000.000,00', size = 28)\n",
    "ax.set_ylabel('Porcentagem', size = 22)\n",
    "ax.set_xlabel('Imóveis',size = 22)\n",
    "\n",
    "plt.tight_layout()\n",
    "\n",
    "plt.show()\n"
   ]
  },
  {
   "cell_type": "markdown",
   "metadata": {},
   "source": [
    "Errado, como podemos ver no gráfico acima, os imóveis abaixo de 2 milhões correspondem à um pouco mais de 60% do total de imóveis no dataset."
   ]
  },
  {
   "cell_type": "markdown",
   "metadata": {},
   "source": [
    "4) **A coluna metragem possui um valor de correlação de Pearson forte com o preço do imóvel (pelo menos 0.6)?**\n",
    "\n",
    "**VERDADEIRO**. A correlação entre `Metragem` e `Valor` é de 0.79, sendo acima de 0.6 e considerada FORTE."
   ]
  },
  {
   "cell_type": "code",
   "execution_count": null,
   "metadata": {},
   "outputs": [],
   "source": [
    "correlation = df3_relatorio.corr( method='pearson' )\n",
    "sns.heatmap( correlation, cmap='mako', annot=True );"
   ]
  },
  {
   "cell_type": "markdown",
   "metadata": {},
   "source": [
    "Ao visualizar o gráfico acima nota-se o valor de 0.79 como a correlação entre as colunas `Valor` e `Metragem`, este valor de 0.79 é acima do limite estabelecido de 0.6 e também é considerado um valor classificado como FORTE para correlação entre duas variáveis numéricas. Portanto a nossa pergunta foi validada como VERDADEIRA."
   ]
  },
  {
   "cell_type": "markdown",
   "metadata": {},
   "source": [
    "5. **Para cada unidade acrescida na quantidade de 'Quartos', o preço médio dos imóveis aumenta em 10%?**\n",
    "\n",
    "**ERRADO**."
   ]
  },
  {
   "cell_type": "code",
   "execution_count": null,
   "metadata": {},
   "outputs": [],
   "source": [
    "df_p6 = df3_relatorio.groupby('Quartos').agg({\"Valor\": \"mean\"}).reset_index()\n",
    "df_p6.sort_values(by='Valor').head(10)"
   ]
  },
  {
   "cell_type": "code",
   "execution_count": null,
   "metadata": {},
   "outputs": [],
   "source": [
    "media_por_quarto = df_p6['Valor'].pct_change() * 100\n",
    "media_por_quarto"
   ]
  },
  {
   "cell_type": "code",
   "execution_count": null,
   "metadata": {},
   "outputs": [],
   "source": [
    "print(f\"O aumento percentual médio no preço do Imóvel ao acrescentar um Quarto foi de {media_por_quarto.mean():.2f}% na média.\")"
   ]
  },
  {
   "cell_type": "code",
   "execution_count": null,
   "metadata": {
    "scrolled": false
   },
   "outputs": [],
   "source": [
    "fig, ax = plt.subplots(figsize=(10, 4))\n",
    "\n",
    "sns.lineplot(x=['2-2', '2-3', '3-4', '4-5'], y=media_por_quarto, ax=ax)\n",
    "ax.set_title('Aumento percentual médio no preço do Imóvel por quantidade de Quartos')\n",
    "ax.set_xlabel('De X para Y Quartos')\n",
    "ax.set_ylabel('Aumento percentual médio (%)')\n",
    "\n",
    "plt.show()"
   ]
  },
  {
   "cell_type": "markdown",
   "metadata": {},
   "source": [
    "<a id=\"Conclusao\"></a>"
   ]
  },
  {
   "cell_type": "markdown",
   "metadata": {},
   "source": [
    "### Conclusões"
   ]
  },
  {
   "cell_type": "markdown",
   "metadata": {},
   "source": [
    "Com base na análise dos dados dos imóveis, podemos tirar as seguintes conclusões:\n",
    "\n",
    "**Distribuição de Valores:** A maioria dos imóveis nesse dataset está concentrada em faixas de valor até R\\$ 2.000.000,00. Com aproximadamente 63\\% dos imóveis custando menos de R\\\\$ 2.000.000,00.\n",
    "\n",
    "**Localização:** Imóveis localizados em determinados bairros ou áreas urbanas têm um valor médio significativamente mais alto em comparação com outras regiões. Verificando no maps, os bairros que possuem o preço médio por metro quadrado mais altos, estão relativamente próximos à Avenida Paulista.\n",
    "\n",
    "**Correlações:** Existem correlações positivas consideradas moderadas entre a metragem dos imóveis x (número de quartos, número de banheiros e número de vagas). E uma correlação forte entre o valor e a metragem dos imóveis. No primeiro caso, quanto maior o número de quartos, banheiros ou vagas, a metragem do imóvel tende a aumentar. No segundo caso, quanto na medida que metragem aumenta o valor do imóvel também aumenta.\n",
    "\n",
    "**Aumento no número de aposentos:** Vimos que para uma pessoa que esteja em dúvida entre adquirir um imóvel com 2 quartos ou um imóvel com 3 quartos, terá que desembolsar praticamente o dobro do valor do imóvel de 2 quartos.\n",
    "\n"
   ]
  },
  {
   "cell_type": "markdown",
   "metadata": {},
   "source": [
    "<a id=\"Curiosidades\"></a>"
   ]
  },
  {
   "cell_type": "markdown",
   "metadata": {},
   "source": [
    "### Curiosidades"
   ]
  },
  {
   "cell_type": "markdown",
   "metadata": {},
   "source": [
    "Encontramos no dataset alguns imóveis com valores curiosos:"
   ]
  },
  {
   "cell_type": "markdown",
   "metadata": {},
   "source": [
    "- Dois imóveis localizados em 2 dos bairros mais valorizados de São Paulo com preços atraentes"
   ]
  },
  {
   "cell_type": "code",
   "execution_count": null,
   "metadata": {},
   "outputs": [],
   "source": [
    "df_curiosos[df_curiosos['Valor'] < 16000]"
   ]
  },
  {
   "cell_type": "markdown",
   "metadata": {},
   "source": [
    "- Três imóveis com a metragem totalmente incompatível com a quantidade de quartos e banheiros:"
   ]
  },
  {
   "cell_type": "code",
   "execution_count": null,
   "metadata": {},
   "outputs": [],
   "source": [
    "df_curiosos[(df_curiosos['Metragem'] <= 37)]"
   ]
  },
  {
   "cell_type": "markdown",
   "metadata": {},
   "source": [
    "- Um imóvel com 40 banheiros"
   ]
  },
  {
   "cell_type": "code",
   "execution_count": null,
   "metadata": {},
   "outputs": [],
   "source": [
    "df_curiosos[(df_curiosos['Banheiros'] == 40)]"
   ]
  },
  {
   "cell_type": "markdown",
   "metadata": {},
   "source": [
    "- Um imóvel cuja metragem é aproximadamente o tamanho da metade da área total do bairro que se encontra"
   ]
  },
  {
   "cell_type": "code",
   "execution_count": null,
   "metadata": {},
   "outputs": [],
   "source": [
    "df_curiosos[(df_curiosos['Metragem'] > 500)]"
   ]
  },
  {
   "cell_type": "markdown",
   "metadata": {},
   "source": [
    "<img src=\"jardimguedala.png\" alt=\"Minha imagem de exemplo\" width=\"800\" height=\"480\">"
   ]
  }
 ],
 "metadata": {
  "kernelspec": {
   "display_name": "Python 3 (ipykernel)",
   "language": "python",
   "name": "python3"
  },
  "language_info": {
   "codemirror_mode": {
    "name": "ipython",
    "version": 3
   },
   "file_extension": ".py",
   "mimetype": "text/x-python",
   "name": "python",
   "nbconvert_exporter": "python",
   "pygments_lexer": "ipython3",
   "version": "3.11.4"
  }
 },
 "nbformat": 4,
 "nbformat_minor": 2
}
